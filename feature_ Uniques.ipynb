{
 "cells": [
  {
   "cell_type": "code",
   "execution_count": 1,
   "metadata": {},
   "outputs": [],
   "source": [
    "import numpy as np\n",
    "import pandas as pd \n",
    "import matplotlib.pyplot as plt\n",
    "import seaborn as sns \n",
    "import scipy.stats as st \n",
    "from tqdm import tqdm \n",
    "import os\n",
    "## Change directory to your working directory\n",
    "os.chdir('D:\\Shashi Katteri\\Desktop\\data sets to work on\\Amazon Employee Access\\Dataset_10')"
   ]
  },
  {
   "cell_type": "code",
   "execution_count": 2,
   "metadata": {},
   "outputs": [
    {
     "data": {
      "text/html": [
       "<div>\n",
       "<style scoped>\n",
       "    .dataframe tbody tr th:only-of-type {\n",
       "        vertical-align: middle;\n",
       "    }\n",
       "\n",
       "    .dataframe tbody tr th {\n",
       "        vertical-align: top;\n",
       "    }\n",
       "\n",
       "    .dataframe thead th {\n",
       "        text-align: right;\n",
       "    }\n",
       "</style>\n",
       "<table border=\"1\" class=\"dataframe\">\n",
       "  <thead>\n",
       "    <tr style=\"text-align: right;\">\n",
       "      <th></th>\n",
       "      <th>RESOURCE</th>\n",
       "      <th>MGR_ID</th>\n",
       "      <th>ROLE_ROLLUP_1</th>\n",
       "      <th>ROLE_ROLLUP_2</th>\n",
       "      <th>ROLE_DEPTNAME</th>\n",
       "      <th>ROLE_TITLE</th>\n",
       "      <th>ROLE_FAMILY_DESC</th>\n",
       "      <th>ROLE_FAMILY</th>\n",
       "      <th>ROLE_CODE</th>\n",
       "      <th>target</th>\n",
       "    </tr>\n",
       "  </thead>\n",
       "  <tbody>\n",
       "    <tr>\n",
       "      <td>0</td>\n",
       "      <td>39353</td>\n",
       "      <td>85475</td>\n",
       "      <td>117961</td>\n",
       "      <td>118300</td>\n",
       "      <td>123472</td>\n",
       "      <td>117905</td>\n",
       "      <td>117906</td>\n",
       "      <td>290919</td>\n",
       "      <td>117908</td>\n",
       "      <td>1</td>\n",
       "    </tr>\n",
       "    <tr>\n",
       "      <td>1</td>\n",
       "      <td>17183</td>\n",
       "      <td>1540</td>\n",
       "      <td>117961</td>\n",
       "      <td>118343</td>\n",
       "      <td>123125</td>\n",
       "      <td>118536</td>\n",
       "      <td>118536</td>\n",
       "      <td>308574</td>\n",
       "      <td>118539</td>\n",
       "      <td>1</td>\n",
       "    </tr>\n",
       "    <tr>\n",
       "      <td>2</td>\n",
       "      <td>36724</td>\n",
       "      <td>14457</td>\n",
       "      <td>118219</td>\n",
       "      <td>118220</td>\n",
       "      <td>117884</td>\n",
       "      <td>117879</td>\n",
       "      <td>267952</td>\n",
       "      <td>19721</td>\n",
       "      <td>117880</td>\n",
       "      <td>1</td>\n",
       "    </tr>\n",
       "    <tr>\n",
       "      <td>3</td>\n",
       "      <td>36135</td>\n",
       "      <td>5396</td>\n",
       "      <td>117961</td>\n",
       "      <td>118343</td>\n",
       "      <td>119993</td>\n",
       "      <td>118321</td>\n",
       "      <td>240983</td>\n",
       "      <td>290919</td>\n",
       "      <td>118322</td>\n",
       "      <td>1</td>\n",
       "    </tr>\n",
       "    <tr>\n",
       "      <td>4</td>\n",
       "      <td>42680</td>\n",
       "      <td>5905</td>\n",
       "      <td>117929</td>\n",
       "      <td>117930</td>\n",
       "      <td>119569</td>\n",
       "      <td>119323</td>\n",
       "      <td>123932</td>\n",
       "      <td>19793</td>\n",
       "      <td>119325</td>\n",
       "      <td>1</td>\n",
       "    </tr>\n",
       "  </tbody>\n",
       "</table>\n",
       "</div>"
      ],
      "text/plain": [
       "   RESOURCE  MGR_ID  ROLE_ROLLUP_1  ROLE_ROLLUP_2  ROLE_DEPTNAME  ROLE_TITLE  \\\n",
       "0     39353   85475         117961         118300         123472      117905   \n",
       "1     17183    1540         117961         118343         123125      118536   \n",
       "2     36724   14457         118219         118220         117884      117879   \n",
       "3     36135    5396         117961         118343         119993      118321   \n",
       "4     42680    5905         117929         117930         119569      119323   \n",
       "\n",
       "   ROLE_FAMILY_DESC  ROLE_FAMILY  ROLE_CODE  target  \n",
       "0            117906       290919     117908       1  \n",
       "1            118536       308574     118539       1  \n",
       "2            267952        19721     117880       1  \n",
       "3            240983       290919     118322       1  \n",
       "4            123932        19793     119325       1  "
      ]
     },
     "execution_count": 2,
     "metadata": {},
     "output_type": "execute_result"
    }
   ],
   "source": [
    "df=pd.read_csv('Amazon_employee_access.csv')\n",
    "df.head()"
   ]
  },
  {
   "cell_type": "code",
   "execution_count": 3,
   "metadata": {},
   "outputs": [],
   "source": [
    "df1=df.astype(str)\n",
    "df1['target']=df1['target'].astype(int)"
   ]
  },
  {
   "cell_type": "code",
   "execution_count": 4,
   "metadata": {},
   "outputs": [],
   "source": [
    "df1=df1.drop(['ROLE_TITLE','ROLE_FAMILY'],axis=1)\n"
   ]
  },
  {
   "cell_type": "code",
   "execution_count": 5,
   "metadata": {},
   "outputs": [],
   "source": [
    "df1['target']=df1['target'].map({1:0,0:1})"
   ]
  },
  {
   "cell_type": "code",
   "execution_count": 6,
   "metadata": {},
   "outputs": [],
   "source": [
    "df1['ROLLUP_12']=df1['ROLE_ROLLUP_1']+df1['ROLE_ROLLUP_2']\n",
    "df1=df1.drop(['ROLE_ROLLUP_1','ROLE_ROLLUP_2'],axis=1)"
   ]
  },
  {
   "cell_type": "code",
   "execution_count": 7,
   "metadata": {},
   "outputs": [
    {
     "data": {
      "text/html": [
       "<div>\n",
       "<style scoped>\n",
       "    .dataframe tbody tr th:only-of-type {\n",
       "        vertical-align: middle;\n",
       "    }\n",
       "\n",
       "    .dataframe tbody tr th {\n",
       "        vertical-align: top;\n",
       "    }\n",
       "\n",
       "    .dataframe thead th {\n",
       "        text-align: right;\n",
       "    }\n",
       "</style>\n",
       "<table border=\"1\" class=\"dataframe\">\n",
       "  <thead>\n",
       "    <tr style=\"text-align: right;\">\n",
       "      <th></th>\n",
       "      <th>RESOURCE</th>\n",
       "      <th>MGR_ID</th>\n",
       "      <th>ROLE_DEPTNAME</th>\n",
       "      <th>ROLE_FAMILY_DESC</th>\n",
       "      <th>ROLE_CODE</th>\n",
       "      <th>target</th>\n",
       "      <th>ROLLUP_12</th>\n",
       "    </tr>\n",
       "  </thead>\n",
       "  <tbody>\n",
       "    <tr>\n",
       "      <td>0</td>\n",
       "      <td>39353</td>\n",
       "      <td>85475</td>\n",
       "      <td>123472</td>\n",
       "      <td>117906</td>\n",
       "      <td>117908</td>\n",
       "      <td>0</td>\n",
       "      <td>117961118300</td>\n",
       "    </tr>\n",
       "    <tr>\n",
       "      <td>1</td>\n",
       "      <td>17183</td>\n",
       "      <td>1540</td>\n",
       "      <td>123125</td>\n",
       "      <td>118536</td>\n",
       "      <td>118539</td>\n",
       "      <td>0</td>\n",
       "      <td>117961118343</td>\n",
       "    </tr>\n",
       "    <tr>\n",
       "      <td>2</td>\n",
       "      <td>36724</td>\n",
       "      <td>14457</td>\n",
       "      <td>117884</td>\n",
       "      <td>267952</td>\n",
       "      <td>117880</td>\n",
       "      <td>0</td>\n",
       "      <td>118219118220</td>\n",
       "    </tr>\n",
       "    <tr>\n",
       "      <td>3</td>\n",
       "      <td>36135</td>\n",
       "      <td>5396</td>\n",
       "      <td>119993</td>\n",
       "      <td>240983</td>\n",
       "      <td>118322</td>\n",
       "      <td>0</td>\n",
       "      <td>117961118343</td>\n",
       "    </tr>\n",
       "    <tr>\n",
       "      <td>4</td>\n",
       "      <td>42680</td>\n",
       "      <td>5905</td>\n",
       "      <td>119569</td>\n",
       "      <td>123932</td>\n",
       "      <td>119325</td>\n",
       "      <td>0</td>\n",
       "      <td>117929117930</td>\n",
       "    </tr>\n",
       "  </tbody>\n",
       "</table>\n",
       "</div>"
      ],
      "text/plain": [
       "  RESOURCE MGR_ID ROLE_DEPTNAME ROLE_FAMILY_DESC ROLE_CODE  target  \\\n",
       "0    39353  85475        123472           117906    117908       0   \n",
       "1    17183   1540        123125           118536    118539       0   \n",
       "2    36724  14457        117884           267952    117880       0   \n",
       "3    36135   5396        119993           240983    118322       0   \n",
       "4    42680   5905        119569           123932    119325       0   \n",
       "\n",
       "      ROLLUP_12  \n",
       "0  117961118300  \n",
       "1  117961118343  \n",
       "2  118219118220  \n",
       "3  117961118343  \n",
       "4  117929117930  "
      ]
     },
     "execution_count": 7,
     "metadata": {},
     "output_type": "execute_result"
    }
   ],
   "source": [
    "df1.head()"
   ]
  },
  {
   "cell_type": "code",
   "execution_count": 8,
   "metadata": {},
   "outputs": [],
   "source": [
    "def unique_feat(xtr,xts,cols,target):\n",
    "    t=xtr.copy()\n",
    "    v=xts.copy()\n",
    "    new_cols=[]\n",
    "    for col in cols:\n",
    "        \n",
    "        d=t.groupby(col)[target].agg(['mean','count'])\n",
    "        m=d['mean']\n",
    "        c=d['count']\n",
    "        med=np.median(c)\n",
    "        d['new1']=m.apply(lambda x:1 if x==0 else 0)*c.apply(lambda x:1 if x>med else 0)\n",
    "        d['new2']=m.apply(lambda x:2 if x==1 else 0)*c.apply(lambda x:1 if x>med else 0)\n",
    "        d['new3']=m.apply(lambda x:3 if (x!=0) and (x!=1) else 0)*c.apply(lambda x:1 if x>med else 0)\n",
    "        d['map_obj']=d['new1']+d['new2']+d['new3']+1\n",
    "        t[col+'_UniqueTo']=t[col].map(d['map_obj'])\n",
    "        v[col+'_UniqueTo']=v[col].map(d['map_obj'])\n",
    "        v[col+'_UniqueTo']=v[col+'_UniqueTo'].fillna(0)\n",
    "        new_cols.append(col+'_UniqueTo')\n",
    "    return t,v,new_cols"
   ]
  },
  {
   "cell_type": "code",
   "execution_count": 9,
   "metadata": {},
   "outputs": [],
   "source": [
    "def aucroc(mod,x,y):\n",
    "    pred=mod.predict(x)\n",
    "    prob=mod.predict_proba(x)[:,1]\n",
    "    auc=roc_auc_score(y,prob)\n",
    "    acc=accuracy_score(y,pred)\n",
    "    return auc\n",
    "    #print('AUC_ROC= ',auc)\n",
    "    #print('Accuracy= ',acc)\n",
    "    #print('confusion matrix:\\n',confusion_matrix(y,pred))"
   ]
  },
  {
   "cell_type": "code",
   "execution_count": 10,
   "metadata": {},
   "outputs": [],
   "source": [
    "def AST_ecoding(train,test,columns,target,weight):\n",
    "    t=train.copy()\n",
    "    v=test.copy()\n",
    "    gm=t[target].mean()\n",
    "    for col in columns:\n",
    "        gb=t.groupby(col)[target].agg(['count','mean'])\n",
    "        count=gb['count']\n",
    "        mean=gb['mean']\n",
    "        gb['smooth']=(count*mean + weight*gm)/(count+weight)\n",
    "        t[col+'_enc']=t[col].map(gb['smooth'])\n",
    "        \n",
    "        v[col+'_enc']=v[col].map(gb['smooth'])\n",
    "        v[col+'_enc']=v[col+'_enc'].fillna(gm)\n",
    "    v=v.drop(columns,axis=1)\n",
    "    t=t.drop(columns,axis=1)\n",
    "    return t,v"
   ]
  },
  {
   "cell_type": "code",
   "execution_count": 11,
   "metadata": {},
   "outputs": [],
   "source": [
    "from lightgbm import LGBMClassifier\n",
    "from sklearn.metrics import *\n",
    "from sklearn.model_selection import train_test_split,RandomizedSearchCV\n",
    "from sklearn.linear_model import LogisticRegression\n",
    "lgb=LGBMClassifier(n_estimators=200)\n",
    "lr=LogisticRegression()"
   ]
  },
  {
   "cell_type": "code",
   "execution_count": 12,
   "metadata": {},
   "outputs": [],
   "source": [
    "train,test=train_test_split(df1,test_size=0.3,random_state=123)\n",
    "\n",
    "columns=list(df1.columns)\n",
    "columns.remove('target')\n",
    "target='target'\n",
    "t,v,new_cols=unique_feat(train,test,columns,target)"
   ]
  },
  {
   "cell_type": "code",
   "execution_count": 13,
   "metadata": {},
   "outputs": [
    {
     "data": {
      "text/html": [
       "<div>\n",
       "<style scoped>\n",
       "    .dataframe tbody tr th:only-of-type {\n",
       "        vertical-align: middle;\n",
       "    }\n",
       "\n",
       "    .dataframe tbody tr th {\n",
       "        vertical-align: top;\n",
       "    }\n",
       "\n",
       "    .dataframe thead th {\n",
       "        text-align: right;\n",
       "    }\n",
       "</style>\n",
       "<table border=\"1\" class=\"dataframe\">\n",
       "  <thead>\n",
       "    <tr style=\"text-align: right;\">\n",
       "      <th></th>\n",
       "      <th>RESOURCE</th>\n",
       "      <th>MGR_ID</th>\n",
       "      <th>ROLE_DEPTNAME</th>\n",
       "      <th>ROLE_FAMILY_DESC</th>\n",
       "      <th>ROLE_CODE</th>\n",
       "      <th>target</th>\n",
       "      <th>ROLLUP_12</th>\n",
       "      <th>RESOURCE_UniqueTo</th>\n",
       "      <th>MGR_ID_UniqueTo</th>\n",
       "      <th>ROLE_DEPTNAME_UniqueTo</th>\n",
       "      <th>ROLE_FAMILY_DESC_UniqueTo</th>\n",
       "      <th>ROLE_CODE_UniqueTo</th>\n",
       "      <th>ROLLUP_12_UniqueTo</th>\n",
       "    </tr>\n",
       "  </thead>\n",
       "  <tbody>\n",
       "    <tr>\n",
       "      <td>7693</td>\n",
       "      <td>25285</td>\n",
       "      <td>51761</td>\n",
       "      <td>120370</td>\n",
       "      <td>117906</td>\n",
       "      <td>117908</td>\n",
       "      <td>0</td>\n",
       "      <td>117961118413</td>\n",
       "      <td>2</td>\n",
       "      <td>4</td>\n",
       "      <td>4</td>\n",
       "      <td>4</td>\n",
       "      <td>4</td>\n",
       "      <td>4</td>\n",
       "    </tr>\n",
       "    <tr>\n",
       "      <td>17676</td>\n",
       "      <td>79168</td>\n",
       "      <td>25396</td>\n",
       "      <td>117941</td>\n",
       "      <td>117913</td>\n",
       "      <td>117888</td>\n",
       "      <td>0</td>\n",
       "      <td>118602118603</td>\n",
       "      <td>4</td>\n",
       "      <td>2</td>\n",
       "      <td>4</td>\n",
       "      <td>4</td>\n",
       "      <td>4</td>\n",
       "      <td>4</td>\n",
       "    </tr>\n",
       "    <tr>\n",
       "      <td>1969</td>\n",
       "      <td>33329</td>\n",
       "      <td>8028</td>\n",
       "      <td>124948</td>\n",
       "      <td>130134</td>\n",
       "      <td>120954</td>\n",
       "      <td>0</td>\n",
       "      <td>117902117903</td>\n",
       "      <td>2</td>\n",
       "      <td>2</td>\n",
       "      <td>4</td>\n",
       "      <td>4</td>\n",
       "      <td>2</td>\n",
       "      <td>4</td>\n",
       "    </tr>\n",
       "    <tr>\n",
       "      <td>15050</td>\n",
       "      <td>3690</td>\n",
       "      <td>3692</td>\n",
       "      <td>126229</td>\n",
       "      <td>207709</td>\n",
       "      <td>121596</td>\n",
       "      <td>0</td>\n",
       "      <td>117961118413</td>\n",
       "      <td>1</td>\n",
       "      <td>2</td>\n",
       "      <td>4</td>\n",
       "      <td>2</td>\n",
       "      <td>4</td>\n",
       "      <td>4</td>\n",
       "    </tr>\n",
       "    <tr>\n",
       "      <td>345</td>\n",
       "      <td>77203</td>\n",
       "      <td>15621</td>\n",
       "      <td>120943</td>\n",
       "      <td>126684</td>\n",
       "      <td>126685</td>\n",
       "      <td>1</td>\n",
       "      <td>117961119256</td>\n",
       "      <td>4</td>\n",
       "      <td>1</td>\n",
       "      <td>4</td>\n",
       "      <td>4</td>\n",
       "      <td>4</td>\n",
       "      <td>4</td>\n",
       "    </tr>\n",
       "  </tbody>\n",
       "</table>\n",
       "</div>"
      ],
      "text/plain": [
       "      RESOURCE MGR_ID ROLE_DEPTNAME ROLE_FAMILY_DESC ROLE_CODE  target  \\\n",
       "7693     25285  51761        120370           117906    117908       0   \n",
       "17676    79168  25396        117941           117913    117888       0   \n",
       "1969     33329   8028        124948           130134    120954       0   \n",
       "15050     3690   3692        126229           207709    121596       0   \n",
       "345      77203  15621        120943           126684    126685       1   \n",
       "\n",
       "          ROLLUP_12  RESOURCE_UniqueTo  MGR_ID_UniqueTo  \\\n",
       "7693   117961118413                  2                4   \n",
       "17676  118602118603                  4                2   \n",
       "1969   117902117903                  2                2   \n",
       "15050  117961118413                  1                2   \n",
       "345    117961119256                  4                1   \n",
       "\n",
       "       ROLE_DEPTNAME_UniqueTo  ROLE_FAMILY_DESC_UniqueTo  ROLE_CODE_UniqueTo  \\\n",
       "7693                        4                          4                   4   \n",
       "17676                       4                          4                   4   \n",
       "1969                        4                          4                   2   \n",
       "15050                       4                          2                   4   \n",
       "345                         4                          4                   4   \n",
       "\n",
       "       ROLLUP_12_UniqueTo  \n",
       "7693                    4  \n",
       "17676                   4  \n",
       "1969                    4  \n",
       "15050                   4  \n",
       "345                     4  "
      ]
     },
     "execution_count": 13,
     "metadata": {},
     "output_type": "execute_result"
    }
   ],
   "source": [
    "t.head()"
   ]
  },
  {
   "cell_type": "code",
   "execution_count": 14,
   "metadata": {},
   "outputs": [
    {
     "data": {
      "text/html": [
       "<div>\n",
       "<style scoped>\n",
       "    .dataframe tbody tr th:only-of-type {\n",
       "        vertical-align: middle;\n",
       "    }\n",
       "\n",
       "    .dataframe tbody tr th {\n",
       "        vertical-align: top;\n",
       "    }\n",
       "\n",
       "    .dataframe thead th {\n",
       "        text-align: right;\n",
       "    }\n",
       "</style>\n",
       "<table border=\"1\" class=\"dataframe\">\n",
       "  <thead>\n",
       "    <tr style=\"text-align: right;\">\n",
       "      <th></th>\n",
       "      <th>target</th>\n",
       "      <th>RESOURCE_UniqueTo</th>\n",
       "      <th>MGR_ID_UniqueTo</th>\n",
       "      <th>ROLE_DEPTNAME_UniqueTo</th>\n",
       "      <th>ROLE_FAMILY_DESC_UniqueTo</th>\n",
       "      <th>ROLE_CODE_UniqueTo</th>\n",
       "      <th>ROLLUP_12_UniqueTo</th>\n",
       "      <th>RESOURCE_enc</th>\n",
       "      <th>MGR_ID_enc</th>\n",
       "      <th>ROLE_DEPTNAME_enc</th>\n",
       "      <th>ROLE_FAMILY_DESC_enc</th>\n",
       "      <th>ROLE_CODE_enc</th>\n",
       "      <th>ROLLUP_12_enc</th>\n",
       "    </tr>\n",
       "  </thead>\n",
       "  <tbody>\n",
       "    <tr>\n",
       "      <td>7693</td>\n",
       "      <td>0</td>\n",
       "      <td>2</td>\n",
       "      <td>4</td>\n",
       "      <td>4</td>\n",
       "      <td>4</td>\n",
       "      <td>4</td>\n",
       "      <td>4</td>\n",
       "      <td>0.052553</td>\n",
       "      <td>0.156247</td>\n",
       "      <td>0.038472</td>\n",
       "      <td>0.065241</td>\n",
       "      <td>0.035277</td>\n",
       "      <td>0.028338</td>\n",
       "    </tr>\n",
       "    <tr>\n",
       "      <td>17676</td>\n",
       "      <td>0</td>\n",
       "      <td>4</td>\n",
       "      <td>2</td>\n",
       "      <td>4</td>\n",
       "      <td>4</td>\n",
       "      <td>4</td>\n",
       "      <td>4</td>\n",
       "      <td>0.129880</td>\n",
       "      <td>0.039868</td>\n",
       "      <td>0.076784</td>\n",
       "      <td>0.033729</td>\n",
       "      <td>0.036288</td>\n",
       "      <td>0.120699</td>\n",
       "    </tr>\n",
       "    <tr>\n",
       "      <td>1969</td>\n",
       "      <td>0</td>\n",
       "      <td>2</td>\n",
       "      <td>2</td>\n",
       "      <td>4</td>\n",
       "      <td>4</td>\n",
       "      <td>2</td>\n",
       "      <td>4</td>\n",
       "      <td>0.038539</td>\n",
       "      <td>0.046246</td>\n",
       "      <td>0.101101</td>\n",
       "      <td>0.038227</td>\n",
       "      <td>0.010142</td>\n",
       "      <td>0.036647</td>\n",
       "    </tr>\n",
       "    <tr>\n",
       "      <td>15050</td>\n",
       "      <td>0</td>\n",
       "      <td>1</td>\n",
       "      <td>2</td>\n",
       "      <td>4</td>\n",
       "      <td>2</td>\n",
       "      <td>4</td>\n",
       "      <td>4</td>\n",
       "      <td>0.055055</td>\n",
       "      <td>0.023123</td>\n",
       "      <td>0.033690</td>\n",
       "      <td>0.037295</td>\n",
       "      <td>0.130292</td>\n",
       "      <td>0.028338</td>\n",
       "    </tr>\n",
       "    <tr>\n",
       "      <td>345</td>\n",
       "      <td>1</td>\n",
       "      <td>4</td>\n",
       "      <td>1</td>\n",
       "      <td>4</td>\n",
       "      <td>4</td>\n",
       "      <td>4</td>\n",
       "      <td>4</td>\n",
       "      <td>0.092828</td>\n",
       "      <td>0.093746</td>\n",
       "      <td>0.070443</td>\n",
       "      <td>0.148434</td>\n",
       "      <td>0.182512</td>\n",
       "      <td>0.108729</td>\n",
       "    </tr>\n",
       "  </tbody>\n",
       "</table>\n",
       "</div>"
      ],
      "text/plain": [
       "       target  RESOURCE_UniqueTo  MGR_ID_UniqueTo  ROLE_DEPTNAME_UniqueTo  \\\n",
       "7693        0                  2                4                       4   \n",
       "17676       0                  4                2                       4   \n",
       "1969        0                  2                2                       4   \n",
       "15050       0                  1                2                       4   \n",
       "345         1                  4                1                       4   \n",
       "\n",
       "       ROLE_FAMILY_DESC_UniqueTo  ROLE_CODE_UniqueTo  ROLLUP_12_UniqueTo  \\\n",
       "7693                           4                   4                   4   \n",
       "17676                          4                   4                   4   \n",
       "1969                           4                   2                   4   \n",
       "15050                          2                   4                   4   \n",
       "345                            4                   4                   4   \n",
       "\n",
       "       RESOURCE_enc  MGR_ID_enc  ROLE_DEPTNAME_enc  ROLE_FAMILY_DESC_enc  \\\n",
       "7693       0.052553    0.156247           0.038472              0.065241   \n",
       "17676      0.129880    0.039868           0.076784              0.033729   \n",
       "1969       0.038539    0.046246           0.101101              0.038227   \n",
       "15050      0.055055    0.023123           0.033690              0.037295   \n",
       "345        0.092828    0.093746           0.070443              0.148434   \n",
       "\n",
       "       ROLE_CODE_enc  ROLLUP_12_enc  \n",
       "7693        0.035277       0.028338  \n",
       "17676       0.036288       0.120699  \n",
       "1969        0.010142       0.036647  \n",
       "15050       0.130292       0.028338  \n",
       "345         0.182512       0.108729  "
      ]
     },
     "execution_count": 14,
     "metadata": {},
     "output_type": "execute_result"
    }
   ],
   "source": [
    "org_feat=['RESOURCE','MGR_ID','ROLE_DEPTNAME','ROLE_FAMILY_DESC','ROLE_CODE','ROLLUP_12']\n",
    "t,v=AST_ecoding(t,v,org_feat,target,20)\n",
    "t.head()"
   ]
  },
  {
   "cell_type": "code",
   "execution_count": 15,
   "metadata": {},
   "outputs": [
    {
     "data": {
      "text/plain": [
       "['RESOURCE_UniqueTo',\n",
       " 'MGR_ID_UniqueTo',\n",
       " 'ROLE_DEPTNAME_UniqueTo',\n",
       " 'ROLE_FAMILY_DESC_UniqueTo',\n",
       " 'ROLE_CODE_UniqueTo',\n",
       " 'ROLLUP_12_UniqueTo']"
      ]
     },
     "execution_count": 15,
     "metadata": {},
     "output_type": "execute_result"
    }
   ],
   "source": [
    "new_cols"
   ]
  },
  {
   "cell_type": "code",
   "execution_count": 16,
   "metadata": {},
   "outputs": [],
   "source": [
    "t['t?']=1\n",
    "v['t?']=0\n",
    "d=pd.concat([t,v])\n",
    "d=pd.get_dummies(d,columns=new_cols)\n",
    "t=d[d['t?']==1].drop('t?',axis=1).copy()\n",
    "v=d[d['t?']==0].drop('t?',axis=1).copy()\n",
    "del d"
   ]
  },
  {
   "cell_type": "code",
   "execution_count": 17,
   "metadata": {},
   "outputs": [],
   "source": [
    "\n",
    "xtr=t.drop('target',axis=1)\n",
    "xts=v.drop(target,axis=1)\n",
    "ytr=t[target]\n",
    "yts=v[target]\n",
    "cols=list(xtr.columns)\n"
   ]
  },
  {
   "cell_type": "code",
   "execution_count": 28,
   "metadata": {},
   "outputs": [],
   "source": [
    "def eliminate(algo,cols,xtr,ytr,xts,yts):\n",
    "    mod=algo.fit(xtr[cols],ytr)\n",
    "    auc=aucroc(mod,xts[cols],yts)\n",
    "    best_score=auc\n",
    "    high=0\n",
    "    removed=[]\n",
    "    for i in tqdm(cols):\n",
    "        c=cols.copy()\n",
    "        c.remove(i)\n",
    "        if len(c)>1:\n",
    "            mod=algo.fit(xtr[c],ytr)\n",
    "            auc_sc=aucroc(mod,xts[c],yts)\n",
    "            if auc_sc>=best_score:\n",
    "                removed.append(i)\n",
    "            if auc_sc>high:\n",
    "                high=auc_sc\n",
    "                r=i\n",
    "    return high,i"
   ]
  },
  {
   "cell_type": "code",
   "execution_count": 19,
   "metadata": {},
   "outputs": [
    {
     "name": "stdout",
     "output_type": "stream",
     "text": [
      "<class 'pandas.core.frame.DataFrame'>\n",
      "Int64Index: 9831 entries, 5666 to 12899\n",
      "Data columns (total 32 columns):\n",
      "RESOURCE_enc                     9831 non-null float64\n",
      "MGR_ID_enc                       9831 non-null float64\n",
      "ROLE_DEPTNAME_enc                9831 non-null float64\n",
      "ROLE_FAMILY_DESC_enc             9831 non-null float64\n",
      "ROLE_CODE_enc                    9831 non-null float64\n",
      "ROLLUP_12_enc                    9831 non-null float64\n",
      "RESOURCE_UniqueTo_0.0            9831 non-null uint8\n",
      "RESOURCE_UniqueTo_1.0            9831 non-null uint8\n",
      "RESOURCE_UniqueTo_2.0            9831 non-null uint8\n",
      "RESOURCE_UniqueTo_3.0            9831 non-null uint8\n",
      "RESOURCE_UniqueTo_4.0            9831 non-null uint8\n",
      "MGR_ID_UniqueTo_0.0              9831 non-null uint8\n",
      "MGR_ID_UniqueTo_1.0              9831 non-null uint8\n",
      "MGR_ID_UniqueTo_2.0              9831 non-null uint8\n",
      "MGR_ID_UniqueTo_3.0              9831 non-null uint8\n",
      "MGR_ID_UniqueTo_4.0              9831 non-null uint8\n",
      "ROLE_DEPTNAME_UniqueTo_0.0       9831 non-null uint8\n",
      "ROLE_DEPTNAME_UniqueTo_1.0       9831 non-null uint8\n",
      "ROLE_DEPTNAME_UniqueTo_2.0       9831 non-null uint8\n",
      "ROLE_DEPTNAME_UniqueTo_4.0       9831 non-null uint8\n",
      "ROLE_FAMILY_DESC_UniqueTo_0.0    9831 non-null uint8\n",
      "ROLE_FAMILY_DESC_UniqueTo_1.0    9831 non-null uint8\n",
      "ROLE_FAMILY_DESC_UniqueTo_2.0    9831 non-null uint8\n",
      "ROLE_FAMILY_DESC_UniqueTo_4.0    9831 non-null uint8\n",
      "ROLE_CODE_UniqueTo_0.0           9831 non-null uint8\n",
      "ROLE_CODE_UniqueTo_1.0           9831 non-null uint8\n",
      "ROLE_CODE_UniqueTo_2.0           9831 non-null uint8\n",
      "ROLE_CODE_UniqueTo_4.0           9831 non-null uint8\n",
      "ROLLUP_12_UniqueTo_0.0           9831 non-null uint8\n",
      "ROLLUP_12_UniqueTo_1.0           9831 non-null uint8\n",
      "ROLLUP_12_UniqueTo_2.0           9831 non-null uint8\n",
      "ROLLUP_12_UniqueTo_4.0           9831 non-null uint8\n",
      "dtypes: float64(6), uint8(26)\n",
      "memory usage: 787.2 KB\n"
     ]
    }
   ],
   "source": [
    "xts.info()"
   ]
  },
  {
   "cell_type": "code",
   "execution_count": 20,
   "metadata": {},
   "outputs": [
    {
     "name": "stderr",
     "output_type": "stream",
     "text": [
      "100%|██████████| 32/32 [00:11<00:00,  2.70it/s]\n",
      "100%|██████████| 31/31 [00:10<00:00,  2.89it/s]\n"
     ]
    },
    {
     "name": "stdout",
     "output_type": "stream",
     "text": [
      "0.7950017588785543\n",
      "0.7950023262587329\n",
      "['ROLLUP_12_UniqueTo_4.0']\n"
     ]
    }
   ],
   "source": [
    "algo=LogisticRegression(max_iter=10e7)\n",
    "removed=[]\n",
    "cols=list(xtr.columns)\n",
    "mod=algo.fit(xtr[cols],ytr)\n",
    "auc=aucroc(mod,xts[cols],yts)\n",
    "high_current=auc\n",
    "high_new,r=eliminate(algo,cols,xtr,ytr,xts,yts)\n",
    "while high_new>high_current:\n",
    "    cols.remove(r)\n",
    "    removed.append(r)\n",
    "    high_current=high_new\n",
    "    high_new,r=eliminate(algo,cols,xtr,ytr,xts,yts)\n",
    "    print(high_new)\n",
    "print(high_current)\n",
    "print(removed)"
   ]
  },
  {
   "cell_type": "code",
   "execution_count": 29,
   "metadata": {},
   "outputs": [],
   "source": [
    "def col_select(algo,step):\n",
    "    \n",
    "    \n",
    "    cols=list(xtr.columns)\n",
    "    p=[]\n",
    "    removed=[]\n",
    "    mod=algo.fit(xtr[cols],ytr)\n",
    "    auc=aucroc(mod,xts[cols],yts)\n",
    "    high_current=auc\n",
    "    removed_new=[]\n",
    "    high_new=auc\n",
    "    while high_current-high_new<step:    \n",
    "\n",
    "\n",
    "        removed=removed+removed_new\n",
    "        print(len(removed))\n",
    "        removed_new=[]\n",
    "\n",
    "\n",
    "        if high_current==auc:\n",
    "            pass\n",
    "        else:\n",
    "            high_current=high_new\n",
    "\n",
    "        high_new,r=eliminate(algo,cols,xtr,ytr,xts,yts)\n",
    "        while high_new>=high_current:\n",
    "            cols.remove(r)\n",
    "            removed_new.append(r)\n",
    "            high_current=high_new\n",
    "            high_new,r=eliminate(algo,cols,xtr,ytr,xts,yts)\n",
    "            print(high_new)\n",
    "        \n",
    "    print('high_auc=',high_current)\n",
    "    print('auc_one step ahead=',high_new)\n",
    "    print('removed: ',removed)\n",
    "    print('len=',len(removed))"
   ]
  },
  {
   "cell_type": "code",
   "execution_count": 30,
   "metadata": {},
   "outputs": [
    {
     "name": "stdout",
     "output_type": "stream",
     "text": [
      "0\n"
     ]
    },
    {
     "name": "stderr",
     "output_type": "stream",
     "text": [
      "100%|██████████| 32/32 [00:10<00:00,  3.04it/s]\n",
      "100%|██████████| 31/31 [00:12<00:00,  2.49it/s]\n"
     ]
    },
    {
     "name": "stdout",
     "output_type": "stream",
     "text": [
      "0.7950017588785543\n",
      "1\n"
     ]
    },
    {
     "name": "stderr",
     "output_type": "stream",
     "text": [
      "100%|██████████| 31/31 [00:11<00:00,  2.76it/s]\n",
      "100%|██████████| 30/30 [00:12<00:00,  2.36it/s]\n"
     ]
    },
    {
     "name": "stdout",
     "output_type": "stream",
     "text": [
      "0.7948245471360541\n",
      "2\n"
     ]
    },
    {
     "name": "stderr",
     "output_type": "stream",
     "text": [
      "100%|██████████| 30/30 [00:11<00:00,  2.62it/s]\n",
      "100%|██████████| 29/29 [00:09<00:00,  3.20it/s]\n"
     ]
    },
    {
     "name": "stdout",
     "output_type": "stream",
     "text": [
      "0.7945654435210857\n",
      "3\n"
     ]
    },
    {
     "name": "stderr",
     "output_type": "stream",
     "text": [
      "100%|██████████| 29/29 [00:10<00:00,  2.84it/s]\n",
      "100%|██████████| 28/28 [00:10<00:00,  2.73it/s]\n"
     ]
    },
    {
     "name": "stdout",
     "output_type": "stream",
     "text": [
      "0.7945665782814433\n"
     ]
    },
    {
     "name": "stderr",
     "output_type": "stream",
     "text": [
      "100%|██████████| 27/27 [00:08<00:00,  3.26it/s]\n"
     ]
    },
    {
     "name": "stdout",
     "output_type": "stream",
     "text": [
      "0.7942679471806879\n",
      "5\n"
     ]
    },
    {
     "name": "stderr",
     "output_type": "stream",
     "text": [
      "100%|██████████| 27/27 [00:08<00:00,  3.19it/s]\n",
      "100%|██████████| 26/26 [00:08<00:00,  3.22it/s]\n"
     ]
    },
    {
     "name": "stdout",
     "output_type": "stream",
     "text": [
      "0.7952273870629754\n"
     ]
    },
    {
     "name": "stderr",
     "output_type": "stream",
     "text": [
      "100%|██████████| 25/25 [00:07<00:00,  3.15it/s]\n"
     ]
    },
    {
     "name": "stdout",
     "output_type": "stream",
     "text": [
      "0.7953658278265935\n"
     ]
    },
    {
     "name": "stderr",
     "output_type": "stream",
     "text": [
      "100%|██████████| 24/24 [00:06<00:00,  3.77it/s]\n"
     ]
    },
    {
     "name": "stdout",
     "output_type": "stream",
     "text": [
      "0.7953658278265935\n"
     ]
    },
    {
     "name": "stderr",
     "output_type": "stream",
     "text": [
      "100%|██████████| 23/23 [00:05<00:00,  4.12it/s]\n"
     ]
    },
    {
     "name": "stdout",
     "output_type": "stream",
     "text": [
      "0.7939358406493855\n",
      "9\n"
     ]
    },
    {
     "name": "stderr",
     "output_type": "stream",
     "text": [
      "100%|██████████| 23/23 [00:05<00:00,  4.26it/s]\n",
      "100%|██████████| 22/22 [00:05<00:00,  3.97it/s]\n"
     ]
    },
    {
     "name": "stdout",
     "output_type": "stream",
     "text": [
      "0.7918516641260643\n",
      "10\n"
     ]
    },
    {
     "name": "stderr",
     "output_type": "stream",
     "text": [
      "100%|██████████| 22/22 [00:06<00:00,  3.54it/s]\n",
      "100%|██████████| 21/21 [00:06<00:00,  3.33it/s]\n"
     ]
    },
    {
     "name": "stdout",
     "output_type": "stream",
     "text": [
      "0.7918493946053493\n",
      "11\n"
     ]
    },
    {
     "name": "stderr",
     "output_type": "stream",
     "text": [
      "100%|██████████| 21/21 [00:05<00:00,  3.56it/s]\n",
      "100%|██████████| 20/20 [00:04<00:00,  4.13it/s]\n"
     ]
    },
    {
     "name": "stdout",
     "output_type": "stream",
     "text": [
      "0.7918493946053493\n"
     ]
    },
    {
     "name": "stderr",
     "output_type": "stream",
     "text": [
      "100%|██████████| 19/19 [00:03<00:00,  5.08it/s]\n"
     ]
    },
    {
     "name": "stdout",
     "output_type": "stream",
     "text": [
      "0.7920343605436259\n"
     ]
    },
    {
     "name": "stderr",
     "output_type": "stream",
     "text": [
      "100%|██████████| 18/18 [00:04<00:00,  4.02it/s]\n"
     ]
    },
    {
     "name": "stdout",
     "output_type": "stream",
     "text": [
      "0.7942792947842632\n"
     ]
    },
    {
     "name": "stderr",
     "output_type": "stream",
     "text": [
      "100%|██████████| 17/17 [00:03<00:00,  4.45it/s]\n"
     ]
    },
    {
     "name": "stdout",
     "output_type": "stream",
     "text": [
      "0.7945030317014219\n"
     ]
    },
    {
     "name": "stderr",
     "output_type": "stream",
     "text": [
      "100%|██████████| 16/16 [00:05<00:00,  2.77it/s]\n"
     ]
    },
    {
     "name": "stdout",
     "output_type": "stream",
     "text": [
      "0.7945030317014219\n"
     ]
    },
    {
     "name": "stderr",
     "output_type": "stream",
     "text": [
      "100%|██████████| 15/15 [00:03<00:00,  4.27it/s]\n"
     ]
    },
    {
     "name": "stdout",
     "output_type": "stream",
     "text": [
      "0.7972071656334042\n"
     ]
    },
    {
     "name": "stderr",
     "output_type": "stream",
     "text": [
      "100%|██████████| 14/14 [00:02<00:00,  5.42it/s]\n"
     ]
    },
    {
     "name": "stdout",
     "output_type": "stream",
     "text": [
      "0.7970732639112164\n",
      "18\n"
     ]
    },
    {
     "name": "stderr",
     "output_type": "stream",
     "text": [
      "100%|██████████| 14/14 [00:03<00:00,  4.57it/s]\n",
      "100%|██████████| 13/13 [00:01<00:00,  7.04it/s]\n"
     ]
    },
    {
     "name": "stdout",
     "output_type": "stream",
     "text": [
      "0.75789112352623\n",
      "19\n"
     ]
    },
    {
     "name": "stderr",
     "output_type": "stream",
     "text": [
      "100%|██████████| 13/13 [00:02<00:00,  5.57it/s]\n",
      "100%|██████████| 12/12 [00:01<00:00,  6.80it/s]\n"
     ]
    },
    {
     "name": "stdout",
     "output_type": "stream",
     "text": [
      "0.758996758367912\n"
     ]
    },
    {
     "name": "stderr",
     "output_type": "stream",
     "text": [
      "100%|██████████| 11/11 [00:01<00:00,  7.91it/s]\n"
     ]
    },
    {
     "name": "stdout",
     "output_type": "stream",
     "text": [
      "0.758996758367912\n"
     ]
    },
    {
     "name": "stderr",
     "output_type": "stream",
     "text": [
      "100%|██████████| 10/10 [00:00<00:00, 10.97it/s]\n"
     ]
    },
    {
     "name": "stdout",
     "output_type": "stream",
     "text": [
      "0.8530978957760438\n"
     ]
    },
    {
     "name": "stderr",
     "output_type": "stream",
     "text": [
      "100%|██████████| 9/9 [00:01<00:00,  8.05it/s]\n"
     ]
    },
    {
     "name": "stdout",
     "output_type": "stream",
     "text": [
      "0.8528022907029084\n",
      "23\n"
     ]
    },
    {
     "name": "stderr",
     "output_type": "stream",
     "text": [
      "100%|██████████| 9/9 [00:00<00:00,  9.59it/s]\n",
      "100%|██████████| 8/8 [00:00<00:00,  8.84it/s]\n"
     ]
    },
    {
     "name": "stdout",
     "output_type": "stream",
     "text": [
      "0.8543088742042494\n"
     ]
    },
    {
     "name": "stderr",
     "output_type": "stream",
     "text": [
      "100%|██████████| 7/7 [00:00<00:00,  7.48it/s]\n"
     ]
    },
    {
     "name": "stdout",
     "output_type": "stream",
     "text": [
      "0.8552761628456764\n"
     ]
    },
    {
     "name": "stderr",
     "output_type": "stream",
     "text": [
      "100%|██████████| 6/6 [00:00<00:00,  9.41it/s]\n"
     ]
    },
    {
     "name": "stdout",
     "output_type": "stream",
     "text": [
      "0.8552761628456764\n"
     ]
    },
    {
     "name": "stderr",
     "output_type": "stream",
     "text": [
      "100%|██████████| 5/5 [00:00<00:00,  9.20it/s]\n"
     ]
    },
    {
     "name": "stdout",
     "output_type": "stream",
     "text": [
      "0.8552453351892969\n",
      "27\n"
     ]
    },
    {
     "name": "stderr",
     "output_type": "stream",
     "text": [
      "100%|██████████| 5/5 [00:00<00:00, 10.32it/s]\n",
      "100%|██████████| 4/4 [00:00<00:00, 17.40it/s]\n"
     ]
    },
    {
     "name": "stdout",
     "output_type": "stream",
     "text": [
      "0.8507211402072072\n",
      "28\n"
     ]
    },
    {
     "name": "stderr",
     "output_type": "stream",
     "text": [
      "100%|██████████| 4/4 [00:00<00:00, 15.73it/s]\n",
      "100%|██████████| 3/3 [00:00<00:00, 17.49it/s]\n"
     ]
    },
    {
     "name": "stdout",
     "output_type": "stream",
     "text": [
      "0.8359195152303752\n",
      "29\n"
     ]
    },
    {
     "name": "stderr",
     "output_type": "stream",
     "text": [
      "100%|██████████| 3/3 [00:00<00:00, 16.35it/s]\n",
      "100%|██████████| 2/2 [00:00<?, ?it/s]\n"
     ]
    },
    {
     "name": "stdout",
     "output_type": "stream",
     "text": [
      "0\n",
      "high_auc= 0.8359195152303752\n",
      "auc_one step ahead= 0\n",
      "removed:  ['ROLLUP_12_UniqueTo_4.0', 'ROLLUP_12_UniqueTo_2.0', 'ROLLUP_12_UniqueTo_1.0', 'ROLLUP_12_UniqueTo_0.0', 'ROLE_CODE_UniqueTo_4.0', 'ROLE_CODE_UniqueTo_2.0', 'ROLE_CODE_UniqueTo_1.0', 'ROLE_CODE_UniqueTo_0.0', 'ROLE_FAMILY_DESC_UniqueTo_4.0', 'ROLE_FAMILY_DESC_UniqueTo_2.0', 'ROLE_FAMILY_DESC_UniqueTo_1.0', 'ROLE_FAMILY_DESC_UniqueTo_0.0', 'ROLE_DEPTNAME_UniqueTo_4.0', 'ROLE_DEPTNAME_UniqueTo_2.0', 'ROLE_DEPTNAME_UniqueTo_1.0', 'ROLE_DEPTNAME_UniqueTo_0.0', 'MGR_ID_UniqueTo_4.0', 'MGR_ID_UniqueTo_3.0', 'MGR_ID_UniqueTo_2.0', 'MGR_ID_UniqueTo_1.0', 'MGR_ID_UniqueTo_0.0', 'RESOURCE_UniqueTo_4.0', 'RESOURCE_UniqueTo_3.0', 'RESOURCE_UniqueTo_2.0', 'RESOURCE_UniqueTo_1.0', 'RESOURCE_UniqueTo_0.0', 'ROLLUP_12_enc', 'ROLE_CODE_enc', 'ROLE_FAMILY_DESC_enc']\n",
      "len= 29\n"
     ]
    }
   ],
   "source": [
    "lr=LogisticRegression(max_iter=10e7)\n",
    "col_select(lr,0.05)"
   ]
  },
  {
   "cell_type": "code",
   "execution_count": null,
   "metadata": {},
   "outputs": [],
   "source": [
    "col_select(lgb,0.005)"
   ]
  },
  {
   "cell_type": "code",
   "execution_count": 27,
   "metadata": {},
   "outputs": [
    {
     "data": {
      "text/plain": [
       "['ROLLUP_12_UniqueTo_4.0',\n",
       " 'ROLLUP_12_UniqueTo_2.0',\n",
       " 'ROLLUP_12_UniqueTo_1.0',\n",
       " 'ROLLUP_12_UniqueTo_0.0',\n",
       " 'ROLE_CODE_UniqueTo_4.0']"
      ]
     },
     "execution_count": 27,
     "metadata": {},
     "output_type": "execute_result"
    }
   ],
   "source": [
    "removed"
   ]
  },
  {
   "cell_type": "code",
   "execution_count": null,
   "metadata": {},
   "outputs": [],
   "source": []
  }
 ],
 "metadata": {
  "kernelspec": {
   "display_name": "Python 3",
   "language": "python",
   "name": "python3"
  },
  "language_info": {
   "codemirror_mode": {
    "name": "ipython",
    "version": 3
   },
   "file_extension": ".py",
   "mimetype": "text/x-python",
   "name": "python",
   "nbconvert_exporter": "python",
   "pygments_lexer": "ipython3",
   "version": "3.7.4"
  }
 },
 "nbformat": 4,
 "nbformat_minor": 2
}
