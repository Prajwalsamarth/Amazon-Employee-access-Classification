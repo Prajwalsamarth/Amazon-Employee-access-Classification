{
 "cells": [
  {
   "cell_type": "code",
   "execution_count": 1,
   "metadata": {},
   "outputs": [],
   "source": [
    "import numpy as np\n",
    "import pandas as pd \n",
    "import matplotlib.pyplot as plt\n",
    "import seaborn as sns \n",
    "import scipy.stats as st \n",
    "from tqdm import tqdm \n",
    "import os\n",
    "## Change directory to your working directory\n",
    "os.chdir('D:\\Shashi Katteri\\Desktop\\data sets to work on\\Amazon Employee Access\\Dataset_10')"
   ]
  },
  {
   "cell_type": "code",
   "execution_count": 2,
   "metadata": {},
   "outputs": [
    {
     "data": {
      "text/html": [
       "<div>\n",
       "<style scoped>\n",
       "    .dataframe tbody tr th:only-of-type {\n",
       "        vertical-align: middle;\n",
       "    }\n",
       "\n",
       "    .dataframe tbody tr th {\n",
       "        vertical-align: top;\n",
       "    }\n",
       "\n",
       "    .dataframe thead th {\n",
       "        text-align: right;\n",
       "    }\n",
       "</style>\n",
       "<table border=\"1\" class=\"dataframe\">\n",
       "  <thead>\n",
       "    <tr style=\"text-align: right;\">\n",
       "      <th></th>\n",
       "      <th>RESOURCE</th>\n",
       "      <th>MGR_ID</th>\n",
       "      <th>ROLE_ROLLUP_1</th>\n",
       "      <th>ROLE_ROLLUP_2</th>\n",
       "      <th>ROLE_DEPTNAME</th>\n",
       "      <th>ROLE_TITLE</th>\n",
       "      <th>ROLE_FAMILY_DESC</th>\n",
       "      <th>ROLE_FAMILY</th>\n",
       "      <th>ROLE_CODE</th>\n",
       "      <th>target</th>\n",
       "    </tr>\n",
       "  </thead>\n",
       "  <tbody>\n",
       "    <tr>\n",
       "      <td>0</td>\n",
       "      <td>39353</td>\n",
       "      <td>85475</td>\n",
       "      <td>117961</td>\n",
       "      <td>118300</td>\n",
       "      <td>123472</td>\n",
       "      <td>117905</td>\n",
       "      <td>117906</td>\n",
       "      <td>290919</td>\n",
       "      <td>117908</td>\n",
       "      <td>1</td>\n",
       "    </tr>\n",
       "    <tr>\n",
       "      <td>1</td>\n",
       "      <td>17183</td>\n",
       "      <td>1540</td>\n",
       "      <td>117961</td>\n",
       "      <td>118343</td>\n",
       "      <td>123125</td>\n",
       "      <td>118536</td>\n",
       "      <td>118536</td>\n",
       "      <td>308574</td>\n",
       "      <td>118539</td>\n",
       "      <td>1</td>\n",
       "    </tr>\n",
       "    <tr>\n",
       "      <td>2</td>\n",
       "      <td>36724</td>\n",
       "      <td>14457</td>\n",
       "      <td>118219</td>\n",
       "      <td>118220</td>\n",
       "      <td>117884</td>\n",
       "      <td>117879</td>\n",
       "      <td>267952</td>\n",
       "      <td>19721</td>\n",
       "      <td>117880</td>\n",
       "      <td>1</td>\n",
       "    </tr>\n",
       "    <tr>\n",
       "      <td>3</td>\n",
       "      <td>36135</td>\n",
       "      <td>5396</td>\n",
       "      <td>117961</td>\n",
       "      <td>118343</td>\n",
       "      <td>119993</td>\n",
       "      <td>118321</td>\n",
       "      <td>240983</td>\n",
       "      <td>290919</td>\n",
       "      <td>118322</td>\n",
       "      <td>1</td>\n",
       "    </tr>\n",
       "    <tr>\n",
       "      <td>4</td>\n",
       "      <td>42680</td>\n",
       "      <td>5905</td>\n",
       "      <td>117929</td>\n",
       "      <td>117930</td>\n",
       "      <td>119569</td>\n",
       "      <td>119323</td>\n",
       "      <td>123932</td>\n",
       "      <td>19793</td>\n",
       "      <td>119325</td>\n",
       "      <td>1</td>\n",
       "    </tr>\n",
       "  </tbody>\n",
       "</table>\n",
       "</div>"
      ],
      "text/plain": [
       "   RESOURCE  MGR_ID  ROLE_ROLLUP_1  ROLE_ROLLUP_2  ROLE_DEPTNAME  ROLE_TITLE  \\\n",
       "0     39353   85475         117961         118300         123472      117905   \n",
       "1     17183    1540         117961         118343         123125      118536   \n",
       "2     36724   14457         118219         118220         117884      117879   \n",
       "3     36135    5396         117961         118343         119993      118321   \n",
       "4     42680    5905         117929         117930         119569      119323   \n",
       "\n",
       "   ROLE_FAMILY_DESC  ROLE_FAMILY  ROLE_CODE  target  \n",
       "0            117906       290919     117908       1  \n",
       "1            118536       308574     118539       1  \n",
       "2            267952        19721     117880       1  \n",
       "3            240983       290919     118322       1  \n",
       "4            123932        19793     119325       1  "
      ]
     },
     "execution_count": 2,
     "metadata": {},
     "output_type": "execute_result"
    }
   ],
   "source": [
    "df=pd.read_csv('Amazon_employee_access.csv')\n",
    "df.head()"
   ]
  },
  {
   "cell_type": "code",
   "execution_count": 3,
   "metadata": {},
   "outputs": [],
   "source": [
    "df1=df.astype(str)\n",
    "df1['target']=df1['target'].astype(int)"
   ]
  },
  {
   "cell_type": "code",
   "execution_count": 4,
   "metadata": {},
   "outputs": [],
   "source": [
    "#df1['ROLE_ROLLUP_12']=df1['ROLE_ROLLUP_1']+df1['ROLE_ROLLUP_2']\n",
    "df1=df1.drop(['ROLE_TITLE','ROLE_FAMILY'],axis=1)\n"
   ]
  },
  {
   "cell_type": "code",
   "execution_count": 5,
   "metadata": {},
   "outputs": [],
   "source": [
    "df1['target']=df1['target'].map({1:0,0:1})"
   ]
  },
  {
   "cell_type": "code",
   "execution_count": 6,
   "metadata": {},
   "outputs": [],
   "source": [
    "df1['ROLLUP_12']=df1['ROLE_ROLLUP_1']+df1['ROLE_ROLLUP_2']\n",
    "df1=df1.drop(['ROLE_ROLLUP_1','ROLE_ROLLUP_2'],axis=1)"
   ]
  },
  {
   "cell_type": "code",
   "execution_count": 7,
   "metadata": {},
   "outputs": [
    {
     "data": {
      "text/html": [
       "<div>\n",
       "<style scoped>\n",
       "    .dataframe tbody tr th:only-of-type {\n",
       "        vertical-align: middle;\n",
       "    }\n",
       "\n",
       "    .dataframe tbody tr th {\n",
       "        vertical-align: top;\n",
       "    }\n",
       "\n",
       "    .dataframe thead th {\n",
       "        text-align: right;\n",
       "    }\n",
       "</style>\n",
       "<table border=\"1\" class=\"dataframe\">\n",
       "  <thead>\n",
       "    <tr style=\"text-align: right;\">\n",
       "      <th></th>\n",
       "      <th>RESOURCE</th>\n",
       "      <th>MGR_ID</th>\n",
       "      <th>ROLE_DEPTNAME</th>\n",
       "      <th>ROLE_FAMILY_DESC</th>\n",
       "      <th>ROLE_CODE</th>\n",
       "      <th>target</th>\n",
       "      <th>ROLLUP_12</th>\n",
       "    </tr>\n",
       "  </thead>\n",
       "  <tbody>\n",
       "    <tr>\n",
       "      <td>0</td>\n",
       "      <td>39353</td>\n",
       "      <td>85475</td>\n",
       "      <td>123472</td>\n",
       "      <td>117906</td>\n",
       "      <td>117908</td>\n",
       "      <td>0</td>\n",
       "      <td>117961118300</td>\n",
       "    </tr>\n",
       "    <tr>\n",
       "      <td>1</td>\n",
       "      <td>17183</td>\n",
       "      <td>1540</td>\n",
       "      <td>123125</td>\n",
       "      <td>118536</td>\n",
       "      <td>118539</td>\n",
       "      <td>0</td>\n",
       "      <td>117961118343</td>\n",
       "    </tr>\n",
       "    <tr>\n",
       "      <td>2</td>\n",
       "      <td>36724</td>\n",
       "      <td>14457</td>\n",
       "      <td>117884</td>\n",
       "      <td>267952</td>\n",
       "      <td>117880</td>\n",
       "      <td>0</td>\n",
       "      <td>118219118220</td>\n",
       "    </tr>\n",
       "    <tr>\n",
       "      <td>3</td>\n",
       "      <td>36135</td>\n",
       "      <td>5396</td>\n",
       "      <td>119993</td>\n",
       "      <td>240983</td>\n",
       "      <td>118322</td>\n",
       "      <td>0</td>\n",
       "      <td>117961118343</td>\n",
       "    </tr>\n",
       "    <tr>\n",
       "      <td>4</td>\n",
       "      <td>42680</td>\n",
       "      <td>5905</td>\n",
       "      <td>119569</td>\n",
       "      <td>123932</td>\n",
       "      <td>119325</td>\n",
       "      <td>0</td>\n",
       "      <td>117929117930</td>\n",
       "    </tr>\n",
       "  </tbody>\n",
       "</table>\n",
       "</div>"
      ],
      "text/plain": [
       "  RESOURCE MGR_ID ROLE_DEPTNAME ROLE_FAMILY_DESC ROLE_CODE  target  \\\n",
       "0    39353  85475        123472           117906    117908       0   \n",
       "1    17183   1540        123125           118536    118539       0   \n",
       "2    36724  14457        117884           267952    117880       0   \n",
       "3    36135   5396        119993           240983    118322       0   \n",
       "4    42680   5905        119569           123932    119325       0   \n",
       "\n",
       "      ROLLUP_12  \n",
       "0  117961118300  \n",
       "1  117961118343  \n",
       "2  118219118220  \n",
       "3  117961118343  \n",
       "4  117929117930  "
      ]
     },
     "execution_count": 7,
     "metadata": {},
     "output_type": "execute_result"
    }
   ],
   "source": [
    "df1.head()"
   ]
  },
  {
   "cell_type": "markdown",
   "metadata": {},
   "source": [
    "# Combinations with brute force \n"
   ]
  },
  {
   "cell_type": "code",
   "execution_count": 8,
   "metadata": {},
   "outputs": [
    {
     "name": "stdout",
     "output_type": "stream",
     "text": [
      "<class 'pandas.core.frame.DataFrame'>\n",
      "RangeIndex: 32769 entries, 0 to 32768\n",
      "Data columns (total 22 columns):\n",
      "RESOURCE                          32769 non-null object\n",
      "MGR_ID                            32769 non-null object\n",
      "ROLE_DEPTNAME                     32769 non-null object\n",
      "ROLE_FAMILY_DESC                  32769 non-null object\n",
      "ROLE_CODE                         32769 non-null object\n",
      "target                            32769 non-null int64\n",
      "ROLLUP_12                         32769 non-null object\n",
      "RESOURCE_MGR_ID                   32769 non-null object\n",
      "RESOURCE_ROLE_DEPTNAME            32769 non-null object\n",
      "RESOURCE_ROLE_FAMILY_DESC         32769 non-null object\n",
      "RESOURCE_ROLE_CODE                32769 non-null object\n",
      "RESOURCE_ROLLUP_12                32769 non-null object\n",
      "MGR_ID_ROLE_DEPTNAME              32769 non-null object\n",
      "MGR_ID_ROLE_FAMILY_DESC           32769 non-null object\n",
      "MGR_ID_ROLE_CODE                  32769 non-null object\n",
      "MGR_ID_ROLLUP_12                  32769 non-null object\n",
      "ROLE_DEPTNAME_ROLE_FAMILY_DESC    32769 non-null object\n",
      "ROLE_DEPTNAME_ROLE_CODE           32769 non-null object\n",
      "ROLE_DEPTNAME_ROLLUP_12           32769 non-null object\n",
      "ROLE_FAMILY_DESC_ROLE_CODE        32769 non-null object\n",
      "ROLE_FAMILY_DESC_ROLLUP_12        32769 non-null object\n",
      "ROLE_CODE_ROLLUP_12               32769 non-null object\n",
      "dtypes: int64(1), object(21)\n",
      "memory usage: 5.5+ MB\n"
     ]
    }
   ],
   "source": [
    "from itertools import combinations\n",
    "\n",
    "cols=list(df1.columns)\n",
    "cols.remove('target')\n",
    "d=df1.copy()\n",
    "\n",
    "for j in combinations(cols,2):\n",
    "    d[j[0]+'_'+j[1]]=df1[j[0]]+df1[j[1]]\n",
    "    \n",
    "d.info()"
   ]
  },
  {
   "cell_type": "code",
   "execution_count": 9,
   "metadata": {},
   "outputs": [],
   "source": [
    "def AST_ecoding(train,test,columns,target,weight):\n",
    "    t=train.copy()\n",
    "    v=test.copy()\n",
    "    gm=t[target].mean()\n",
    "    for col in columns:\n",
    "        gb=t.groupby(col)[target].agg(['count','mean'])\n",
    "        count=gb['count']\n",
    "        mean=gb['mean']\n",
    "        gb['smooth']=(count*mean + weight*gm)/(count+weight)\n",
    "        t[col+'_enc']=t[col].map(gb['smooth'])\n",
    "        \n",
    "        v[col+'_enc']=v[col].map(gb['smooth'])\n",
    "        v[col+'_enc']=v[col+'_enc'].fillna(gm)\n",
    "    v=v.drop(columns,axis=1)\n",
    "    t=t.drop(columns,axis=1)\n",
    "    return t,v"
   ]
  },
  {
   "cell_type": "code",
   "execution_count": 10,
   "metadata": {},
   "outputs": [],
   "source": [
    "def aucroc(mod,x,y):\n",
    "    pred=mod.predict(x)\n",
    "    prob=mod.predict_proba(x)[:,1]\n",
    "    auc=roc_auc_score(y,prob)\n",
    "    acc=accuracy_score(y,pred)\n",
    "    return auc\n",
    "    #print('AUC_ROC= ',auc)\n",
    "    #print('Accuracy= ',acc)\n",
    "    #print('confusion matrix:\\n',confusion_matrix(y,pred))"
   ]
  },
  {
   "cell_type": "code",
   "execution_count": 11,
   "metadata": {},
   "outputs": [],
   "source": [
    "from lightgbm import LGBMClassifier\n",
    "from sklearn.metrics import *\n",
    "from sklearn.model_selection import train_test_split,RandomizedSearchCV\n",
    "from sklearn.linear_model import LogisticRegression\n",
    "lgb=LGBMClassifier(n_estimators=200)\n",
    "lr=LogisticRegression()"
   ]
  },
  {
   "cell_type": "code",
   "execution_count": 12,
   "metadata": {},
   "outputs": [],
   "source": [
    "train,test=train_test_split(d,test_size=0.3,random_state=123)\n",
    "\n",
    "columns=list(d.columns)\n",
    "columns.remove('target')\n",
    "target='target'\n",
    "t,v=AST_ecoding(train,test,columns,target,20)"
   ]
  },
  {
   "cell_type": "code",
   "execution_count": 13,
   "metadata": {},
   "outputs": [
    {
     "data": {
      "text/plain": [
       "(22938, 22)"
      ]
     },
     "execution_count": 13,
     "metadata": {},
     "output_type": "execute_result"
    }
   ],
   "source": [
    "t.shape"
   ]
  },
  {
   "cell_type": "code",
   "execution_count": 14,
   "metadata": {},
   "outputs": [
    {
     "data": {
      "text/plain": [
       "0    9415\n",
       "1     585\n",
       "Name: target, dtype: int64"
      ]
     },
     "execution_count": 14,
     "metadata": {},
     "output_type": "execute_result"
    }
   ],
   "source": [
    "t=t.sample(n=10000)\n",
    "t[target].value_counts()"
   ]
  },
  {
   "cell_type": "code",
   "execution_count": 15,
   "metadata": {},
   "outputs": [],
   "source": [
    "\n",
    "xtr=t.drop('target',axis=1)\n",
    "xts=v.drop(target,axis=1)\n",
    "ytr=t[target]\n",
    "yts=v[target]\n",
    "cols=list(xtr.columns)\n"
   ]
  },
  {
   "cell_type": "code",
   "execution_count": 29,
   "metadata": {},
   "outputs": [],
   "source": [
    "def eliminate(algo,cols,xtr,ytr,xts,yts):\n",
    "    mod=algo.fit(xtr[cols],ytr)\n",
    "    auc=aucroc(mod,xts[cols],yts)\n",
    "    \n",
    "    high=0\n",
    "\n",
    "    for i in tqdm(cols):\n",
    "        c=cols.copy()\n",
    "        c.remove(i)\n",
    "\n",
    "        mod=algo.fit(xtr[c],ytr)\n",
    "        auc_sc=aucroc(mod,xts[c],yts)\n",
    "        if auc_sc>high:\n",
    "            high=auc_sc\n",
    "            r=i\n",
    "\n",
    "    return high,r\n"
   ]
  },
  {
   "cell_type": "code",
   "execution_count": 17,
   "metadata": {},
   "outputs": [
    {
     "name": "stderr",
     "output_type": "stream",
     "text": [
      "100%|██████████| 21/21 [00:01<00:00, 16.04it/s]\n",
      "100%|██████████| 20/20 [00:01<00:00, 18.65it/s]\n"
     ]
    },
    {
     "name": "stdout",
     "output_type": "stream",
     "text": [
      "0.8765686170675522\n",
      "0.8769879110196579\n",
      "['ROLE_CODE_ROLLUP_12_enc']\n"
     ]
    }
   ],
   "source": [
    "algo=lr\n",
    "removed=[]\n",
    "cols=list(xtr.columns)\n",
    "mod=algo.fit(xtr[cols],ytr)\n",
    "auc=aucroc(mod,xts[cols],yts)\n",
    "high_current=auc\n",
    "high_new,r=eliminate(algo,cols,xtr,ytr,xts,yts)\n",
    "while high_new>high_current:\n",
    "    cols.remove(r)\n",
    "    removed.append(r)\n",
    "    high_current=high_new\n",
    "    high_new,r=eliminate(algo,cols,xtr,ytr,xts,yts)\n",
    "    print(high_new)\n",
    "print(high_current)\n",
    "print(removed)"
   ]
  },
  {
   "cell_type": "code",
   "execution_count": 35,
   "metadata": {},
   "outputs": [],
   "source": [
    "def col_select(algo,step):\n",
    "    \n",
    "    \n",
    "    cols=list(xtr.columns)\n",
    "    p=[]\n",
    "    removed=[]\n",
    "    mod=algo.fit(xtr[cols],ytr)\n",
    "    auc=aucroc(mod,xts[cols],yts)\n",
    "    high_current=auc\n",
    "    removed_new=[]\n",
    "    high_new=auc\n",
    "    best=auc\n",
    "   # best_rem=[]\n",
    "    while high_current-high_new<step:    \n",
    "\n",
    "\n",
    "        removed=removed+removed_new\n",
    "        print(len(removed))\n",
    "        removed_new=[]\n",
    "\n",
    "\n",
    "        if high_current==auc:\n",
    "            pass\n",
    "        else:\n",
    "            high_current=high_new\n",
    "        if len(cols)>2:\n",
    "            high_new,r=eliminate(algo,cols,xtr,ytr,xts,yts)\n",
    "            while high_new>=high_current:\n",
    "                cols.remove(r)\n",
    "                removed_new.append(r)\n",
    "                high_current=high_new\n",
    "\n",
    "                high_new,r=eliminate(algo,cols,xtr,ytr,xts,yts)\n",
    "                print(high_new)\n",
    "                if high_new>best:\n",
    "                    best=high_new\n",
    "                    best_rem=removed+removed_new+[r]\n",
    "        else:\n",
    "            break\n",
    "\n",
    "    print('high_auc=',high_current)\n",
    "    print('auc_one step ahead=',high_new)\n",
    "    print('removed: ',removed)\n",
    "    print('len=',len(removed))\n",
    "    print('best=',best)\n",
    "    print('best_rem=',best_rem)"
   ]
  },
  {
   "cell_type": "code",
   "execution_count": 36,
   "metadata": {},
   "outputs": [
    {
     "name": "stdout",
     "output_type": "stream",
     "text": [
      "0\n"
     ]
    },
    {
     "name": "stderr",
     "output_type": "stream",
     "text": [
      "100%|██████████| 21/21 [00:01<00:00, 17.95it/s]\n",
      "100%|██████████| 20/20 [00:01<00:00, 17.46it/s]\n"
     ]
    },
    {
     "name": "stdout",
     "output_type": "stream",
     "text": [
      "0.8779787459385036\n"
     ]
    },
    {
     "name": "stderr",
     "output_type": "stream",
     "text": [
      "100%|██████████| 19/19 [00:01<00:00, 18.89it/s]\n"
     ]
    },
    {
     "name": "stdout",
     "output_type": "stream",
     "text": [
      "0.8787310920555428\n"
     ]
    },
    {
     "name": "stderr",
     "output_type": "stream",
     "text": [
      "100%|██████████| 18/18 [00:01<00:00, 16.48it/s]\n"
     ]
    },
    {
     "name": "stdout",
     "output_type": "stream",
     "text": [
      "0.8795918077867255\n"
     ]
    },
    {
     "name": "stderr",
     "output_type": "stream",
     "text": [
      "100%|██████████| 17/17 [00:00<00:00, 18.80it/s]\n"
     ]
    },
    {
     "name": "stdout",
     "output_type": "stream",
     "text": [
      "0.880611389967962\n"
     ]
    },
    {
     "name": "stderr",
     "output_type": "stream",
     "text": [
      "100%|██████████| 16/16 [00:00<00:00, 16.06it/s]\n"
     ]
    },
    {
     "name": "stdout",
     "output_type": "stream",
     "text": [
      "0.8813004731950691\n"
     ]
    },
    {
     "name": "stderr",
     "output_type": "stream",
     "text": [
      "100%|██████████| 15/15 [00:01<00:00, 14.96it/s]\n"
     ]
    },
    {
     "name": "stdout",
     "output_type": "stream",
     "text": [
      "0.8818616121918653\n"
     ]
    },
    {
     "name": "stderr",
     "output_type": "stream",
     "text": [
      "100%|██████████| 14/14 [00:00<00:00, 16.50it/s]\n"
     ]
    },
    {
     "name": "stdout",
     "output_type": "stream",
     "text": [
      "0.8825383076184028\n"
     ]
    },
    {
     "name": "stderr",
     "output_type": "stream",
     "text": [
      "100%|██████████| 13/13 [00:00<00:00, 17.05it/s]\n"
     ]
    },
    {
     "name": "stdout",
     "output_type": "stream",
     "text": [
      "0.8832225681139905\n"
     ]
    },
    {
     "name": "stderr",
     "output_type": "stream",
     "text": [
      "100%|██████████| 12/12 [00:00<00:00, 14.85it/s]\n"
     ]
    },
    {
     "name": "stdout",
     "output_type": "stream",
     "text": [
      "0.8836853612131345\n"
     ]
    },
    {
     "name": "stderr",
     "output_type": "stream",
     "text": [
      "100%|██████████| 11/11 [00:00<00:00, 18.17it/s]\n"
     ]
    },
    {
     "name": "stdout",
     "output_type": "stream",
     "text": [
      "0.8842292896778414\n"
     ]
    },
    {
     "name": "stderr",
     "output_type": "stream",
     "text": [
      "100%|██████████| 10/10 [00:00<00:00, 18.82it/s]\n"
     ]
    },
    {
     "name": "stdout",
     "output_type": "stream",
     "text": [
      "0.8841928827830376\n",
      "11\n"
     ]
    },
    {
     "name": "stderr",
     "output_type": "stream",
     "text": [
      "100%|██████████| 10/10 [00:00<00:00, 15.24it/s]\n",
      "100%|██████████| 9/9 [00:00<00:00, 18.88it/s]\n"
     ]
    },
    {
     "name": "stdout",
     "output_type": "stream",
     "text": [
      "0.8848271192595311\n"
     ]
    },
    {
     "name": "stderr",
     "output_type": "stream",
     "text": [
      "100%|██████████| 8/8 [00:00<00:00, 17.97it/s]\n"
     ]
    },
    {
     "name": "stdout",
     "output_type": "stream",
     "text": [
      "0.8846361958293775\n",
      "13\n"
     ]
    },
    {
     "name": "stderr",
     "output_type": "stream",
     "text": [
      "100%|██████████| 8/8 [00:00<00:00, 20.01it/s]\n",
      "100%|██████████| 7/7 [00:00<00:00, 17.63it/s]\n"
     ]
    },
    {
     "name": "stdout",
     "output_type": "stream",
     "text": [
      "0.8844187946575481\n",
      "14\n"
     ]
    },
    {
     "name": "stderr",
     "output_type": "stream",
     "text": [
      "100%|██████████| 7/7 [00:00<00:00, 13.50it/s]\n",
      "100%|██████████| 6/6 [00:00<00:00, 15.52it/s]\n"
     ]
    },
    {
     "name": "stdout",
     "output_type": "stream",
     "text": [
      "0.8828511232236271\n",
      "15\n"
     ]
    },
    {
     "name": "stderr",
     "output_type": "stream",
     "text": [
      "100%|██████████| 6/6 [00:00<00:00, 17.17it/s]\n",
      "100%|██████████| 5/5 [00:00<00:00, 20.32it/s]\n"
     ]
    },
    {
     "name": "stdout",
     "output_type": "stream",
     "text": [
      "0.8806955513611451\n",
      "16\n"
     ]
    },
    {
     "name": "stderr",
     "output_type": "stream",
     "text": [
      "100%|██████████| 5/5 [00:00<00:00, 22.93it/s]\n",
      "100%|██████████| 4/4 [00:00<00:00, 25.03it/s]\n"
     ]
    },
    {
     "name": "stdout",
     "output_type": "stream",
     "text": [
      "0.8756016121162146\n",
      "17\n"
     ]
    },
    {
     "name": "stderr",
     "output_type": "stream",
     "text": [
      "100%|██████████| 4/4 [00:00<00:00, 24.15it/s]\n",
      "100%|██████████| 3/3 [00:00<00:00, 24.60it/s]\n"
     ]
    },
    {
     "name": "stdout",
     "output_type": "stream",
     "text": [
      "0.8518487137491348\n",
      "18\n"
     ]
    },
    {
     "name": "stderr",
     "output_type": "stream",
     "text": [
      "100%|██████████| 3/3 [00:00<00:00, 22.76it/s]\n",
      "100%|██████████| 2/2 [00:00<00:00, 23.84it/s]\n"
     ]
    },
    {
     "name": "stdout",
     "output_type": "stream",
     "text": [
      "0.8104457527811085\n",
      "19\n",
      "high_auc= 0.8104457527811085\n",
      "auc_one step ahead= 0.8104457527811085\n",
      "removed:  ['RESOURCE_ROLE_CODE_enc', 'ROLE_FAMILY_DESC_ROLLUP_12_enc', 'MGR_ID_enc', 'ROLE_DEPTNAME_ROLE_FAMILY_DESC_enc', 'MGR_ID_ROLLUP_12_enc', 'RESOURCE_ROLE_FAMILY_DESC_enc', 'ROLE_DEPTNAME_ROLE_CODE_enc', 'MGR_ID_ROLE_DEPTNAME_enc', 'ROLE_FAMILY_DESC_enc', 'ROLE_CODE_ROLLUP_12_enc', 'ROLE_DEPTNAME_enc', 'ROLE_DEPTNAME_ROLLUP_12_enc', 'ROLLUP_12_enc', 'RESOURCE_ROLE_DEPTNAME_enc', 'MGR_ID_ROLE_CODE_enc', 'ROLE_CODE_enc', 'RESOURCE_MGR_ID_enc', 'RESOURCE_ROLLUP_12_enc', 'ROLE_FAMILY_DESC_ROLE_CODE_enc']\n",
      "len= 19\n",
      "best= 0.8848271192595311\n",
      "best_rem= ['RESOURCE_ROLE_CODE_enc', 'ROLE_FAMILY_DESC_ROLLUP_12_enc', 'MGR_ID_enc', 'ROLE_DEPTNAME_ROLE_FAMILY_DESC_enc', 'MGR_ID_ROLLUP_12_enc', 'RESOURCE_ROLE_FAMILY_DESC_enc', 'ROLE_DEPTNAME_ROLE_CODE_enc', 'MGR_ID_ROLE_DEPTNAME_enc', 'ROLE_FAMILY_DESC_enc', 'ROLE_CODE_ROLLUP_12_enc', 'ROLE_DEPTNAME_enc', 'ROLE_DEPTNAME_ROLLUP_12_enc', 'ROLLUP_12_enc']\n"
     ]
    }
   ],
   "source": [
    "col_select(lr,0.05)"
   ]
  },
  {
   "cell_type": "code",
   "execution_count": 38,
   "metadata": {},
   "outputs": [],
   "source": [
    "def aucroc1(mod,x,y):\n",
    "    pred=mod.predict(x)\n",
    "    prob=mod.predict_proba(x)[:,1]\n",
    "    auc=roc_auc_score(y,prob)\n",
    "    acc=accuracy_score(y,pred)\n",
    "    #return auc\n",
    "    print('AUC_ROC= ',auc)\n",
    "    print('Accuracy= ',acc)\n",
    "    print('confusion matrix:\\n',confusion_matrix(y,pred))"
   ]
  },
  {
   "cell_type": "code",
   "execution_count": 39,
   "metadata": {},
   "outputs": [
    {
     "name": "stdout",
     "output_type": "stream",
     "text": [
      "AUC_ROC=  0.8848271192595311\n",
      "Accuracy=  0.9456820262435154\n",
      "confusion matrix:\n",
      " [[9215   45]\n",
      " [ 489   82]]\n"
     ]
    }
   ],
   "source": [
    "rem=['RESOURCE_ROLE_CODE_enc', 'ROLE_FAMILY_DESC_ROLLUP_12_enc', 'MGR_ID_enc', 'ROLE_DEPTNAME_ROLE_FAMILY_DESC_enc',\n",
    "     'MGR_ID_ROLLUP_12_enc', 'RESOURCE_ROLE_FAMILY_DESC_enc', 'ROLE_DEPTNAME_ROLE_CODE_enc', 'MGR_ID_ROLE_DEPTNAME_enc',\n",
    "     'ROLE_FAMILY_DESC_enc', 'ROLE_CODE_ROLLUP_12_enc', 'ROLE_DEPTNAME_enc', 'ROLE_DEPTNAME_ROLLUP_12_enc', 'ROLLUP_12_enc']\n",
    "lr=LogisticRegression()\n",
    "t1=t.drop(rem,axis=1)\n",
    "v1=v.drop(rem,axis=1)\n",
    "xtr=t1.drop('target',axis=1)\n",
    "xts=v1.drop(target,axis=1)\n",
    "ytr=t1[target]\n",
    "yts=v1[target]\n",
    "#cols=list(xtr.columns)\n",
    "mod=lr.fit(xtr,ytr)\n",
    "aucroc1(mod,xts,yts)"
   ]
  },
  {
   "cell_type": "code",
   "execution_count": 88,
   "metadata": {},
   "outputs": [
    {
     "data": {
      "text/html": [
       "<div>\n",
       "<style scoped>\n",
       "    .dataframe tbody tr th:only-of-type {\n",
       "        vertical-align: middle;\n",
       "    }\n",
       "\n",
       "    .dataframe tbody tr th {\n",
       "        vertical-align: top;\n",
       "    }\n",
       "\n",
       "    .dataframe thead th {\n",
       "        text-align: right;\n",
       "    }\n",
       "</style>\n",
       "<table border=\"1\" class=\"dataframe\">\n",
       "  <thead>\n",
       "    <tr style=\"text-align: right;\">\n",
       "      <th></th>\n",
       "      <th>RESOURCE_enc</th>\n",
       "      <th>ROLE_CODE_enc</th>\n",
       "      <th>RESOURCE_MGR_ID_enc</th>\n",
       "      <th>RESOURCE_ROLE_DEPTNAME_enc</th>\n",
       "      <th>RESOURCE_ROLLUP_12_enc</th>\n",
       "      <th>MGR_ID_ROLE_FAMILY_DESC_enc</th>\n",
       "      <th>MGR_ID_ROLE_CODE_enc</th>\n",
       "      <th>ROLE_FAMILY_DESC_ROLE_CODE_enc</th>\n",
       "    </tr>\n",
       "  </thead>\n",
       "  <tbody>\n",
       "    <tr>\n",
       "      <td>8690</td>\n",
       "      <td>0.014452</td>\n",
       "      <td>0.006801</td>\n",
       "      <td>0.055055</td>\n",
       "      <td>0.033033</td>\n",
       "      <td>0.021814</td>\n",
       "      <td>0.044468</td>\n",
       "      <td>0.044468</td>\n",
       "      <td>0.026887</td>\n",
       "    </tr>\n",
       "    <tr>\n",
       "      <td>2267</td>\n",
       "      <td>0.081493</td>\n",
       "      <td>0.024739</td>\n",
       "      <td>0.055055</td>\n",
       "      <td>0.034005</td>\n",
       "      <td>0.052553</td>\n",
       "      <td>0.048173</td>\n",
       "      <td>0.048173</td>\n",
       "      <td>0.063123</td>\n",
       "    </tr>\n",
       "    <tr>\n",
       "      <td>13666</td>\n",
       "      <td>0.053904</td>\n",
       "      <td>0.055286</td>\n",
       "      <td>0.055055</td>\n",
       "      <td>0.089840</td>\n",
       "      <td>0.038539</td>\n",
       "      <td>0.052553</td>\n",
       "      <td>0.052553</td>\n",
       "      <td>0.052553</td>\n",
       "    </tr>\n",
       "    <tr>\n",
       "      <td>25586</td>\n",
       "      <td>0.078310</td>\n",
       "      <td>0.048173</td>\n",
       "      <td>0.055055</td>\n",
       "      <td>0.053494</td>\n",
       "      <td>0.046246</td>\n",
       "      <td>0.050268</td>\n",
       "      <td>0.050268</td>\n",
       "      <td>0.050268</td>\n",
       "    </tr>\n",
       "    <tr>\n",
       "      <td>11882</td>\n",
       "      <td>0.052553</td>\n",
       "      <td>0.035277</td>\n",
       "      <td>0.055055</td>\n",
       "      <td>0.055055</td>\n",
       "      <td>0.052553</td>\n",
       "      <td>0.048173</td>\n",
       "      <td>0.042821</td>\n",
       "      <td>0.046246</td>\n",
       "    </tr>\n",
       "  </tbody>\n",
       "</table>\n",
       "</div>"
      ],
      "text/plain": [
       "       RESOURCE_enc  ROLE_CODE_enc  RESOURCE_MGR_ID_enc  \\\n",
       "8690       0.014452       0.006801             0.055055   \n",
       "2267       0.081493       0.024739             0.055055   \n",
       "13666      0.053904       0.055286             0.055055   \n",
       "25586      0.078310       0.048173             0.055055   \n",
       "11882      0.052553       0.035277             0.055055   \n",
       "\n",
       "       RESOURCE_ROLE_DEPTNAME_enc  RESOURCE_ROLLUP_12_enc  \\\n",
       "8690                     0.033033                0.021814   \n",
       "2267                     0.034005                0.052553   \n",
       "13666                    0.089840                0.038539   \n",
       "25586                    0.053494                0.046246   \n",
       "11882                    0.055055                0.052553   \n",
       "\n",
       "       MGR_ID_ROLE_FAMILY_DESC_enc  MGR_ID_ROLE_CODE_enc  \\\n",
       "8690                      0.044468              0.044468   \n",
       "2267                      0.048173              0.048173   \n",
       "13666                     0.052553              0.052553   \n",
       "25586                     0.050268              0.050268   \n",
       "11882                     0.048173              0.042821   \n",
       "\n",
       "       ROLE_FAMILY_DESC_ROLE_CODE_enc  \n",
       "8690                         0.026887  \n",
       "2267                         0.063123  \n",
       "13666                        0.052553  \n",
       "25586                        0.050268  \n",
       "11882                        0.046246  "
      ]
     },
     "execution_count": 88,
     "metadata": {},
     "output_type": "execute_result"
    }
   ],
   "source": [
    "xtr.head()"
   ]
  },
  {
   "cell_type": "code",
   "execution_count": 87,
   "metadata": {},
   "outputs": [
    {
     "data": {
      "text/plain": [
       "13"
      ]
     },
     "execution_count": 87,
     "metadata": {},
     "output_type": "execute_result"
    }
   ],
   "source": [
    "len(rem)"
   ]
  },
  {
   "cell_type": "code",
   "execution_count": 60,
   "metadata": {},
   "outputs": [
    {
     "data": {
      "text/html": [
       "<div>\n",
       "<style scoped>\n",
       "    .dataframe tbody tr th:only-of-type {\n",
       "        vertical-align: middle;\n",
       "    }\n",
       "\n",
       "    .dataframe tbody tr th {\n",
       "        vertical-align: top;\n",
       "    }\n",
       "\n",
       "    .dataframe thead th {\n",
       "        text-align: right;\n",
       "    }\n",
       "</style>\n",
       "<table border=\"1\" class=\"dataframe\">\n",
       "  <thead>\n",
       "    <tr style=\"text-align: right;\">\n",
       "      <th></th>\n",
       "      <th>Prob_lr</th>\n",
       "      <th>Pred_lr</th>\n",
       "      <th>Unnamed: 0</th>\n",
       "      <th>Prob_LGB</th>\n",
       "      <th>Pred_LGB</th>\n",
       "    </tr>\n",
       "  </thead>\n",
       "  <tbody>\n",
       "    <tr>\n",
       "      <td>0</td>\n",
       "      <td>0.011192</td>\n",
       "      <td>0</td>\n",
       "      <td>0</td>\n",
       "      <td>0.002141</td>\n",
       "      <td>0</td>\n",
       "    </tr>\n",
       "    <tr>\n",
       "      <td>1</td>\n",
       "      <td>0.033951</td>\n",
       "      <td>0</td>\n",
       "      <td>1</td>\n",
       "      <td>0.007025</td>\n",
       "      <td>0</td>\n",
       "    </tr>\n",
       "    <tr>\n",
       "      <td>2</td>\n",
       "      <td>0.017031</td>\n",
       "      <td>0</td>\n",
       "      <td>2</td>\n",
       "      <td>0.017982</td>\n",
       "      <td>0</td>\n",
       "    </tr>\n",
       "    <tr>\n",
       "      <td>3</td>\n",
       "      <td>0.258289</td>\n",
       "      <td>0</td>\n",
       "      <td>3</td>\n",
       "      <td>0.104717</td>\n",
       "      <td>0</td>\n",
       "    </tr>\n",
       "    <tr>\n",
       "      <td>4</td>\n",
       "      <td>0.021626</td>\n",
       "      <td>0</td>\n",
       "      <td>4</td>\n",
       "      <td>0.018057</td>\n",
       "      <td>0</td>\n",
       "    </tr>\n",
       "  </tbody>\n",
       "</table>\n",
       "</div>"
      ],
      "text/plain": [
       "    Prob_lr  Pred_lr  Unnamed: 0  Prob_LGB  Pred_LGB\n",
       "0  0.011192        0           0  0.002141         0\n",
       "1  0.033951        0           1  0.007025         0\n",
       "2  0.017031        0           2  0.017982         0\n",
       "3  0.258289        0           3  0.104717         0\n",
       "4  0.021626        0           4  0.018057         0"
      ]
     },
     "execution_count": 60,
     "metadata": {},
     "output_type": "execute_result"
    }
   ],
   "source": [
    "prob=mod.predict_proba(xts)[:,1]\n",
    "pred=mod.predict(xts)\n",
    "prob_lr=pd.DataFrame({'Prob_lr':prob,'Pred_lr':pred})\n",
    "prob_lgb=pd.read_csv('result_LGB.csv')\n",
    "results=pd.concat([prob_lr,prob_lgb],axis=1)\n",
    "results.head()\n"
   ]
  },
  {
   "cell_type": "code",
   "execution_count": 85,
   "metadata": {},
   "outputs": [
    {
     "data": {
      "text/html": [
       "<div>\n",
       "<style scoped>\n",
       "    .dataframe tbody tr th:only-of-type {\n",
       "        vertical-align: middle;\n",
       "    }\n",
       "\n",
       "    .dataframe tbody tr th {\n",
       "        vertical-align: top;\n",
       "    }\n",
       "\n",
       "    .dataframe thead th {\n",
       "        text-align: right;\n",
       "    }\n",
       "</style>\n",
       "<table border=\"1\" class=\"dataframe\">\n",
       "  <thead>\n",
       "    <tr style=\"text-align: right;\">\n",
       "      <th></th>\n",
       "      <th>Prob_lr</th>\n",
       "      <th>Pred_lr</th>\n",
       "      <th>Unnamed: 0</th>\n",
       "      <th>Prob_LGB</th>\n",
       "      <th>Pred_LGB</th>\n",
       "      <th>soft_1:1</th>\n",
       "      <th>soft_3:2</th>\n",
       "      <th>1:1_pred</th>\n",
       "      <th>3:2_pred</th>\n",
       "    </tr>\n",
       "  </thead>\n",
       "  <tbody>\n",
       "    <tr>\n",
       "      <td>0</td>\n",
       "      <td>0.011192</td>\n",
       "      <td>0</td>\n",
       "      <td>0</td>\n",
       "      <td>0.002141</td>\n",
       "      <td>0</td>\n",
       "      <td>0.006666</td>\n",
       "      <td>0.005432</td>\n",
       "      <td>0</td>\n",
       "      <td>0</td>\n",
       "    </tr>\n",
       "    <tr>\n",
       "      <td>1</td>\n",
       "      <td>0.033951</td>\n",
       "      <td>0</td>\n",
       "      <td>1</td>\n",
       "      <td>0.007025</td>\n",
       "      <td>0</td>\n",
       "      <td>0.020488</td>\n",
       "      <td>0.016817</td>\n",
       "      <td>0</td>\n",
       "      <td>0</td>\n",
       "    </tr>\n",
       "    <tr>\n",
       "      <td>2</td>\n",
       "      <td>0.017031</td>\n",
       "      <td>0</td>\n",
       "      <td>2</td>\n",
       "      <td>0.017982</td>\n",
       "      <td>0</td>\n",
       "      <td>0.017506</td>\n",
       "      <td>0.017636</td>\n",
       "      <td>0</td>\n",
       "      <td>0</td>\n",
       "    </tr>\n",
       "    <tr>\n",
       "      <td>3</td>\n",
       "      <td>0.258289</td>\n",
       "      <td>0</td>\n",
       "      <td>3</td>\n",
       "      <td>0.104717</td>\n",
       "      <td>0</td>\n",
       "      <td>0.181503</td>\n",
       "      <td>0.160561</td>\n",
       "      <td>0</td>\n",
       "      <td>0</td>\n",
       "    </tr>\n",
       "    <tr>\n",
       "      <td>4</td>\n",
       "      <td>0.021626</td>\n",
       "      <td>0</td>\n",
       "      <td>4</td>\n",
       "      <td>0.018057</td>\n",
       "      <td>0</td>\n",
       "      <td>0.019841</td>\n",
       "      <td>0.019355</td>\n",
       "      <td>0</td>\n",
       "      <td>0</td>\n",
       "    </tr>\n",
       "  </tbody>\n",
       "</table>\n",
       "</div>"
      ],
      "text/plain": [
       "    Prob_lr  Pred_lr  Unnamed: 0  Prob_LGB  Pred_LGB  soft_1:1  soft_3:2  \\\n",
       "0  0.011192        0           0  0.002141         0  0.006666  0.005432   \n",
       "1  0.033951        0           1  0.007025         0  0.020488  0.016817   \n",
       "2  0.017031        0           2  0.017982         0  0.017506  0.017636   \n",
       "3  0.258289        0           3  0.104717         0  0.181503  0.160561   \n",
       "4  0.021626        0           4  0.018057         0  0.019841  0.019355   \n",
       "\n",
       "   1:1_pred  3:2_pred  \n",
       "0         0         0  \n",
       "1         0         0  \n",
       "2         0         0  \n",
       "3         0         0  \n",
       "4         0         0  "
      ]
     },
     "execution_count": 85,
     "metadata": {},
     "output_type": "execute_result"
    }
   ],
   "source": [
    "results['soft_1:1']=(results['Prob_lr']+results['Prob_LGB'])/2\n",
    "results['soft_3:2']=(2*results['Prob_lr']+3.5*results['Prob_LGB'])/5.5\n",
    "results['1:1_pred']=results['soft_1:1'].apply(lambda x:0 if x<0.5 else 1)\n",
    "results['3:2_pred']=results['soft_3:2'].apply(lambda x:0 if x<0.5 else 1)\n",
    "\n",
    "results.head()"
   ]
  },
  {
   "cell_type": "code",
   "execution_count": 86,
   "metadata": {},
   "outputs": [
    {
     "name": "stdout",
     "output_type": "stream",
     "text": [
      "0.8861842926471311\n",
      "0.8831796363471308\n",
      "0.17162872154115585 0.18739054290718038\n",
      "[[9221   39]\n",
      " [ 473   98]]\n",
      "\n",
      " [[9224   36]\n",
      " [ 464  107]]\n"
     ]
    }
   ],
   "source": [
    "auc1=roc_auc_score(yts,results['soft_1:1'])\n",
    "auc2=roc_auc_score(yts,results['soft_3:2'])\n",
    "recall_1=recall_score(yts,results['1:1_pred'])\n",
    "recall_2=recall_score(yts,results['3:2_pred'])\n",
    "print(auc1)\n",
    "print(auc2)\n",
    "print(recall_1,recall_2)\n",
    "print(confusion_matrix(yts,results['1:1_pred']))\n",
    "print('\\n',confusion_matrix(yts,results['3:2_pred']))\n"
   ]
  },
  {
   "cell_type": "code",
   "execution_count": 70,
   "metadata": {},
   "outputs": [
    {
     "data": {
      "text/plain": [
       "0    9260\n",
       "1     571\n",
       "Name: target, dtype: int64"
      ]
     },
     "execution_count": 70,
     "metadata": {},
     "output_type": "execute_result"
    }
   ],
   "source": [
    "yts.value_counts()"
   ]
  },
  {
   "cell_type": "code",
   "execution_count": 89,
   "metadata": {},
   "outputs": [
    {
     "name": "stdout",
     "output_type": "stream",
     "text": [
      "AUC_ROC=  0.7954393981231063\n",
      "Accuracy=  0.9412063879564643\n",
      "confusion matrix:\n",
      " [[9237   23]\n",
      " [ 555   16]]\n"
     ]
    }
   ],
   "source": [
    "from sklearn.ensemble import RandomForestClassifier\n",
    "rf=RandomForestClassifier(n_estimators=200)\n",
    "t1=t.drop(rem,axis=1)\n",
    "v1=v.drop(rem,axis=1)\n",
    "xtr=t1.drop('target',axis=1)\n",
    "xts=v1.drop(target,axis=1)\n",
    "ytr=t1[target]\n",
    "yts=v1[target]\n",
    "#cols=list(xtr.columns)\n",
    "mod=rf.fit(xtr,ytr)\n",
    "aucroc1(mod,xts,yts)"
   ]
  },
  {
   "cell_type": "code",
   "execution_count": null,
   "metadata": {},
   "outputs": [],
   "source": []
  }
 ],
 "metadata": {
  "kernelspec": {
   "display_name": "Python 3",
   "language": "python",
   "name": "python3"
  },
  "language_info": {
   "codemirror_mode": {
    "name": "ipython",
    "version": 3
   },
   "file_extension": ".py",
   "mimetype": "text/x-python",
   "name": "python",
   "nbconvert_exporter": "python",
   "pygments_lexer": "ipython3",
   "version": "3.7.4"
  }
 },
 "nbformat": 4,
 "nbformat_minor": 2
}
