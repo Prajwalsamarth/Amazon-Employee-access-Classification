{
 "cells": [
  {
   "cell_type": "code",
   "execution_count": 1,
   "metadata": {},
   "outputs": [],
   "source": [
    "import numpy as np\n",
    "import pandas as pd \n",
    "import matplotlib.pyplot as plt\n",
    "import seaborn as sns \n",
    "import scipy.stats as st \n",
    "from tqdm import tqdm \n",
    "import os\n",
    "## Change directory to your working directory\n",
    "os.chdir('D:\\Shashi Katteri\\Desktop\\data sets to work on\\Amazon Employee Access\\Dataset_10')"
   ]
  },
  {
   "cell_type": "code",
   "execution_count": 2,
   "metadata": {},
   "outputs": [
    {
     "data": {
      "text/html": [
       "<div>\n",
       "<style scoped>\n",
       "    .dataframe tbody tr th:only-of-type {\n",
       "        vertical-align: middle;\n",
       "    }\n",
       "\n",
       "    .dataframe tbody tr th {\n",
       "        vertical-align: top;\n",
       "    }\n",
       "\n",
       "    .dataframe thead th {\n",
       "        text-align: right;\n",
       "    }\n",
       "</style>\n",
       "<table border=\"1\" class=\"dataframe\">\n",
       "  <thead>\n",
       "    <tr style=\"text-align: right;\">\n",
       "      <th></th>\n",
       "      <th>RESOURCE</th>\n",
       "      <th>MGR_ID</th>\n",
       "      <th>ROLE_ROLLUP_1</th>\n",
       "      <th>ROLE_ROLLUP_2</th>\n",
       "      <th>ROLE_DEPTNAME</th>\n",
       "      <th>ROLE_TITLE</th>\n",
       "      <th>ROLE_FAMILY_DESC</th>\n",
       "      <th>ROLE_FAMILY</th>\n",
       "      <th>ROLE_CODE</th>\n",
       "      <th>target</th>\n",
       "    </tr>\n",
       "  </thead>\n",
       "  <tbody>\n",
       "    <tr>\n",
       "      <td>0</td>\n",
       "      <td>39353</td>\n",
       "      <td>85475</td>\n",
       "      <td>117961</td>\n",
       "      <td>118300</td>\n",
       "      <td>123472</td>\n",
       "      <td>117905</td>\n",
       "      <td>117906</td>\n",
       "      <td>290919</td>\n",
       "      <td>117908</td>\n",
       "      <td>1</td>\n",
       "    </tr>\n",
       "    <tr>\n",
       "      <td>1</td>\n",
       "      <td>17183</td>\n",
       "      <td>1540</td>\n",
       "      <td>117961</td>\n",
       "      <td>118343</td>\n",
       "      <td>123125</td>\n",
       "      <td>118536</td>\n",
       "      <td>118536</td>\n",
       "      <td>308574</td>\n",
       "      <td>118539</td>\n",
       "      <td>1</td>\n",
       "    </tr>\n",
       "    <tr>\n",
       "      <td>2</td>\n",
       "      <td>36724</td>\n",
       "      <td>14457</td>\n",
       "      <td>118219</td>\n",
       "      <td>118220</td>\n",
       "      <td>117884</td>\n",
       "      <td>117879</td>\n",
       "      <td>267952</td>\n",
       "      <td>19721</td>\n",
       "      <td>117880</td>\n",
       "      <td>1</td>\n",
       "    </tr>\n",
       "    <tr>\n",
       "      <td>3</td>\n",
       "      <td>36135</td>\n",
       "      <td>5396</td>\n",
       "      <td>117961</td>\n",
       "      <td>118343</td>\n",
       "      <td>119993</td>\n",
       "      <td>118321</td>\n",
       "      <td>240983</td>\n",
       "      <td>290919</td>\n",
       "      <td>118322</td>\n",
       "      <td>1</td>\n",
       "    </tr>\n",
       "    <tr>\n",
       "      <td>4</td>\n",
       "      <td>42680</td>\n",
       "      <td>5905</td>\n",
       "      <td>117929</td>\n",
       "      <td>117930</td>\n",
       "      <td>119569</td>\n",
       "      <td>119323</td>\n",
       "      <td>123932</td>\n",
       "      <td>19793</td>\n",
       "      <td>119325</td>\n",
       "      <td>1</td>\n",
       "    </tr>\n",
       "  </tbody>\n",
       "</table>\n",
       "</div>"
      ],
      "text/plain": [
       "   RESOURCE  MGR_ID  ROLE_ROLLUP_1  ROLE_ROLLUP_2  ROLE_DEPTNAME  ROLE_TITLE  \\\n",
       "0     39353   85475         117961         118300         123472      117905   \n",
       "1     17183    1540         117961         118343         123125      118536   \n",
       "2     36724   14457         118219         118220         117884      117879   \n",
       "3     36135    5396         117961         118343         119993      118321   \n",
       "4     42680    5905         117929         117930         119569      119323   \n",
       "\n",
       "   ROLE_FAMILY_DESC  ROLE_FAMILY  ROLE_CODE  target  \n",
       "0            117906       290919     117908       1  \n",
       "1            118536       308574     118539       1  \n",
       "2            267952        19721     117880       1  \n",
       "3            240983       290919     118322       1  \n",
       "4            123932        19793     119325       1  "
      ]
     },
     "execution_count": 2,
     "metadata": {},
     "output_type": "execute_result"
    }
   ],
   "source": [
    "df=pd.read_csv('Amazon_employee_access.csv')\n",
    "df.head()"
   ]
  },
  {
   "cell_type": "code",
   "execution_count": 3,
   "metadata": {},
   "outputs": [],
   "source": [
    "df1=df.astype(str)\n",
    "df1['target']=df1['target'].astype(int)"
   ]
  },
  {
   "cell_type": "code",
   "execution_count": 4,
   "metadata": {},
   "outputs": [],
   "source": [
    "#df1['ROLE_ROLLUP_12']=df1['ROLE_ROLLUP_1']+df1['ROLE_ROLLUP_2']\n",
    "df1=df1.drop(['ROLE_TITLE','ROLE_FAMILY'],axis=1)\n"
   ]
  },
  {
   "cell_type": "code",
   "execution_count": 5,
   "metadata": {},
   "outputs": [],
   "source": [
    "df1['target']=df1['target'].map({1:0,0:1})"
   ]
  },
  {
   "cell_type": "code",
   "execution_count": 6,
   "metadata": {},
   "outputs": [],
   "source": [
    "df1['ROLLUP_12']=df1['ROLE_ROLLUP_1']+df1['ROLE_ROLLUP_2']\n",
    "df1=df1.drop(['ROLE_ROLLUP_1','ROLE_ROLLUP_2'],axis=1)"
   ]
  },
  {
   "cell_type": "code",
   "execution_count": 7,
   "metadata": {},
   "outputs": [
    {
     "data": {
      "text/html": [
       "<div>\n",
       "<style scoped>\n",
       "    .dataframe tbody tr th:only-of-type {\n",
       "        vertical-align: middle;\n",
       "    }\n",
       "\n",
       "    .dataframe tbody tr th {\n",
       "        vertical-align: top;\n",
       "    }\n",
       "\n",
       "    .dataframe thead th {\n",
       "        text-align: right;\n",
       "    }\n",
       "</style>\n",
       "<table border=\"1\" class=\"dataframe\">\n",
       "  <thead>\n",
       "    <tr style=\"text-align: right;\">\n",
       "      <th></th>\n",
       "      <th>RESOURCE</th>\n",
       "      <th>MGR_ID</th>\n",
       "      <th>ROLE_DEPTNAME</th>\n",
       "      <th>ROLE_FAMILY_DESC</th>\n",
       "      <th>ROLE_CODE</th>\n",
       "      <th>target</th>\n",
       "      <th>ROLLUP_12</th>\n",
       "    </tr>\n",
       "  </thead>\n",
       "  <tbody>\n",
       "    <tr>\n",
       "      <td>0</td>\n",
       "      <td>39353</td>\n",
       "      <td>85475</td>\n",
       "      <td>123472</td>\n",
       "      <td>117906</td>\n",
       "      <td>117908</td>\n",
       "      <td>0</td>\n",
       "      <td>117961118300</td>\n",
       "    </tr>\n",
       "    <tr>\n",
       "      <td>1</td>\n",
       "      <td>17183</td>\n",
       "      <td>1540</td>\n",
       "      <td>123125</td>\n",
       "      <td>118536</td>\n",
       "      <td>118539</td>\n",
       "      <td>0</td>\n",
       "      <td>117961118343</td>\n",
       "    </tr>\n",
       "    <tr>\n",
       "      <td>2</td>\n",
       "      <td>36724</td>\n",
       "      <td>14457</td>\n",
       "      <td>117884</td>\n",
       "      <td>267952</td>\n",
       "      <td>117880</td>\n",
       "      <td>0</td>\n",
       "      <td>118219118220</td>\n",
       "    </tr>\n",
       "    <tr>\n",
       "      <td>3</td>\n",
       "      <td>36135</td>\n",
       "      <td>5396</td>\n",
       "      <td>119993</td>\n",
       "      <td>240983</td>\n",
       "      <td>118322</td>\n",
       "      <td>0</td>\n",
       "      <td>117961118343</td>\n",
       "    </tr>\n",
       "    <tr>\n",
       "      <td>4</td>\n",
       "      <td>42680</td>\n",
       "      <td>5905</td>\n",
       "      <td>119569</td>\n",
       "      <td>123932</td>\n",
       "      <td>119325</td>\n",
       "      <td>0</td>\n",
       "      <td>117929117930</td>\n",
       "    </tr>\n",
       "  </tbody>\n",
       "</table>\n",
       "</div>"
      ],
      "text/plain": [
       "  RESOURCE MGR_ID ROLE_DEPTNAME ROLE_FAMILY_DESC ROLE_CODE  target  \\\n",
       "0    39353  85475        123472           117906    117908       0   \n",
       "1    17183   1540        123125           118536    118539       0   \n",
       "2    36724  14457        117884           267952    117880       0   \n",
       "3    36135   5396        119993           240983    118322       0   \n",
       "4    42680   5905        119569           123932    119325       0   \n",
       "\n",
       "      ROLLUP_12  \n",
       "0  117961118300  \n",
       "1  117961118343  \n",
       "2  118219118220  \n",
       "3  117961118343  \n",
       "4  117929117930  "
      ]
     },
     "execution_count": 7,
     "metadata": {},
     "output_type": "execute_result"
    }
   ],
   "source": [
    "df1.head()"
   ]
  },
  {
   "cell_type": "markdown",
   "metadata": {},
   "source": [
    "# Combinations with brute force \n"
   ]
  },
  {
   "cell_type": "code",
   "execution_count": 8,
   "metadata": {},
   "outputs": [
    {
     "name": "stdout",
     "output_type": "stream",
     "text": [
      "<class 'pandas.core.frame.DataFrame'>\n",
      "RangeIndex: 32769 entries, 0 to 32768\n",
      "Data columns (total 22 columns):\n",
      "RESOURCE                          32769 non-null object\n",
      "MGR_ID                            32769 non-null object\n",
      "ROLE_DEPTNAME                     32769 non-null object\n",
      "ROLE_FAMILY_DESC                  32769 non-null object\n",
      "ROLE_CODE                         32769 non-null object\n",
      "target                            32769 non-null int64\n",
      "ROLLUP_12                         32769 non-null object\n",
      "RESOURCE_MGR_ID                   32769 non-null object\n",
      "RESOURCE_ROLE_DEPTNAME            32769 non-null object\n",
      "RESOURCE_ROLE_FAMILY_DESC         32769 non-null object\n",
      "RESOURCE_ROLE_CODE                32769 non-null object\n",
      "RESOURCE_ROLLUP_12                32769 non-null object\n",
      "MGR_ID_ROLE_DEPTNAME              32769 non-null object\n",
      "MGR_ID_ROLE_FAMILY_DESC           32769 non-null object\n",
      "MGR_ID_ROLE_CODE                  32769 non-null object\n",
      "MGR_ID_ROLLUP_12                  32769 non-null object\n",
      "ROLE_DEPTNAME_ROLE_FAMILY_DESC    32769 non-null object\n",
      "ROLE_DEPTNAME_ROLE_CODE           32769 non-null object\n",
      "ROLE_DEPTNAME_ROLLUP_12           32769 non-null object\n",
      "ROLE_FAMILY_DESC_ROLE_CODE        32769 non-null object\n",
      "ROLE_FAMILY_DESC_ROLLUP_12        32769 non-null object\n",
      "ROLE_CODE_ROLLUP_12               32769 non-null object\n",
      "dtypes: int64(1), object(21)\n",
      "memory usage: 5.5+ MB\n"
     ]
    }
   ],
   "source": [
    "from itertools import combinations\n",
    "\n",
    "cols=list(df1.columns)\n",
    "cols.remove('target')\n",
    "d=df1.copy()\n",
    "\n",
    "for j in combinations(cols,2):\n",
    "    d[j[0]+'_'+j[1]]=df1[j[0]]+df1[j[1]]\n",
    "    \n",
    "d.info()"
   ]
  },
  {
   "cell_type": "code",
   "execution_count": 9,
   "metadata": {},
   "outputs": [],
   "source": [
    "from lightgbm import LGBMClassifier\n",
    "from sklearn.metrics import *\n",
    "from sklearn.model_selection import train_test_split,StratifiedKFold,KFold"
   ]
  },
  {
   "cell_type": "code",
   "execution_count": 10,
   "metadata": {},
   "outputs": [],
   "source": [
    "def aucroc(mod,x,y):\n",
    "    pred=mod.predict(x)\n",
    "    prob=mod.predict_proba(x)[:,1]\n",
    "    auc=roc_auc_score(y,prob)\n",
    "    \n",
    "    return auc"
   ]
  },
  {
   "cell_type": "code",
   "execution_count": 11,
   "metadata": {},
   "outputs": [],
   "source": [
    "import warnings\n",
    "warnings.filterwarnings('ignore')\n",
    "def kfold_AS_target(train,test,columns,target,weight,folds=10):\n",
    "    \n",
    "    columns=list(columns)\n",
    "    kf=KFold()\n",
    "    t=train\n",
    "    v=test\n",
    "    gm=t[target].mean()\n",
    "    for col in columns:\n",
    "        \n",
    "        for i,j in kf.split(t):\n",
    "            gb=t.loc[t.index[i]].groupby(col)[target].agg(['count','mean'])\n",
    "            count=gb['count']\n",
    "            mean=gb['mean']\n",
    "            gb['smooth']=(count*mean + weight*gm)/(count+weight)\n",
    "            t.loc[t.index[j],col+'_enc']=t.loc[t.index[j],col].map(gb['smooth'])\n",
    "            \n",
    "        t[col+'_enc']=t[col+'_enc'].fillna(gm)\n",
    "        \n",
    "        gb=t.groupby(col)[target].agg(['count','mean'])\n",
    "        count=gb['count']\n",
    "        mean=gb['mean']\n",
    "        gb['smooth']=(count*mean + weight*gm)/(count+weight)\n",
    "        \n",
    "        v[col+'_enc']=v[col].map(gb['smooth'])\n",
    "        v[col+'_enc']=v[col+'_enc'].fillna(gm)\n",
    "        \n",
    "    t=t.drop(columns,axis=1)\n",
    "    v=v.drop(columns,axis=1)\n",
    "\n",
    "    return t,v\n",
    "        "
   ]
  },
  {
   "cell_type": "code",
   "execution_count": 12,
   "metadata": {},
   "outputs": [],
   "source": [
    "def cross_val(algo,d,columns,target):\n",
    "    sf=StratifiedKFold(n_splits=10)\n",
    "    model=algo\n",
    "    fold=0\n",
    "    fold_mod=[]\n",
    "    x=df.drop(target,axis=1)\n",
    "    y=df[target]\n",
    "    for i,j in sf.split(x,y):\n",
    "\n",
    "        fold=fold+1\n",
    "\n",
    "        train=d.iloc[i]\n",
    "        test=d.iloc[j]\n",
    "        \n",
    "        c=columns+[target]\n",
    "        t,v=kfold_AS_target(train[c],test[c],columns,target,100,folds=10)\n",
    "\n",
    "\n",
    "        xtr=t.drop(target,axis=1)\n",
    "        xts=v.drop(target,axis=1)\n",
    "        ytr=t[target]\n",
    "        yts=v[target]\n",
    "\n",
    "\n",
    "        mod=model.fit(xtr,ytr)\n",
    "\n",
    "        auc=aucroc(mod,xts,yts)\n",
    "        fold_mod.append(auc)\n",
    "    return fold_mod\n"
   ]
  },
  {
   "cell_type": "code",
   "execution_count": 14,
   "metadata": {},
   "outputs": [],
   "source": [
    "def eliminate(algo,cols,df,target):\n",
    "    \n",
    "    high=0\n",
    "\n",
    "    for i in tqdm(cols):\n",
    "        c=cols.copy()\n",
    "        c.remove(i)\n",
    "\n",
    "       \n",
    "        auc=cross_val(algo,df,c,target)\n",
    "        auc_sc=np.array(auc).mean()\n",
    "        if auc_sc>high:\n",
    "            high=auc_sc\n",
    "            r=i\n",
    "\n",
    "    return high,r\n",
    "\n",
    "\n",
    "def col_select(algo,step,df,cols,target):\n",
    "    \n",
    "    \n",
    "    \n",
    "    p=[]\n",
    "    removed=[]\n",
    "\n",
    "    high_current=0\n",
    "    removed_new=[]\n",
    "    high_new=0\n",
    "    best=0\n",
    "   # best_rem=[]\n",
    "    while high_current-high_new<step:    \n",
    "\n",
    "\n",
    "        removed=removed+removed_new\n",
    "        print(len(removed))\n",
    "        removed_new=[]\n",
    "\n",
    "\n",
    "        if high_current==0:\n",
    "            high_new,r=eliminate(algo,cols,df,target)\n",
    "        else:\n",
    "            high_current=high_new\n",
    "        if len(cols)>2:\n",
    "            \n",
    "            while high_new>=high_current:\n",
    "                cols.remove(r)\n",
    "                removed_new.append(r)\n",
    "                high_current=high_new\n",
    "\n",
    "                high_new,r=eliminate(algo,cols,df,target)\n",
    "                print(high_new)\n",
    "                if high_new>best:\n",
    "                    best=high_new\n",
    "                    best_rem=removed+removed_new+[r]\n",
    "                    print(best_rem)\n",
    "        else:\n",
    "            break\n",
    "\n",
    "    print('high_auc=',high_current)\n",
    "    print('auc_one step ahead=',high_new)\n",
    "    print('removed: ',removed)\n",
    "    print('len=',len(removed))\n",
    "    print('best=',best)\n",
    "    print('best_rem=',best_rem)"
   ]
  },
  {
   "cell_type": "code",
   "execution_count": null,
   "metadata": {},
   "outputs": [
    {
     "name": "stdout",
     "output_type": "stream",
     "text": [
      "0\n"
     ]
    },
    {
     "name": "stderr",
     "output_type": "stream",
     "text": [
      "\r",
      "  0%|          | 0/21 [00:00<?, ?it/s]"
     ]
    }
   ],
   "source": [
    "lgb=LGBMClassifier(n_estimators=150)\n",
    "columns=list(d.columns)\n",
    "columns.remove('target')\n",
    "target='target'\n",
    "col_select(lgb,0.1,d,columns,target)"
   ]
  },
  {
   "cell_type": "code",
   "execution_count": null,
   "metadata": {},
   "outputs": [],
   "source": [
    "from catboost import CatBoostClassifier\n",
    "rem=['ROLE_DEPTNAME_ROLE_CODE', 'MGR_ID_ROLLUP_12', 'ROLE_FAMILY_DESC_ROLLUP_12', 'ROLE_FAMILY_DESC', \n",
    "     'RESOURCE_ROLE_FAMILY_DESC']\n",
    "d1=d.drop(rem,axis=1)\n",
    "cols=list(d1.columns)\n",
    "cols.remove('target')\n",
    "target='target'\n",
    "\n",
    "cb=CatBoostClassifier(learning_rate=0.01,loss_function='CrossEntropy',eval_metric='AUC')\n",
    "\n",
    "auc=cross_val(cb,d1,cols,target)"
   ]
  },
  {
   "cell_type": "code",
   "execution_count": null,
   "metadata": {},
   "outputs": [],
   "source": [
    "np.array(auc).mean()"
   ]
  },
  {
   "cell_type": "code",
   "execution_count": null,
   "metadata": {},
   "outputs": [],
   "source": [
    "from catboost import CatBoostClassifier"
   ]
  },
  {
   "cell_type": "code",
   "execution_count": 15,
   "metadata": {
    "scrolled": true
   },
   "outputs": [
    {
     "name": "stdout",
     "output_type": "stream",
     "text": [
      "0\n"
     ]
    },
    {
     "name": "stderr",
     "output_type": "stream",
     "text": [
      "100%|██████████| 21/21 [1:12:56<00:00, 208.42s/it]\n",
      "100%|██████████| 20/20 [8:58:04<00:00, 1614.23s/it]  \n"
     ]
    },
    {
     "name": "stdout",
     "output_type": "stream",
     "text": [
      "0.8993270759025777\n",
      "['MGR_ID_ROLE_DEPTNAME', 'MGR_ID']\n"
     ]
    },
    {
     "name": "stderr",
     "output_type": "stream",
     "text": [
      "100%|██████████| 19/19 [2:44:13<00:00, 518.60s/it]   \n"
     ]
    },
    {
     "name": "stdout",
     "output_type": "stream",
     "text": [
      "0.899918539552945\n",
      "['MGR_ID_ROLE_DEPTNAME', 'MGR_ID', 'ROLE_DEPTNAME_ROLLUP_12']\n"
     ]
    },
    {
     "name": "stderr",
     "output_type": "stream",
     "text": [
      "100%|██████████| 18/18 [1:04:20<00:00, 214.50s/it]\n"
     ]
    },
    {
     "name": "stdout",
     "output_type": "stream",
     "text": [
      "0.89970291632263\n",
      "3\n"
     ]
    },
    {
     "name": "stderr",
     "output_type": "stream",
     "text": [
      "100%|██████████| 17/17 [1:16:12<00:00, 268.94s/it]\n"
     ]
    },
    {
     "name": "stdout",
     "output_type": "stream",
     "text": [
      "0.900119736982513\n",
      "['MGR_ID_ROLE_DEPTNAME', 'MGR_ID', 'ROLE_DEPTNAME_ROLLUP_12', 'MGR_ID_ROLLUP_12', 'ROLLUP_12']\n"
     ]
    },
    {
     "name": "stderr",
     "output_type": "stream",
     "text": [
      "100%|██████████| 16/16 [1:05:37<00:00, 246.11s/it]\n"
     ]
    },
    {
     "name": "stdout",
     "output_type": "stream",
     "text": [
      "0.9002308854763269\n",
      "['MGR_ID_ROLE_DEPTNAME', 'MGR_ID', 'ROLE_DEPTNAME_ROLLUP_12', 'MGR_ID_ROLLUP_12', 'ROLLUP_12', 'ROLE_CODE_ROLLUP_12']\n"
     ]
    },
    {
     "name": "stderr",
     "output_type": "stream",
     "text": [
      "100%|██████████| 15/15 [1:10:20<00:00, 281.34s/it]\n"
     ]
    },
    {
     "name": "stdout",
     "output_type": "stream",
     "text": [
      "0.9009014475905552\n",
      "['MGR_ID_ROLE_DEPTNAME', 'MGR_ID', 'ROLE_DEPTNAME_ROLLUP_12', 'MGR_ID_ROLLUP_12', 'ROLLUP_12', 'ROLE_CODE_ROLLUP_12', 'RESOURCE_ROLE_FAMILY_DESC']\n"
     ]
    },
    {
     "name": "stderr",
     "output_type": "stream",
     "text": [
      "100%|██████████| 14/14 [1:52:55<00:00, 483.95s/it]   \n"
     ]
    },
    {
     "name": "stdout",
     "output_type": "stream",
     "text": [
      "0.9006527108044324\n",
      "7\n"
     ]
    },
    {
     "name": "stderr",
     "output_type": "stream",
     "text": [
      "100%|██████████| 13/13 [2:22:10<00:00, 656.19s/it]  \n"
     ]
    },
    {
     "name": "stdout",
     "output_type": "stream",
     "text": [
      "0.9006493544630064\n",
      "8\n"
     ]
    },
    {
     "name": "stderr",
     "output_type": "stream",
     "text": [
      "100%|██████████| 12/12 [41:51<00:00, 209.26s/it]\n"
     ]
    },
    {
     "name": "stdout",
     "output_type": "stream",
     "text": [
      "0.9002892036910835\n",
      "9\n"
     ]
    },
    {
     "name": "stderr",
     "output_type": "stream",
     "text": [
      "100%|██████████| 11/11 [50:46<00:00, 276.92s/it]\n"
     ]
    },
    {
     "name": "stdout",
     "output_type": "stream",
     "text": [
      "0.9002336705615391\n",
      "10\n"
     ]
    },
    {
     "name": "stderr",
     "output_type": "stream",
     "text": [
      "100%|██████████| 10/10 [41:27<00:00, 248.72s/it]\n"
     ]
    },
    {
     "name": "stdout",
     "output_type": "stream",
     "text": [
      "0.8995329533168727\n",
      "11\n"
     ]
    },
    {
     "name": "stderr",
     "output_type": "stream",
     "text": [
      "100%|██████████| 9/9 [28:04<00:00, 187.15s/it]\n"
     ]
    },
    {
     "name": "stdout",
     "output_type": "stream",
     "text": [
      "0.8990766502600538\n",
      "12\n"
     ]
    },
    {
     "name": "stderr",
     "output_type": "stream",
     "text": [
      "100%|██████████| 8/8 [28:50<00:00, 216.34s/it]\n"
     ]
    },
    {
     "name": "stdout",
     "output_type": "stream",
     "text": [
      "0.8977153070459419\n",
      "13\n"
     ]
    },
    {
     "name": "stderr",
     "output_type": "stream",
     "text": [
      "100%|██████████| 7/7 [39:28<00:00, 338.31s/it]\n"
     ]
    },
    {
     "name": "stdout",
     "output_type": "stream",
     "text": [
      "0.8967996444258178\n",
      "14\n"
     ]
    },
    {
     "name": "stderr",
     "output_type": "stream",
     "text": [
      "100%|██████████| 6/6 [22:50<00:00, 228.49s/it]\n"
     ]
    },
    {
     "name": "stdout",
     "output_type": "stream",
     "text": [
      "0.8940958592511243\n",
      "15\n"
     ]
    },
    {
     "name": "stderr",
     "output_type": "stream",
     "text": [
      "100%|██████████| 5/5 [19:07<00:00, 229.50s/it]\n"
     ]
    },
    {
     "name": "stdout",
     "output_type": "stream",
     "text": [
      "0.8896395026736688\n",
      "16\n"
     ]
    },
    {
     "name": "stderr",
     "output_type": "stream",
     "text": [
      "100%|██████████| 4/4 [14:15<00:00, 213.86s/it]\n"
     ]
    },
    {
     "name": "stdout",
     "output_type": "stream",
     "text": [
      "0.8842369295540922\n",
      "17\n"
     ]
    },
    {
     "name": "stderr",
     "output_type": "stream",
     "text": [
      "100%|██████████| 3/3 [08:29<00:00, 169.77s/it]\n"
     ]
    },
    {
     "name": "stdout",
     "output_type": "stream",
     "text": [
      "0.8708817319496337\n",
      "high_auc= 0.8842369295540922\n",
      "auc_one step ahead= 0.8708817319496337\n",
      "removed:  ['MGR_ID_ROLE_DEPTNAME', 'MGR_ID', 'ROLE_DEPTNAME_ROLLUP_12', 'MGR_ID_ROLLUP_12', 'ROLLUP_12', 'ROLE_CODE_ROLLUP_12', 'RESOURCE_ROLE_FAMILY_DESC', 'ROLE_FAMILY_DESC', 'ROLE_DEPTNAME_ROLE_FAMILY_DESC', 'ROLE_DEPTNAME', 'ROLE_CODE', 'ROLE_FAMILY_DESC_ROLLUP_12', 'RESOURCE_ROLE_CODE', 'RESOURCE_ROLLUP_12', 'MGR_ID_ROLE_CODE', 'ROLE_FAMILY_DESC_ROLE_CODE', 'ROLE_DEPTNAME_ROLE_CODE']\n",
      "len= 17\n",
      "best= 0.9009014475905552\n",
      "best_rem= ['MGR_ID_ROLE_DEPTNAME', 'MGR_ID', 'ROLE_DEPTNAME_ROLLUP_12', 'MGR_ID_ROLLUP_12', 'ROLLUP_12', 'ROLE_CODE_ROLLUP_12', 'RESOURCE_ROLE_FAMILY_DESC']\n"
     ]
    }
   ],
   "source": [
    "from catboost import CatBoostClassifier\n",
    "\n",
    "cb=CatBoostClassifier(learning_rate=0.01,loss_function='CrossEntropy',eval_metric='AUC',verbose=False)\n",
    "columns=list(d.columns)\n",
    "columns.remove('target')\n",
    "target='target'\n",
    "col_select(cb,0.01,d,columns,target)"
   ]
  },
  {
   "cell_type": "code",
   "execution_count": null,
   "metadata": {},
   "outputs": [],
   "source": []
  },
  {
   "cell_type": "code",
   "execution_count": null,
   "metadata": {},
   "outputs": [],
   "source": []
  }
 ],
 "metadata": {
  "kernelspec": {
   "display_name": "Python 3",
   "language": "python",
   "name": "python3"
  },
  "language_info": {
   "codemirror_mode": {
    "name": "ipython",
    "version": 3
   },
   "file_extension": ".py",
   "mimetype": "text/x-python",
   "name": "python",
   "nbconvert_exporter": "python",
   "pygments_lexer": "ipython3",
   "version": "3.7.4"
  }
 },
 "nbformat": 4,
 "nbformat_minor": 2
}
