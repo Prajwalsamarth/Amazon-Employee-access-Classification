{
 "cells": [
  {
   "cell_type": "code",
   "execution_count": 1,
   "metadata": {},
   "outputs": [],
   "source": [
    "import numpy as np\n",
    "import pandas as pd \n",
    "import matplotlib.pyplot as plt\n",
    "import seaborn as sns \n",
    "import scipy.stats as st \n",
    "from tqdm import tqdm \n",
    "import os\n",
    "## Change directory to your working directory\n",
    "os.chdir('D:\\Shashi Katteri\\Desktop\\data sets to work on\\Amazon Employee Access\\Dataset_10')"
   ]
  },
  {
   "cell_type": "code",
   "execution_count": 2,
   "metadata": {},
   "outputs": [
    {
     "data": {
      "text/html": [
       "<div>\n",
       "<style scoped>\n",
       "    .dataframe tbody tr th:only-of-type {\n",
       "        vertical-align: middle;\n",
       "    }\n",
       "\n",
       "    .dataframe tbody tr th {\n",
       "        vertical-align: top;\n",
       "    }\n",
       "\n",
       "    .dataframe thead th {\n",
       "        text-align: right;\n",
       "    }\n",
       "</style>\n",
       "<table border=\"1\" class=\"dataframe\">\n",
       "  <thead>\n",
       "    <tr style=\"text-align: right;\">\n",
       "      <th></th>\n",
       "      <th>RESOURCE</th>\n",
       "      <th>MGR_ID</th>\n",
       "      <th>ROLE_ROLLUP_1</th>\n",
       "      <th>ROLE_ROLLUP_2</th>\n",
       "      <th>ROLE_DEPTNAME</th>\n",
       "      <th>ROLE_TITLE</th>\n",
       "      <th>ROLE_FAMILY_DESC</th>\n",
       "      <th>ROLE_FAMILY</th>\n",
       "      <th>ROLE_CODE</th>\n",
       "      <th>target</th>\n",
       "    </tr>\n",
       "  </thead>\n",
       "  <tbody>\n",
       "    <tr>\n",
       "      <td>0</td>\n",
       "      <td>39353</td>\n",
       "      <td>85475</td>\n",
       "      <td>117961</td>\n",
       "      <td>118300</td>\n",
       "      <td>123472</td>\n",
       "      <td>117905</td>\n",
       "      <td>117906</td>\n",
       "      <td>290919</td>\n",
       "      <td>117908</td>\n",
       "      <td>1</td>\n",
       "    </tr>\n",
       "    <tr>\n",
       "      <td>1</td>\n",
       "      <td>17183</td>\n",
       "      <td>1540</td>\n",
       "      <td>117961</td>\n",
       "      <td>118343</td>\n",
       "      <td>123125</td>\n",
       "      <td>118536</td>\n",
       "      <td>118536</td>\n",
       "      <td>308574</td>\n",
       "      <td>118539</td>\n",
       "      <td>1</td>\n",
       "    </tr>\n",
       "    <tr>\n",
       "      <td>2</td>\n",
       "      <td>36724</td>\n",
       "      <td>14457</td>\n",
       "      <td>118219</td>\n",
       "      <td>118220</td>\n",
       "      <td>117884</td>\n",
       "      <td>117879</td>\n",
       "      <td>267952</td>\n",
       "      <td>19721</td>\n",
       "      <td>117880</td>\n",
       "      <td>1</td>\n",
       "    </tr>\n",
       "    <tr>\n",
       "      <td>3</td>\n",
       "      <td>36135</td>\n",
       "      <td>5396</td>\n",
       "      <td>117961</td>\n",
       "      <td>118343</td>\n",
       "      <td>119993</td>\n",
       "      <td>118321</td>\n",
       "      <td>240983</td>\n",
       "      <td>290919</td>\n",
       "      <td>118322</td>\n",
       "      <td>1</td>\n",
       "    </tr>\n",
       "    <tr>\n",
       "      <td>4</td>\n",
       "      <td>42680</td>\n",
       "      <td>5905</td>\n",
       "      <td>117929</td>\n",
       "      <td>117930</td>\n",
       "      <td>119569</td>\n",
       "      <td>119323</td>\n",
       "      <td>123932</td>\n",
       "      <td>19793</td>\n",
       "      <td>119325</td>\n",
       "      <td>1</td>\n",
       "    </tr>\n",
       "  </tbody>\n",
       "</table>\n",
       "</div>"
      ],
      "text/plain": [
       "   RESOURCE  MGR_ID  ROLE_ROLLUP_1  ROLE_ROLLUP_2  ROLE_DEPTNAME  ROLE_TITLE  \\\n",
       "0     39353   85475         117961         118300         123472      117905   \n",
       "1     17183    1540         117961         118343         123125      118536   \n",
       "2     36724   14457         118219         118220         117884      117879   \n",
       "3     36135    5396         117961         118343         119993      118321   \n",
       "4     42680    5905         117929         117930         119569      119323   \n",
       "\n",
       "   ROLE_FAMILY_DESC  ROLE_FAMILY  ROLE_CODE  target  \n",
       "0            117906       290919     117908       1  \n",
       "1            118536       308574     118539       1  \n",
       "2            267952        19721     117880       1  \n",
       "3            240983       290919     118322       1  \n",
       "4            123932        19793     119325       1  "
      ]
     },
     "execution_count": 2,
     "metadata": {},
     "output_type": "execute_result"
    }
   ],
   "source": [
    "df=pd.read_csv('Amazon_employee_access.csv')\n",
    "df.head()"
   ]
  },
  {
   "cell_type": "code",
   "execution_count": 3,
   "metadata": {},
   "outputs": [],
   "source": [
    "df1=df.astype(str)\n",
    "df1['target']=df1['target'].astype(int)"
   ]
  },
  {
   "cell_type": "code",
   "execution_count": 4,
   "metadata": {},
   "outputs": [],
   "source": [
    "#df1['ROLE_ROLLUP_12']=df1['ROLE_ROLLUP_1']+df1['ROLE_ROLLUP_2']\n",
    "df1=df1.drop(['ROLE_TITLE','ROLE_FAMILY'],axis=1)\n"
   ]
  },
  {
   "cell_type": "code",
   "execution_count": 5,
   "metadata": {},
   "outputs": [],
   "source": [
    "df1['target']=df1['target'].map({1:0,0:1})"
   ]
  },
  {
   "cell_type": "code",
   "execution_count": 6,
   "metadata": {},
   "outputs": [],
   "source": [
    "df1['ROLLUP_12']=df1['ROLE_ROLLUP_1']+df1['ROLE_ROLLUP_2']\n",
    "df1=df1.drop(['ROLE_ROLLUP_1','ROLE_ROLLUP_2'],axis=1)"
   ]
  },
  {
   "cell_type": "code",
   "execution_count": 7,
   "metadata": {},
   "outputs": [
    {
     "data": {
      "text/html": [
       "<div>\n",
       "<style scoped>\n",
       "    .dataframe tbody tr th:only-of-type {\n",
       "        vertical-align: middle;\n",
       "    }\n",
       "\n",
       "    .dataframe tbody tr th {\n",
       "        vertical-align: top;\n",
       "    }\n",
       "\n",
       "    .dataframe thead th {\n",
       "        text-align: right;\n",
       "    }\n",
       "</style>\n",
       "<table border=\"1\" class=\"dataframe\">\n",
       "  <thead>\n",
       "    <tr style=\"text-align: right;\">\n",
       "      <th></th>\n",
       "      <th>RESOURCE</th>\n",
       "      <th>MGR_ID</th>\n",
       "      <th>ROLE_DEPTNAME</th>\n",
       "      <th>ROLE_FAMILY_DESC</th>\n",
       "      <th>ROLE_CODE</th>\n",
       "      <th>target</th>\n",
       "      <th>ROLLUP_12</th>\n",
       "    </tr>\n",
       "  </thead>\n",
       "  <tbody>\n",
       "    <tr>\n",
       "      <td>0</td>\n",
       "      <td>39353</td>\n",
       "      <td>85475</td>\n",
       "      <td>123472</td>\n",
       "      <td>117906</td>\n",
       "      <td>117908</td>\n",
       "      <td>0</td>\n",
       "      <td>117961118300</td>\n",
       "    </tr>\n",
       "    <tr>\n",
       "      <td>1</td>\n",
       "      <td>17183</td>\n",
       "      <td>1540</td>\n",
       "      <td>123125</td>\n",
       "      <td>118536</td>\n",
       "      <td>118539</td>\n",
       "      <td>0</td>\n",
       "      <td>117961118343</td>\n",
       "    </tr>\n",
       "    <tr>\n",
       "      <td>2</td>\n",
       "      <td>36724</td>\n",
       "      <td>14457</td>\n",
       "      <td>117884</td>\n",
       "      <td>267952</td>\n",
       "      <td>117880</td>\n",
       "      <td>0</td>\n",
       "      <td>118219118220</td>\n",
       "    </tr>\n",
       "    <tr>\n",
       "      <td>3</td>\n",
       "      <td>36135</td>\n",
       "      <td>5396</td>\n",
       "      <td>119993</td>\n",
       "      <td>240983</td>\n",
       "      <td>118322</td>\n",
       "      <td>0</td>\n",
       "      <td>117961118343</td>\n",
       "    </tr>\n",
       "    <tr>\n",
       "      <td>4</td>\n",
       "      <td>42680</td>\n",
       "      <td>5905</td>\n",
       "      <td>119569</td>\n",
       "      <td>123932</td>\n",
       "      <td>119325</td>\n",
       "      <td>0</td>\n",
       "      <td>117929117930</td>\n",
       "    </tr>\n",
       "  </tbody>\n",
       "</table>\n",
       "</div>"
      ],
      "text/plain": [
       "  RESOURCE MGR_ID ROLE_DEPTNAME ROLE_FAMILY_DESC ROLE_CODE  target  \\\n",
       "0    39353  85475        123472           117906    117908       0   \n",
       "1    17183   1540        123125           118536    118539       0   \n",
       "2    36724  14457        117884           267952    117880       0   \n",
       "3    36135   5396        119993           240983    118322       0   \n",
       "4    42680   5905        119569           123932    119325       0   \n",
       "\n",
       "      ROLLUP_12  \n",
       "0  117961118300  \n",
       "1  117961118343  \n",
       "2  118219118220  \n",
       "3  117961118343  \n",
       "4  117929117930  "
      ]
     },
     "execution_count": 7,
     "metadata": {},
     "output_type": "execute_result"
    }
   ],
   "source": [
    "df1.head()"
   ]
  },
  {
   "cell_type": "markdown",
   "metadata": {},
   "source": [
    "# Combinations with brute force \n"
   ]
  },
  {
   "cell_type": "code",
   "execution_count": 8,
   "metadata": {},
   "outputs": [
    {
     "name": "stdout",
     "output_type": "stream",
     "text": [
      "<class 'pandas.core.frame.DataFrame'>\n",
      "RangeIndex: 32769 entries, 0 to 32768\n",
      "Data columns (total 22 columns):\n",
      "RESOURCE                          32769 non-null object\n",
      "MGR_ID                            32769 non-null object\n",
      "ROLE_DEPTNAME                     32769 non-null object\n",
      "ROLE_FAMILY_DESC                  32769 non-null object\n",
      "ROLE_CODE                         32769 non-null object\n",
      "target                            32769 non-null int64\n",
      "ROLLUP_12                         32769 non-null object\n",
      "RESOURCE_MGR_ID                   32769 non-null object\n",
      "RESOURCE_ROLE_DEPTNAME            32769 non-null object\n",
      "RESOURCE_ROLE_FAMILY_DESC         32769 non-null object\n",
      "RESOURCE_ROLE_CODE                32769 non-null object\n",
      "RESOURCE_ROLLUP_12                32769 non-null object\n",
      "MGR_ID_ROLE_DEPTNAME              32769 non-null object\n",
      "MGR_ID_ROLE_FAMILY_DESC           32769 non-null object\n",
      "MGR_ID_ROLE_CODE                  32769 non-null object\n",
      "MGR_ID_ROLLUP_12                  32769 non-null object\n",
      "ROLE_DEPTNAME_ROLE_FAMILY_DESC    32769 non-null object\n",
      "ROLE_DEPTNAME_ROLE_CODE           32769 non-null object\n",
      "ROLE_DEPTNAME_ROLLUP_12           32769 non-null object\n",
      "ROLE_FAMILY_DESC_ROLE_CODE        32769 non-null object\n",
      "ROLE_FAMILY_DESC_ROLLUP_12        32769 non-null object\n",
      "ROLE_CODE_ROLLUP_12               32769 non-null object\n",
      "dtypes: int64(1), object(21)\n",
      "memory usage: 5.5+ MB\n"
     ]
    }
   ],
   "source": [
    "from itertools import combinations\n",
    "\n",
    "cols=list(df1.columns)\n",
    "cols.remove('target')\n",
    "d=df1.copy()\n",
    "\n",
    "for j in combinations(cols,2):\n",
    "    d[j[0]+'_'+j[1]]=df1[j[0]]+df1[j[1]]\n",
    "    \n",
    "d.info()"
   ]
  },
  {
   "cell_type": "code",
   "execution_count": 9,
   "metadata": {},
   "outputs": [],
   "source": [
    "from lightgbm import LGBMClassifier\n",
    "from sklearn.metrics import *\n",
    "from sklearn.model_selection import train_test_split,StratifiedKFold,KFold\n",
    "from catboost import CatBoostClassifier"
   ]
  },
  {
   "cell_type": "code",
   "execution_count": 10,
   "metadata": {},
   "outputs": [],
   "source": [
    "def aucroc(mod,x,y):\n",
    "    pred=mod.predict(x)\n",
    "    prob=mod.predict_proba(x)[:,1]\n",
    "    auc=roc_auc_score(y,prob)\n",
    "    \n",
    "    return auc"
   ]
  },
  {
   "cell_type": "code",
   "execution_count": 11,
   "metadata": {},
   "outputs": [],
   "source": [
    "import warnings\n",
    "warnings.filterwarnings('ignore')\n",
    "def kfold_AS_target(train,test,columns,target,weight,folds=10):\n",
    "    \n",
    "    columns=list(columns)\n",
    "    kf=KFold()\n",
    "    t=train\n",
    "    v=test\n",
    "    gm=t[target].mean()\n",
    "    for col in columns:\n",
    "        \n",
    "        for i,j in kf.split(t):\n",
    "            gb=t.loc[t.index[i]].groupby(col)[target].agg(['count','mean'])\n",
    "            count=gb['count']\n",
    "            mean=gb['mean']\n",
    "            gb['smooth']=(count*mean + weight*gm)/(count+weight)\n",
    "            t.loc[t.index[j],col+'_enc']=t.loc[t.index[j],col].map(gb['smooth'])\n",
    "            \n",
    "        t[col+'_enc']=t[col+'_enc'].fillna(gm)\n",
    "        \n",
    "        gb=t.groupby(col)[target].agg(['count','mean'])\n",
    "        count=gb['count']\n",
    "        mean=gb['mean']\n",
    "        gb['smooth']=(count*mean + weight*gm)/(count+weight)\n",
    "        \n",
    "        v[col+'_enc']=v[col].map(gb['smooth'])\n",
    "        v[col+'_enc']=v[col+'_enc'].fillna(gm)\n",
    "        \n",
    "    t=t.drop(columns,axis=1)\n",
    "    v=v.drop(columns,axis=1)\n",
    "\n",
    "    return t,v\n",
    "        "
   ]
  },
  {
   "cell_type": "code",
   "execution_count": 12,
   "metadata": {},
   "outputs": [],
   "source": [
    "rem=['MGR_ID_ROLE_DEPTNAME', 'MGR_ID', 'ROLE_DEPTNAME_ROLLUP_12', 'MGR_ID_ROLLUP_12', 'ROLLUP_12', 'ROLE_CODE_ROLLUP_12',\n",
    "     'RESOURCE_ROLE_FAMILY_DESC']\n",
    "d1=d.drop(rem,axis=1)"
   ]
  },
  {
   "cell_type": "code",
   "execution_count": 13,
   "metadata": {},
   "outputs": [],
   "source": [
    "train,test=train_test_split(d1,test_size=0.3,random_state=64)"
   ]
  },
  {
   "cell_type": "code",
   "execution_count": 14,
   "metadata": {},
   "outputs": [],
   "source": [
    "cols=list(d1.columns)\n",
    "cols.remove('target')\n",
    "target='target'\n",
    "t,v=kfold_AS_target(train,test,cols,target,100)\n",
    "\n",
    "xtr=t.drop(target,axis=1)\n",
    "xts=v.drop(target,axis=1)\n",
    "ytr=t[target]\n",
    "yts=v[target] \n"
   ]
  },
  {
   "cell_type": "code",
   "execution_count": 15,
   "metadata": {},
   "outputs": [
    {
     "name": "stdout",
     "output_type": "stream",
     "text": [
      "train auc score=  0.9045228303053183\n",
      "test auc score=  0.9051713788342637\n"
     ]
    },
    {
     "data": {
      "text/plain": [
       "Text(0, 0.5, 'TPR')"
      ]
     },
     "execution_count": 15,
     "metadata": {},
     "output_type": "execute_result"
    },
    {
     "data": {
      "image/png": "[encoded data removed]",
      "text/plain": [
       "<Figure size 432x288 with 1 Axes>"
      ]
     },
     "metadata": {
      "needs_background": "light"
     },
     "output_type": "display_data"
    }
   ],
   "source": [
    "params={'learning_rate':0.01,'depth':6,'verbose':False,'eval_metric':'AUC',\n",
    "        'loss_function':'CrossEntropy'}\n",
    "\n",
    "cb=CatBoostClassifier(**params)\n",
    "mod=cb.fit(xtr,ytr)\n",
    "\n",
    "prob1=mod.predict_proba(xtr)[:,1]\n",
    "prob2=mod.predict_proba(xts)[:,1]\n",
    "fpr,tpr,thresh=roc_curve(yts,prob2)\n",
    "roc=pd.DataFrame({'fpr':fpr,'tpr':tpr,'threshold':thresh})\n",
    "auc_tr=roc_auc_score(ytr,prob1)\n",
    "auc_ts=roc_auc_score(yts,prob2)\n",
    "\n",
    "print('train auc score= ',auc_tr)\n",
    "print('test auc score= ',auc_ts)\n",
    "plt.plot(fpr,tpr)\n",
    "plt.plot(fpr,fpr)\n",
    "plt.xlabel('FPR')\n",
    "plt.ylabel('TPR')\n",
    "###134 89.7\n",
    "###0   89.6"
   ]
  },
  {
   "cell_type": "code",
   "execution_count": 16,
   "metadata": {},
   "outputs": [
    {
     "data": {
      "text/html": [
       "<div>\n",
       "<style scoped>\n",
       "    .dataframe tbody tr th:only-of-type {\n",
       "        vertical-align: middle;\n",
       "    }\n",
       "\n",
       "    .dataframe tbody tr th {\n",
       "        vertical-align: top;\n",
       "    }\n",
       "\n",
       "    .dataframe thead th {\n",
       "        text-align: right;\n",
       "    }\n",
       "</style>\n",
       "<table border=\"1\" class=\"dataframe\">\n",
       "  <thead>\n",
       "    <tr style=\"text-align: right;\">\n",
       "      <th></th>\n",
       "      <th>fpr</th>\n",
       "      <th>tpr</th>\n",
       "      <th>threshold</th>\n",
       "    </tr>\n",
       "  </thead>\n",
       "  <tbody>\n",
       "    <tr>\n",
       "      <td>0</td>\n",
       "      <td>0.000000</td>\n",
       "      <td>0.000000</td>\n",
       "      <td>1.920252</td>\n",
       "    </tr>\n",
       "    <tr>\n",
       "      <td>1</td>\n",
       "      <td>0.000108</td>\n",
       "      <td>0.000000</td>\n",
       "      <td>0.920252</td>\n",
       "    </tr>\n",
       "    <tr>\n",
       "      <td>2</td>\n",
       "      <td>0.000108</td>\n",
       "      <td>0.022569</td>\n",
       "      <td>0.840828</td>\n",
       "    </tr>\n",
       "    <tr>\n",
       "      <td>3</td>\n",
       "      <td>0.000108</td>\n",
       "      <td>0.029514</td>\n",
       "      <td>0.834602</td>\n",
       "    </tr>\n",
       "    <tr>\n",
       "      <td>4</td>\n",
       "      <td>0.000108</td>\n",
       "      <td>0.038194</td>\n",
       "      <td>0.826118</td>\n",
       "    </tr>\n",
       "  </tbody>\n",
       "</table>\n",
       "</div>"
      ],
      "text/plain": [
       "        fpr       tpr  threshold\n",
       "0  0.000000  0.000000   1.920252\n",
       "1  0.000108  0.000000   0.920252\n",
       "2  0.000108  0.022569   0.840828\n",
       "3  0.000108  0.029514   0.834602\n",
       "4  0.000108  0.038194   0.826118"
      ]
     },
     "execution_count": 16,
     "metadata": {},
     "output_type": "execute_result"
    }
   ],
   "source": [
    "roc.head()"
   ]
  },
  {
   "cell_type": "code",
   "execution_count": 17,
   "metadata": {},
   "outputs": [
    {
     "data": {
      "text/html": [
       "<div>\n",
       "<style scoped>\n",
       "    .dataframe tbody tr th:only-of-type {\n",
       "        vertical-align: middle;\n",
       "    }\n",
       "\n",
       "    .dataframe tbody tr th {\n",
       "        vertical-align: top;\n",
       "    }\n",
       "\n",
       "    .dataframe thead th {\n",
       "        text-align: right;\n",
       "    }\n",
       "</style>\n",
       "<table border=\"1\" class=\"dataframe\">\n",
       "  <thead>\n",
       "    <tr style=\"text-align: right;\">\n",
       "      <th></th>\n",
       "      <th>fpr</th>\n",
       "      <th>tpr</th>\n",
       "      <th>threshold</th>\n",
       "      <th>J index</th>\n",
       "      <th>Gmean</th>\n",
       "      <th>J rank</th>\n",
       "      <th>Gmean rank</th>\n",
       "    </tr>\n",
       "  </thead>\n",
       "  <tbody>\n",
       "    <tr>\n",
       "      <td>0</td>\n",
       "      <td>0.000000</td>\n",
       "      <td>0.000000</td>\n",
       "      <td>1.920252</td>\n",
       "      <td>0.000000</td>\n",
       "      <td>0.000000</td>\n",
       "      <td>1256.0</td>\n",
       "      <td>1256.0</td>\n",
       "    </tr>\n",
       "    <tr>\n",
       "      <td>1</td>\n",
       "      <td>0.000108</td>\n",
       "      <td>0.000000</td>\n",
       "      <td>0.920252</td>\n",
       "      <td>-0.000108</td>\n",
       "      <td>0.000000</td>\n",
       "      <td>1258.0</td>\n",
       "      <td>1256.0</td>\n",
       "    </tr>\n",
       "    <tr>\n",
       "      <td>2</td>\n",
       "      <td>0.000108</td>\n",
       "      <td>0.022569</td>\n",
       "      <td>0.840828</td>\n",
       "      <td>0.022461</td>\n",
       "      <td>0.000509</td>\n",
       "      <td>1255.0</td>\n",
       "      <td>1255.0</td>\n",
       "    </tr>\n",
       "    <tr>\n",
       "      <td>3</td>\n",
       "      <td>0.000108</td>\n",
       "      <td>0.029514</td>\n",
       "      <td>0.834602</td>\n",
       "      <td>0.029406</td>\n",
       "      <td>0.000871</td>\n",
       "      <td>1254.0</td>\n",
       "      <td>1254.0</td>\n",
       "    </tr>\n",
       "    <tr>\n",
       "      <td>4</td>\n",
       "      <td>0.000108</td>\n",
       "      <td>0.038194</td>\n",
       "      <td>0.826118</td>\n",
       "      <td>0.038086</td>\n",
       "      <td>0.001459</td>\n",
       "      <td>1252.0</td>\n",
       "      <td>1252.0</td>\n",
       "    </tr>\n",
       "  </tbody>\n",
       "</table>\n",
       "</div>"
      ],
      "text/plain": [
       "        fpr       tpr  threshold   J index     Gmean  J rank  Gmean rank\n",
       "0  0.000000  0.000000   1.920252  0.000000  0.000000  1256.0      1256.0\n",
       "1  0.000108  0.000000   0.920252 -0.000108  0.000000  1258.0      1256.0\n",
       "2  0.000108  0.022569   0.840828  0.022461  0.000509  1255.0      1255.0\n",
       "3  0.000108  0.029514   0.834602  0.029406  0.000871  1254.0      1254.0\n",
       "4  0.000108  0.038194   0.826118  0.038086  0.001459  1252.0      1252.0"
      ]
     },
     "execution_count": 17,
     "metadata": {},
     "output_type": "execute_result"
    }
   ],
   "source": [
    "#Youden’s J statistic.\n",
    "roc['J index']=tpr-fpr\n",
    "roc['Gmean']=(tpr*(1-fpr))**2\n",
    "roc['J rank']=roc['J index'].rank(method='min',ascending=False)\n",
    "roc['Gmean rank']=roc['Gmean'].rank(method='min',ascending=False)\n",
    "roc.head()"
   ]
  },
  {
   "cell_type": "code",
   "execution_count": 33,
   "metadata": {
    "scrolled": true
   },
   "outputs": [
    {
     "data": {
      "text/html": [
       "<div>\n",
       "<style scoped>\n",
       "    .dataframe tbody tr th:only-of-type {\n",
       "        vertical-align: middle;\n",
       "    }\n",
       "\n",
       "    .dataframe tbody tr th {\n",
       "        vertical-align: top;\n",
       "    }\n",
       "\n",
       "    .dataframe thead th {\n",
       "        text-align: right;\n",
       "    }\n",
       "</style>\n",
       "<table border=\"1\" class=\"dataframe\">\n",
       "  <thead>\n",
       "    <tr style=\"text-align: right;\">\n",
       "      <th></th>\n",
       "      <th>fpr</th>\n",
       "      <th>tpr</th>\n",
       "      <th>threshold</th>\n",
       "      <th>J index</th>\n",
       "      <th>Gmean</th>\n",
       "      <th>J rank</th>\n",
       "      <th>Gmean rank</th>\n",
       "    </tr>\n",
       "  </thead>\n",
       "  <tbody>\n",
       "    <tr>\n",
       "      <td>523</td>\n",
       "      <td>0.112372</td>\n",
       "      <td>0.781250</td>\n",
       "      <td>0.059009</td>\n",
       "      <td>0.668878</td>\n",
       "      <td>0.480886</td>\n",
       "      <td>2.0</td>\n",
       "      <td>13.0</td>\n",
       "    </tr>\n",
       "    <tr>\n",
       "      <td>524</td>\n",
       "      <td>0.113668</td>\n",
       "      <td>0.781250</td>\n",
       "      <td>0.058168</td>\n",
       "      <td>0.667582</td>\n",
       "      <td>0.479482</td>\n",
       "      <td>10.0</td>\n",
       "      <td>39.0</td>\n",
       "    </tr>\n",
       "    <tr>\n",
       "      <td>535</td>\n",
       "      <td>0.118855</td>\n",
       "      <td>0.786458</td>\n",
       "      <td>0.055881</td>\n",
       "      <td>0.667604</td>\n",
       "      <td>0.480227</td>\n",
       "      <td>9.0</td>\n",
       "      <td>19.0</td>\n",
       "    </tr>\n",
       "    <tr>\n",
       "      <td>539</td>\n",
       "      <td>0.119611</td>\n",
       "      <td>0.788194</td>\n",
       "      <td>0.055519</td>\n",
       "      <td>0.668583</td>\n",
       "      <td>0.481522</td>\n",
       "      <td>4.0</td>\n",
       "      <td>10.0</td>\n",
       "    </tr>\n",
       "    <tr>\n",
       "      <td>541</td>\n",
       "      <td>0.122312</td>\n",
       "      <td>0.789931</td>\n",
       "      <td>0.053971</td>\n",
       "      <td>0.667618</td>\n",
       "      <td>0.480682</td>\n",
       "      <td>8.0</td>\n",
       "      <td>14.0</td>\n",
       "    </tr>\n",
       "    <tr>\n",
       "      <td>547</td>\n",
       "      <td>0.125014</td>\n",
       "      <td>0.793403</td>\n",
       "      <td>0.052733</td>\n",
       "      <td>0.668389</td>\n",
       "      <td>0.481937</td>\n",
       "      <td>5.0</td>\n",
       "      <td>7.0</td>\n",
       "    </tr>\n",
       "    <tr>\n",
       "      <td>662</td>\n",
       "      <td>0.183576</td>\n",
       "      <td>0.852431</td>\n",
       "      <td>0.037255</td>\n",
       "      <td>0.668854</td>\n",
       "      <td>0.484339</td>\n",
       "      <td>3.0</td>\n",
       "      <td>2.0</td>\n",
       "    </tr>\n",
       "    <tr>\n",
       "      <td>663</td>\n",
       "      <td>0.184333</td>\n",
       "      <td>0.852431</td>\n",
       "      <td>0.037243</td>\n",
       "      <td>0.668098</td>\n",
       "      <td>0.483442</td>\n",
       "      <td>6.0</td>\n",
       "      <td>3.0</td>\n",
       "    </tr>\n",
       "    <tr>\n",
       "      <td>664</td>\n",
       "      <td>0.184549</td>\n",
       "      <td>0.852431</td>\n",
       "      <td>0.037205</td>\n",
       "      <td>0.667882</td>\n",
       "      <td>0.483185</td>\n",
       "      <td>7.0</td>\n",
       "      <td>4.0</td>\n",
       "    </tr>\n",
       "    <tr>\n",
       "      <td>665</td>\n",
       "      <td>0.184549</td>\n",
       "      <td>0.854167</td>\n",
       "      <td>0.037151</td>\n",
       "      <td>0.669618</td>\n",
       "      <td>0.485156</td>\n",
       "      <td>1.0</td>\n",
       "      <td>1.0</td>\n",
       "    </tr>\n",
       "  </tbody>\n",
       "</table>\n",
       "</div>"
      ],
      "text/plain": [
       "          fpr       tpr  threshold   J index     Gmean  J rank  Gmean rank\n",
       "523  0.112372  0.781250   0.059009  0.668878  0.480886     2.0        13.0\n",
       "524  0.113668  0.781250   0.058168  0.667582  0.479482    10.0        39.0\n",
       "535  0.118855  0.786458   0.055881  0.667604  0.480227     9.0        19.0\n",
       "539  0.119611  0.788194   0.055519  0.668583  0.481522     4.0        10.0\n",
       "541  0.122312  0.789931   0.053971  0.667618  0.480682     8.0        14.0\n",
       "547  0.125014  0.793403   0.052733  0.668389  0.481937     5.0         7.0\n",
       "662  0.183576  0.852431   0.037255  0.668854  0.484339     3.0         2.0\n",
       "663  0.184333  0.852431   0.037243  0.668098  0.483442     6.0         3.0\n",
       "664  0.184549  0.852431   0.037205  0.667882  0.483185     7.0         4.0\n",
       "665  0.184549  0.854167   0.037151  0.669618  0.485156     1.0         1.0"
      ]
     },
     "execution_count": 33,
     "metadata": {},
     "output_type": "execute_result"
    }
   ],
   "source": [
    "top=roc[roc['J rank']<11]\n",
    "top"
   ]
  },
  {
   "cell_type": "code",
   "execution_count": 19,
   "metadata": {},
   "outputs": [
    {
     "data": {
      "text/plain": [
       "<matplotlib.legend.Legend at 0x1aa262ca3c8>"
      ]
     },
     "execution_count": 19,
     "metadata": {},
     "output_type": "execute_result"
    },
    {
     "data": {
      "image/png": "[encoded data removed]",
      "text/plain": [
       "<Figure size 720x720 with 1 Axes>"
      ]
     },
     "metadata": {
      "needs_background": "light"
     },
     "output_type": "display_data"
    }
   ],
   "source": [
    "plt.figure(figsize=(10,10))\n",
    "plt.plot(fpr,tpr)\n",
    "plt.plot(fpr,fpr)\n",
    "plt.xlabel('FPR')\n",
    "plt.ylabel('TPR')\n",
    "#plt.vlines(x=0,ymin=0,ymax=1)\n",
    "#plt.hlines(y=1,xmin=0,xmax=1)\n",
    "plt.scatter(x=top['fpr'],y=top['tpr'],marker='o',color='black',label='Top 10',s=100)\n",
    "plt.scatter(x=0.184549,y=0.854167,marker='*',color='r',label='Best',s=200)\n",
    "plt.legend()"
   ]
  },
  {
   "cell_type": "markdown",
   "metadata": {},
   "source": [
    "high=0\n",
    "for i in tqdm(range(100)):    \n",
    "    train,test=train_test_split(d1,test_size=0.3,random_state=i)\n",
    "\n",
    "    cols=list(d1.columns)\n",
    "    cols.remove('target')\n",
    "    target='target'\n",
    "    t,v=kfold_AS_target(train,test,cols,target,100)\n",
    "\n",
    "    xtr=t.drop(target,axis=1)\n",
    "    xts=v.drop(target,axis=1)\n",
    "    ytr=t[target]\n",
    "    yts=v[target] \n",
    "\n",
    "    params={'learning_rate':0.01,'depth':6,'verbose':False,'eval_metric':'AUC',\n",
    "            'loss_function':'CrossEntropy'}\n",
    "\n",
    "    cb=CatBoostClassifier(**params)\n",
    "    mod=cb.fit(xtr,ytr)\n",
    "    prob2=mod.predict_proba(xts)[:,1]\n",
    "    auc_ts=roc_auc_score(yts,prob2)\n",
    "    if auc_ts>high:\n",
    "        high=auc_ts\n",
    "        rs=i"
   ]
  },
  {
   "cell_type": "code",
   "execution_count": 40,
   "metadata": {},
   "outputs": [
    {
     "data": {
      "text/plain": [
       "<matplotlib.axes._subplots.AxesSubplot at 0x1aa295b4248>"
      ]
     },
     "execution_count": 40,
     "metadata": {},
     "output_type": "execute_result"
    },
    {
     "data": {
      "image/png": "[encoded data removed]",
      "text/plain": [
       "<Figure size 576x576 with 1 Axes>"
      ]
     },
     "metadata": {
      "needs_background": "light"
     },
     "output_type": "display_data"
    }
   ],
   "source": [
    "plt.figure(figsize=(8,8))\n",
    "sns.barplot(y=xtr.columns,x=mod.feature_importances_)\n",
    "\n",
    "#plt.xticks(rotation=90)"
   ]
  },
  {
   "cell_type": "code",
   "execution_count": 26,
   "metadata": {},
   "outputs": [
    {
     "data": {
      "text/html": [
       "<div>\n",
       "<style scoped>\n",
       "    .dataframe tbody tr th:only-of-type {\n",
       "        vertical-align: middle;\n",
       "    }\n",
       "\n",
       "    .dataframe tbody tr th {\n",
       "        vertical-align: top;\n",
       "    }\n",
       "\n",
       "    .dataframe thead th {\n",
       "        text-align: right;\n",
       "    }\n",
       "</style>\n",
       "<table border=\"1\" class=\"dataframe\">\n",
       "  <thead>\n",
       "    <tr style=\"text-align: right;\">\n",
       "      <th></th>\n",
       "      <th>Prob</th>\n",
       "    </tr>\n",
       "  </thead>\n",
       "  <tbody>\n",
       "    <tr>\n",
       "      <td>0</td>\n",
       "      <td>0.027567</td>\n",
       "    </tr>\n",
       "    <tr>\n",
       "      <td>1</td>\n",
       "      <td>0.003622</td>\n",
       "    </tr>\n",
       "    <tr>\n",
       "      <td>2</td>\n",
       "      <td>0.025281</td>\n",
       "    </tr>\n",
       "    <tr>\n",
       "      <td>3</td>\n",
       "      <td>0.007416</td>\n",
       "    </tr>\n",
       "    <tr>\n",
       "      <td>4</td>\n",
       "      <td>0.007112</td>\n",
       "    </tr>\n",
       "  </tbody>\n",
       "</table>\n",
       "</div>"
      ],
      "text/plain": [
       "       Prob\n",
       "0  0.027567\n",
       "1  0.003622\n",
       "2  0.025281\n",
       "3  0.007416\n",
       "4  0.007112"
      ]
     },
     "execution_count": 26,
     "metadata": {},
     "output_type": "execute_result"
    }
   ],
   "source": [
    "result=pd.DataFrame({'Prob':prob2})\n",
    "result.head()"
   ]
  },
  {
   "cell_type": "code",
   "execution_count": 34,
   "metadata": {},
   "outputs": [],
   "source": [
    "result['t1']=result['Prob'].apply(lambda x:1 if x>=0.037151 else 0)\n",
    "result['t2']=result['Prob'].apply(lambda x:1 if x>=0.059009 else 0)\n",
    "result['t3']=result['Prob'].apply(lambda x:1 if x>=0.052733 else 0)"
   ]
  },
  {
   "cell_type": "code",
   "execution_count": 35,
   "metadata": {},
   "outputs": [],
   "source": [
    "def score(pred,ytr):\n",
    "    accuracy=accuracy_score(ytr,pred)\n",
    "    print('\\n',classification_report(ytr,pred))\n",
    "    print('\\n Confusion matrix:\\n',confusion_matrix(ytr,pred))\n"
   ]
  },
  {
   "cell_type": "code",
   "execution_count": 36,
   "metadata": {},
   "outputs": [
    {
     "name": "stdout",
     "output_type": "stream",
     "text": [
      "\n",
      "               precision    recall  f1-score   support\n",
      "\n",
      "           0       0.99      0.82      0.89      9255\n",
      "           1       0.22      0.85      0.35       576\n",
      "\n",
      "    accuracy                           0.82      9831\n",
      "   macro avg       0.61      0.83      0.62      9831\n",
      "weighted avg       0.94      0.82      0.86      9831\n",
      "\n",
      "\n",
      " Confusion matrix:\n",
      " [[7547 1708]\n",
      " [  84  492]]\n"
     ]
    }
   ],
   "source": [
    "score(result['t1'],yts)"
   ]
  },
  {
   "cell_type": "code",
   "execution_count": 37,
   "metadata": {},
   "outputs": [
    {
     "name": "stdout",
     "output_type": "stream",
     "text": [
      "\n",
      "               precision    recall  f1-score   support\n",
      "\n",
      "           0       0.98      0.89      0.93      9255\n",
      "           1       0.30      0.78      0.43       576\n",
      "\n",
      "    accuracy                           0.88      9831\n",
      "   macro avg       0.64      0.83      0.68      9831\n",
      "weighted avg       0.94      0.88      0.90      9831\n",
      "\n",
      "\n",
      " Confusion matrix:\n",
      " [[8215 1040]\n",
      " [ 127  449]]\n"
     ]
    }
   ],
   "source": [
    "score(result['t2'],yts)"
   ]
  },
  {
   "cell_type": "code",
   "execution_count": 38,
   "metadata": {},
   "outputs": [
    {
     "name": "stdout",
     "output_type": "stream",
     "text": [
      "\n",
      "               precision    recall  f1-score   support\n",
      "\n",
      "           0       0.99      0.87      0.93      9255\n",
      "           1       0.28      0.79      0.42       576\n",
      "\n",
      "    accuracy                           0.87      9831\n",
      "   macro avg       0.63      0.83      0.67      9831\n",
      "weighted avg       0.94      0.87      0.90      9831\n",
      "\n",
      "\n",
      " Confusion matrix:\n",
      " [[8098 1157]\n",
      " [ 119  457]]\n"
     ]
    }
   ],
   "source": [
    "score(result['t3'],yts)"
   ]
  },
  {
   "cell_type": "code",
   "execution_count": null,
   "metadata": {},
   "outputs": [],
   "source": []
  }
 ],
 "metadata": {
  "kernelspec": {
   "display_name": "Python 3",
   "language": "python",
   "name": "python3"
  },
  "language_info": {
   "codemirror_mode": {
    "name": "ipython",
    "version": 3
   },
   "file_extension": ".py",
   "mimetype": "text/x-python",
   "name": "python",
   "nbconvert_exporter": "python",
   "pygments_lexer": "ipython3",
   "version": "3.7.4"
  }
 },
 "nbformat": 4,
 "nbformat_minor": 2
}
