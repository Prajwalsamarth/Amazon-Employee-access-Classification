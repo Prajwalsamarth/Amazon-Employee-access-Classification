{
 "cells": [
  {
   "cell_type": "code",
   "execution_count": 1,
   "metadata": {},
   "outputs": [],
   "source": [
    "import numpy as np\n",
    "import pandas as pd \n",
    "import matplotlib.pyplot as plt\n",
    "import seaborn as sns \n",
    "import scipy.stats as st \n",
    "from tqdm import tqdm \n",
    "import os\n",
    "os.chdir('D:\\Shashi Katteri\\Desktop\\data sets to work on\\Amazon Employee Access\\Dataset_10')"
   ]
  },
  {
   "cell_type": "code",
   "execution_count": 2,
   "metadata": {},
   "outputs": [
    {
     "data": {
      "text/html": [
       "<div>\n",
       "<style scoped>\n",
       "    .dataframe tbody tr th:only-of-type {\n",
       "        vertical-align: middle;\n",
       "    }\n",
       "\n",
       "    .dataframe tbody tr th {\n",
       "        vertical-align: top;\n",
       "    }\n",
       "\n",
       "    .dataframe thead th {\n",
       "        text-align: right;\n",
       "    }\n",
       "</style>\n",
       "<table border=\"1\" class=\"dataframe\">\n",
       "  <thead>\n",
       "    <tr style=\"text-align: right;\">\n",
       "      <th></th>\n",
       "      <th>RESOURCE</th>\n",
       "      <th>MGR_ID</th>\n",
       "      <th>ROLE_ROLLUP_1</th>\n",
       "      <th>ROLE_ROLLUP_2</th>\n",
       "      <th>ROLE_DEPTNAME</th>\n",
       "      <th>ROLE_TITLE</th>\n",
       "      <th>ROLE_FAMILY_DESC</th>\n",
       "      <th>ROLE_FAMILY</th>\n",
       "      <th>ROLE_CODE</th>\n",
       "      <th>target</th>\n",
       "    </tr>\n",
       "  </thead>\n",
       "  <tbody>\n",
       "    <tr>\n",
       "      <td>0</td>\n",
       "      <td>39353</td>\n",
       "      <td>85475</td>\n",
       "      <td>117961</td>\n",
       "      <td>118300</td>\n",
       "      <td>123472</td>\n",
       "      <td>117905</td>\n",
       "      <td>117906</td>\n",
       "      <td>290919</td>\n",
       "      <td>117908</td>\n",
       "      <td>1</td>\n",
       "    </tr>\n",
       "    <tr>\n",
       "      <td>1</td>\n",
       "      <td>17183</td>\n",
       "      <td>1540</td>\n",
       "      <td>117961</td>\n",
       "      <td>118343</td>\n",
       "      <td>123125</td>\n",
       "      <td>118536</td>\n",
       "      <td>118536</td>\n",
       "      <td>308574</td>\n",
       "      <td>118539</td>\n",
       "      <td>1</td>\n",
       "    </tr>\n",
       "    <tr>\n",
       "      <td>2</td>\n",
       "      <td>36724</td>\n",
       "      <td>14457</td>\n",
       "      <td>118219</td>\n",
       "      <td>118220</td>\n",
       "      <td>117884</td>\n",
       "      <td>117879</td>\n",
       "      <td>267952</td>\n",
       "      <td>19721</td>\n",
       "      <td>117880</td>\n",
       "      <td>1</td>\n",
       "    </tr>\n",
       "    <tr>\n",
       "      <td>3</td>\n",
       "      <td>36135</td>\n",
       "      <td>5396</td>\n",
       "      <td>117961</td>\n",
       "      <td>118343</td>\n",
       "      <td>119993</td>\n",
       "      <td>118321</td>\n",
       "      <td>240983</td>\n",
       "      <td>290919</td>\n",
       "      <td>118322</td>\n",
       "      <td>1</td>\n",
       "    </tr>\n",
       "    <tr>\n",
       "      <td>4</td>\n",
       "      <td>42680</td>\n",
       "      <td>5905</td>\n",
       "      <td>117929</td>\n",
       "      <td>117930</td>\n",
       "      <td>119569</td>\n",
       "      <td>119323</td>\n",
       "      <td>123932</td>\n",
       "      <td>19793</td>\n",
       "      <td>119325</td>\n",
       "      <td>1</td>\n",
       "    </tr>\n",
       "  </tbody>\n",
       "</table>\n",
       "</div>"
      ],
      "text/plain": [
       "   RESOURCE  MGR_ID  ROLE_ROLLUP_1  ROLE_ROLLUP_2  ROLE_DEPTNAME  ROLE_TITLE  \\\n",
       "0     39353   85475         117961         118300         123472      117905   \n",
       "1     17183    1540         117961         118343         123125      118536   \n",
       "2     36724   14457         118219         118220         117884      117879   \n",
       "3     36135    5396         117961         118343         119993      118321   \n",
       "4     42680    5905         117929         117930         119569      119323   \n",
       "\n",
       "   ROLE_FAMILY_DESC  ROLE_FAMILY  ROLE_CODE  target  \n",
       "0            117906       290919     117908       1  \n",
       "1            118536       308574     118539       1  \n",
       "2            267952        19721     117880       1  \n",
       "3            240983       290919     118322       1  \n",
       "4            123932        19793     119325       1  "
      ]
     },
     "execution_count": 2,
     "metadata": {},
     "output_type": "execute_result"
    }
   ],
   "source": [
    "df=pd.read_csv('Amazon_employee_access.csv')\n",
    "df.head()"
   ]
  },
  {
   "cell_type": "code",
   "execution_count": 3,
   "metadata": {},
   "outputs": [],
   "source": [
    "df1=df.astype(str)\n",
    "df1['target']=df1['target'].astype(int)"
   ]
  },
  {
   "cell_type": "code",
   "execution_count": 4,
   "metadata": {},
   "outputs": [],
   "source": [
    "#df1['ROLE_ROLLUP_12']=df1['ROLE_ROLLUP_1']+df1['ROLE_ROLLUP_2']\n",
    "df1=df1.drop(['ROLE_TITLE','ROLE_FAMILY'],axis=1)\n"
   ]
  },
  {
   "cell_type": "code",
   "execution_count": 5,
   "metadata": {},
   "outputs": [
    {
     "data": {
      "text/html": [
       "<div>\n",
       "<style scoped>\n",
       "    .dataframe tbody tr th:only-of-type {\n",
       "        vertical-align: middle;\n",
       "    }\n",
       "\n",
       "    .dataframe tbody tr th {\n",
       "        vertical-align: top;\n",
       "    }\n",
       "\n",
       "    .dataframe thead th {\n",
       "        text-align: right;\n",
       "    }\n",
       "</style>\n",
       "<table border=\"1\" class=\"dataframe\">\n",
       "  <thead>\n",
       "    <tr style=\"text-align: right;\">\n",
       "      <th></th>\n",
       "      <th>RESOURCE</th>\n",
       "      <th>MGR_ID</th>\n",
       "      <th>ROLE_ROLLUP_1</th>\n",
       "      <th>ROLE_ROLLUP_2</th>\n",
       "      <th>ROLE_DEPTNAME</th>\n",
       "      <th>ROLE_FAMILY_DESC</th>\n",
       "      <th>ROLE_CODE</th>\n",
       "    </tr>\n",
       "  </thead>\n",
       "  <tbody>\n",
       "    <tr>\n",
       "      <td>count</td>\n",
       "      <td>32769</td>\n",
       "      <td>32769</td>\n",
       "      <td>32769</td>\n",
       "      <td>32769</td>\n",
       "      <td>32769</td>\n",
       "      <td>32769</td>\n",
       "      <td>32769</td>\n",
       "    </tr>\n",
       "    <tr>\n",
       "      <td>unique</td>\n",
       "      <td>7518</td>\n",
       "      <td>4243</td>\n",
       "      <td>128</td>\n",
       "      <td>177</td>\n",
       "      <td>449</td>\n",
       "      <td>2358</td>\n",
       "      <td>343</td>\n",
       "    </tr>\n",
       "    <tr>\n",
       "      <td>top</td>\n",
       "      <td>4675</td>\n",
       "      <td>770</td>\n",
       "      <td>117961</td>\n",
       "      <td>118300</td>\n",
       "      <td>117878</td>\n",
       "      <td>117906</td>\n",
       "      <td>118322</td>\n",
       "    </tr>\n",
       "    <tr>\n",
       "      <td>freq</td>\n",
       "      <td>839</td>\n",
       "      <td>152</td>\n",
       "      <td>21407</td>\n",
       "      <td>4424</td>\n",
       "      <td>1135</td>\n",
       "      <td>6896</td>\n",
       "      <td>4649</td>\n",
       "    </tr>\n",
       "  </tbody>\n",
       "</table>\n",
       "</div>"
      ],
      "text/plain": [
       "       RESOURCE MGR_ID ROLE_ROLLUP_1 ROLE_ROLLUP_2 ROLE_DEPTNAME  \\\n",
       "count     32769  32769         32769         32769         32769   \n",
       "unique     7518   4243           128           177           449   \n",
       "top        4675    770        117961        118300        117878   \n",
       "freq        839    152         21407          4424          1135   \n",
       "\n",
       "       ROLE_FAMILY_DESC ROLE_CODE  \n",
       "count             32769     32769  \n",
       "unique             2358       343  \n",
       "top              117906    118322  \n",
       "freq               6896      4649  "
      ]
     },
     "execution_count": 5,
     "metadata": {},
     "output_type": "execute_result"
    }
   ],
   "source": [
    "df1.describe(include='object')"
   ]
  },
  {
   "cell_type": "code",
   "execution_count": null,
   "metadata": {},
   "outputs": [],
   "source": []
  },
  {
   "cell_type": "code",
   "execution_count": 6,
   "metadata": {},
   "outputs": [],
   "source": [
    "x=df1.drop('target',axis=1)\n",
    "y=df1['target']"
   ]
  },
  {
   "cell_type": "code",
   "execution_count": 7,
   "metadata": {},
   "outputs": [],
   "source": [
    "from category_encoders.target_encoder import TargetEncoder\n",
    "from sklearn.model_selection import train_test_split,cross_val_score,RandomizedSearchCV,StratifiedKFold,KFold"
   ]
  },
  {
   "cell_type": "code",
   "execution_count": 8,
   "metadata": {},
   "outputs": [],
   "source": [
    "x_train, x_test, y_train, y_test = train_test_split(x,y,test_size=0.3,random_state=123)\n",
    "te=TargetEncoder(return_df=True)\n",
    "xtr_enc=te.fit_transform(x_train,y_train)\n",
    "xts_enc=te.transform(x_test)"
   ]
  },
  {
   "cell_type": "code",
   "execution_count": 9,
   "metadata": {},
   "outputs": [
    {
     "name": "stdout",
     "output_type": "stream",
     "text": [
      "<class 'pandas.core.frame.DataFrame'>\n",
      "Int64Index: 9831 entries, 5666 to 12899\n",
      "Data columns (total 7 columns):\n",
      "RESOURCE            9831 non-null float64\n",
      "MGR_ID              9831 non-null float64\n",
      "ROLE_ROLLUP_1       9831 non-null float64\n",
      "ROLE_ROLLUP_2       9831 non-null float64\n",
      "ROLE_DEPTNAME       9831 non-null float64\n",
      "ROLE_FAMILY_DESC    9831 non-null float64\n",
      "ROLE_CODE           9831 non-null float64\n",
      "dtypes: float64(7)\n",
      "memory usage: 614.4 KB\n"
     ]
    }
   ],
   "source": [
    "xts_enc.info()"
   ]
  },
  {
   "cell_type": "code",
   "execution_count": 10,
   "metadata": {},
   "outputs": [
    {
     "data": {
      "text/plain": [
       "1    9260\n",
       "0     571\n",
       "Name: target, dtype: int64"
      ]
     },
     "execution_count": 10,
     "metadata": {},
     "output_type": "execute_result"
    }
   ],
   "source": [
    "y_test.value_counts()"
   ]
  },
  {
   "cell_type": "markdown",
   "metadata": {},
   "source": [
    "# Target Encoding"
   ]
  },
  {
   "cell_type": "code",
   "execution_count": 11,
   "metadata": {},
   "outputs": [],
   "source": [
    "from lightgbm import LGBMClassifier\n",
    "from sklearn.metrics import roc_auc_score,roc_curve,accuracy_score,confusion_matrix,classification_report"
   ]
  },
  {
   "cell_type": "code",
   "execution_count": 12,
   "metadata": {},
   "outputs": [],
   "source": [
    "def aucroc(mod,x,y):\n",
    "    pred=mod.predict(x)\n",
    "    prob=mod.predict_proba(x)[:,1]\n",
    "    auc=roc_auc_score(y,prob)\n",
    "    acc=accuracy_score(y,pred)\n",
    "    print('AUC_ROC= ',auc)\n",
    "    print('Accuracy= ',acc)\n",
    "    print('confusion matrix:\\n',confusion_matrix(y,pred))\n",
    "    "
   ]
  },
  {
   "cell_type": "code",
   "execution_count": 13,
   "metadata": {},
   "outputs": [
    {
     "name": "stdout",
     "output_type": "stream",
     "text": [
      "RS: 0.981487775640295\n",
      "params:  {'learning_rate': 0.022143913603027254, 'max_depth': 9, 'n_estimators': 239, 'num_leaves': 10}\n",
      "\n",
      "Train:\n",
      "AUC_ROC=  0.9950184614770464\n",
      "Accuracy=  0.9805126863719592\n",
      "confusion matrix:\n",
      " [[ 1040   286]\n",
      " [  161 21451]]\n",
      "\n",
      "Test:\n",
      "AUC_ROC=  0.7922589485310527\n",
      "Accuracy=  0.9407995117485505\n",
      "confusion matrix:\n",
      " [[ 158  413]\n",
      " [ 169 9091]]\n"
     ]
    }
   ],
   "source": [
    "lgb=LGBMClassifier()\n",
    "params={'num_leaves': st.randint(10,50),\n",
    "    'max_depth':st.randint(3,30) ,\n",
    "    'learning_rate':st.uniform(0,1) ,\n",
    "    'n_estimators':st.randint(100,250)}\n",
    "sf=StratifiedKFold()\n",
    "rs=RandomizedSearchCV(lgb,param_distributions=params,cv=sf,scoring='roc_auc',random_state=1234)\n",
    "m=rs.fit(xtr_enc,y_train)\n",
    "lbp=m.best_params_\n",
    "print('RS:',m.best_score_)\n",
    "print('params: ',lbp)\n",
    "lgb=LGBMClassifier()\n",
    "mod=lgb.fit(xtr_enc,y_train)\n",
    "print('\\nTrain:')\n",
    "aucroc(mod,xtr_enc,y_train)\n",
    "print('\\nTest:')\n",
    "aucroc(mod,xts_enc,y_test)\n"
   ]
  },
  {
   "cell_type": "code",
   "execution_count": 15,
   "metadata": {},
   "outputs": [],
   "source": [
    "from sklearn.linear_model import LogisticRegression\n",
    "from sklearn.ensemble import RandomForestClassifier"
   ]
  },
  {
   "cell_type": "code",
   "execution_count": 20,
   "metadata": {},
   "outputs": [
    {
     "name": "stderr",
     "output_type": "stream",
     "text": [
      "C:\\Users\\Shashi Katteri\\AppData\\Roaming\\Python\\Python37\\site-packages\\sklearn\\model_selection\\_search.py:281: UserWarning: The total space of parameters 1 is smaller than n_iter=10. Running 1 iterations. For exhaustive searches, use GridSearchCV.\n",
      "  % (grid_size, self.n_iter, grid_size), UserWarning)\n"
     ]
    },
    {
     "name": "stdout",
     "output_type": "stream",
     "text": [
      "RS: 0.962586353531084\n",
      "params:  {}\n",
      "\n",
      "Train:\n",
      "AUC_ROC=  0.9627157793740084\n",
      "Accuracy=  0.9608945854041329\n",
      "confusion matrix:\n",
      " [[  624   702]\n",
      " [  195 21417]]\n",
      "\n",
      "Test:\n",
      "AUC_ROC=  0.8316655823401027\n",
      "Accuracy=  0.9436476452039467\n",
      "confusion matrix:\n",
      " [[ 127  444]\n",
      " [ 110 9150]]\n"
     ]
    }
   ],
   "source": [
    "lr=LogisticRegression()\n",
    "params={}\n",
    "sf=StratifiedKFold()\n",
    "rs=RandomizedSearchCV(lr,param_distributions=params,cv=sf,scoring='roc_auc',random_state=1234)\n",
    "m=rs.fit(xtr_enc,y_train)\n",
    "lbp=m.best_params_\n",
    "print('RS:',m.best_score_)\n",
    "print('params: ',lbp)\n",
    "lgb=LGBMClassifier()\n",
    "mod=lr.fit(xtr_enc,y_train)\n",
    "print('\\nTrain:')\n",
    "aucroc(mod,xtr_enc,y_train)\n",
    "print('\\nTest:')\n",
    "aucroc(mod,xts_enc,y_test)\n"
   ]
  },
  {
   "cell_type": "code",
   "execution_count": 21,
   "metadata": {},
   "outputs": [
    {
     "name": "stdout",
     "output_type": "stream",
     "text": [
      "RS: 0.97784614450054\n",
      "params:  {'max_depth': 12, 'n_estimators': 130}\n",
      "\n",
      "Train:\n",
      "AUC_ROC=  0.9995821863391351\n",
      "Accuracy=  0.9961635713662917\n",
      "confusion matrix:\n",
      " [[ 1263    63]\n",
      " [   25 21587]]\n",
      "\n",
      "Test:\n",
      "AUC_ROC=  0.7849834324987801\n",
      "Accuracy=  0.9434442070999898\n",
      "confusion matrix:\n",
      " [[ 181  390]\n",
      " [ 166 9094]]\n"
     ]
    }
   ],
   "source": [
    "rf=RandomForestClassifier()\n",
    "params={\n",
    "    'max_depth':st.randint(3,30) ,\n",
    "\n",
    "    'n_estimators':st.randint(100,250)}\n",
    "sf=StratifiedKFold()\n",
    "rs=RandomizedSearchCV(rf,param_distributions=params,cv=sf,scoring='roc_auc',random_state=1234)\n",
    "m=rs.fit(xtr_enc,y_train)\n",
    "lbp=m.best_params_\n",
    "print('RS:',m.best_score_)\n",
    "print('params: ',lbp)\n",
    "lgb=LGBMClassifier()\n",
    "mod=rf.fit(xtr_enc,y_train)\n",
    "print('\\nTrain:')\n",
    "aucroc(mod,xtr_enc,y_train)\n",
    "print('\\nTest:')\n",
    "aucroc(mod,xts_enc,y_test)\n"
   ]
  },
  {
   "cell_type": "code",
   "execution_count": null,
   "metadata": {},
   "outputs": [],
   "source": []
  }
 ],
 "metadata": {
  "kernelspec": {
   "display_name": "Python 3",
   "language": "python",
   "name": "python3"
  },
  "language_info": {
   "codemirror_mode": {
    "name": "ipython",
    "version": 3
   },
   "file_extension": ".py",
   "mimetype": "text/x-python",
   "name": "python",
   "nbconvert_exporter": "python",
   "pygments_lexer": "ipython3",
   "version": "3.7.4"
  }
 },
 "nbformat": 4,
 "nbformat_minor": 2
}
