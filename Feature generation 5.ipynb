{
 "cells": [
  {
   "cell_type": "code",
   "execution_count": 1,
   "metadata": {},
   "outputs": [],
   "source": [
    "import numpy as np\n",
    "import pandas as pd \n",
    "import matplotlib.pyplot as plt\n",
    "import seaborn as sns \n",
    "import scipy.stats as st \n",
    "from tqdm import tqdm \n",
    "import os\n",
    "## Change directory to your working directory\n",
    "os.chdir('D:\\Shashi Katteri\\Desktop\\data sets to work on\\Amazon Employee Access\\Dataset_10')"
   ]
  },
  {
   "cell_type": "code",
   "execution_count": 2,
   "metadata": {},
   "outputs": [
    {
     "data": {
      "text/html": [
       "<div>\n",
       "<style scoped>\n",
       "    .dataframe tbody tr th:only-of-type {\n",
       "        vertical-align: middle;\n",
       "    }\n",
       "\n",
       "    .dataframe tbody tr th {\n",
       "        vertical-align: top;\n",
       "    }\n",
       "\n",
       "    .dataframe thead th {\n",
       "        text-align: right;\n",
       "    }\n",
       "</style>\n",
       "<table border=\"1\" class=\"dataframe\">\n",
       "  <thead>\n",
       "    <tr style=\"text-align: right;\">\n",
       "      <th></th>\n",
       "      <th>RESOURCE</th>\n",
       "      <th>MGR_ID</th>\n",
       "      <th>ROLE_ROLLUP_1</th>\n",
       "      <th>ROLE_ROLLUP_2</th>\n",
       "      <th>ROLE_DEPTNAME</th>\n",
       "      <th>ROLE_TITLE</th>\n",
       "      <th>ROLE_FAMILY_DESC</th>\n",
       "      <th>ROLE_FAMILY</th>\n",
       "      <th>ROLE_CODE</th>\n",
       "      <th>target</th>\n",
       "    </tr>\n",
       "  </thead>\n",
       "  <tbody>\n",
       "    <tr>\n",
       "      <td>0</td>\n",
       "      <td>39353</td>\n",
       "      <td>85475</td>\n",
       "      <td>117961</td>\n",
       "      <td>118300</td>\n",
       "      <td>123472</td>\n",
       "      <td>117905</td>\n",
       "      <td>117906</td>\n",
       "      <td>290919</td>\n",
       "      <td>117908</td>\n",
       "      <td>1</td>\n",
       "    </tr>\n",
       "    <tr>\n",
       "      <td>1</td>\n",
       "      <td>17183</td>\n",
       "      <td>1540</td>\n",
       "      <td>117961</td>\n",
       "      <td>118343</td>\n",
       "      <td>123125</td>\n",
       "      <td>118536</td>\n",
       "      <td>118536</td>\n",
       "      <td>308574</td>\n",
       "      <td>118539</td>\n",
       "      <td>1</td>\n",
       "    </tr>\n",
       "    <tr>\n",
       "      <td>2</td>\n",
       "      <td>36724</td>\n",
       "      <td>14457</td>\n",
       "      <td>118219</td>\n",
       "      <td>118220</td>\n",
       "      <td>117884</td>\n",
       "      <td>117879</td>\n",
       "      <td>267952</td>\n",
       "      <td>19721</td>\n",
       "      <td>117880</td>\n",
       "      <td>1</td>\n",
       "    </tr>\n",
       "    <tr>\n",
       "      <td>3</td>\n",
       "      <td>36135</td>\n",
       "      <td>5396</td>\n",
       "      <td>117961</td>\n",
       "      <td>118343</td>\n",
       "      <td>119993</td>\n",
       "      <td>118321</td>\n",
       "      <td>240983</td>\n",
       "      <td>290919</td>\n",
       "      <td>118322</td>\n",
       "      <td>1</td>\n",
       "    </tr>\n",
       "    <tr>\n",
       "      <td>4</td>\n",
       "      <td>42680</td>\n",
       "      <td>5905</td>\n",
       "      <td>117929</td>\n",
       "      <td>117930</td>\n",
       "      <td>119569</td>\n",
       "      <td>119323</td>\n",
       "      <td>123932</td>\n",
       "      <td>19793</td>\n",
       "      <td>119325</td>\n",
       "      <td>1</td>\n",
       "    </tr>\n",
       "  </tbody>\n",
       "</table>\n",
       "</div>"
      ],
      "text/plain": [
       "   RESOURCE  MGR_ID  ROLE_ROLLUP_1  ROLE_ROLLUP_2  ROLE_DEPTNAME  ROLE_TITLE  \\\n",
       "0     39353   85475         117961         118300         123472      117905   \n",
       "1     17183    1540         117961         118343         123125      118536   \n",
       "2     36724   14457         118219         118220         117884      117879   \n",
       "3     36135    5396         117961         118343         119993      118321   \n",
       "4     42680    5905         117929         117930         119569      119323   \n",
       "\n",
       "   ROLE_FAMILY_DESC  ROLE_FAMILY  ROLE_CODE  target  \n",
       "0            117906       290919     117908       1  \n",
       "1            118536       308574     118539       1  \n",
       "2            267952        19721     117880       1  \n",
       "3            240983       290919     118322       1  \n",
       "4            123932        19793     119325       1  "
      ]
     },
     "execution_count": 2,
     "metadata": {},
     "output_type": "execute_result"
    }
   ],
   "source": [
    "df=pd.read_csv('Amazon_employee_access.csv')\n",
    "df.head()"
   ]
  },
  {
   "cell_type": "code",
   "execution_count": 3,
   "metadata": {},
   "outputs": [],
   "source": [
    "df1=df.astype(str)\n",
    "df1['target']=df1['target'].astype(int)"
   ]
  },
  {
   "cell_type": "code",
   "execution_count": 4,
   "metadata": {},
   "outputs": [],
   "source": [
    "df1=df1.drop(['ROLE_TITLE','ROLE_FAMILY'],axis=1)\n"
   ]
  },
  {
   "cell_type": "code",
   "execution_count": 5,
   "metadata": {},
   "outputs": [],
   "source": [
    "df1['target']=df1['target'].map({1:0,0:1})"
   ]
  },
  {
   "cell_type": "code",
   "execution_count": 6,
   "metadata": {},
   "outputs": [],
   "source": [
    "df1['ROLLUP_12']=df1['ROLE_ROLLUP_1']+df1['ROLE_ROLLUP_2']\n",
    "df1=df1.drop(['ROLE_ROLLUP_1','ROLE_ROLLUP_2'],axis=1)"
   ]
  },
  {
   "cell_type": "code",
   "execution_count": 7,
   "metadata": {},
   "outputs": [
    {
     "data": {
      "text/html": [
       "<div>\n",
       "<style scoped>\n",
       "    .dataframe tbody tr th:only-of-type {\n",
       "        vertical-align: middle;\n",
       "    }\n",
       "\n",
       "    .dataframe tbody tr th {\n",
       "        vertical-align: top;\n",
       "    }\n",
       "\n",
       "    .dataframe thead th {\n",
       "        text-align: right;\n",
       "    }\n",
       "</style>\n",
       "<table border=\"1\" class=\"dataframe\">\n",
       "  <thead>\n",
       "    <tr style=\"text-align: right;\">\n",
       "      <th></th>\n",
       "      <th>RESOURCE</th>\n",
       "      <th>MGR_ID</th>\n",
       "      <th>ROLE_DEPTNAME</th>\n",
       "      <th>ROLE_FAMILY_DESC</th>\n",
       "      <th>ROLE_CODE</th>\n",
       "      <th>target</th>\n",
       "      <th>ROLLUP_12</th>\n",
       "    </tr>\n",
       "  </thead>\n",
       "  <tbody>\n",
       "    <tr>\n",
       "      <td>0</td>\n",
       "      <td>39353</td>\n",
       "      <td>85475</td>\n",
       "      <td>123472</td>\n",
       "      <td>117906</td>\n",
       "      <td>117908</td>\n",
       "      <td>0</td>\n",
       "      <td>117961118300</td>\n",
       "    </tr>\n",
       "    <tr>\n",
       "      <td>1</td>\n",
       "      <td>17183</td>\n",
       "      <td>1540</td>\n",
       "      <td>123125</td>\n",
       "      <td>118536</td>\n",
       "      <td>118539</td>\n",
       "      <td>0</td>\n",
       "      <td>117961118343</td>\n",
       "    </tr>\n",
       "    <tr>\n",
       "      <td>2</td>\n",
       "      <td>36724</td>\n",
       "      <td>14457</td>\n",
       "      <td>117884</td>\n",
       "      <td>267952</td>\n",
       "      <td>117880</td>\n",
       "      <td>0</td>\n",
       "      <td>118219118220</td>\n",
       "    </tr>\n",
       "    <tr>\n",
       "      <td>3</td>\n",
       "      <td>36135</td>\n",
       "      <td>5396</td>\n",
       "      <td>119993</td>\n",
       "      <td>240983</td>\n",
       "      <td>118322</td>\n",
       "      <td>0</td>\n",
       "      <td>117961118343</td>\n",
       "    </tr>\n",
       "    <tr>\n",
       "      <td>4</td>\n",
       "      <td>42680</td>\n",
       "      <td>5905</td>\n",
       "      <td>119569</td>\n",
       "      <td>123932</td>\n",
       "      <td>119325</td>\n",
       "      <td>0</td>\n",
       "      <td>117929117930</td>\n",
       "    </tr>\n",
       "  </tbody>\n",
       "</table>\n",
       "</div>"
      ],
      "text/plain": [
       "  RESOURCE MGR_ID ROLE_DEPTNAME ROLE_FAMILY_DESC ROLE_CODE  target  \\\n",
       "0    39353  85475        123472           117906    117908       0   \n",
       "1    17183   1540        123125           118536    118539       0   \n",
       "2    36724  14457        117884           267952    117880       0   \n",
       "3    36135   5396        119993           240983    118322       0   \n",
       "4    42680   5905        119569           123932    119325       0   \n",
       "\n",
       "      ROLLUP_12  \n",
       "0  117961118300  \n",
       "1  117961118343  \n",
       "2  118219118220  \n",
       "3  117961118343  \n",
       "4  117929117930  "
      ]
     },
     "execution_count": 7,
     "metadata": {},
     "output_type": "execute_result"
    }
   ],
   "source": [
    "df1.head()"
   ]
  },
  {
   "cell_type": "code",
   "execution_count": 8,
   "metadata": {},
   "outputs": [],
   "source": [
    "def create_feat(df,cols):\n",
    "    cols=list(cols)\n",
    "    t=df.copy()\n",
    "    #v=xts.copy()\n",
    "    #cols.remove(target)\n",
    "    for col in cols:\n",
    "        c=cols.copy()\n",
    "        c.remove(col)\n",
    "        for i in c:\n",
    "            d=df.groupby(col)[i].agg('nunique')\n",
    "            #d1=xts.groupby(col)[i].agg('nunique')\n",
    "            t[i+'/'+col]=t[col].map(d)\n",
    "            #v[i+'/'+col]=v[col].map(d1)\n",
    "            #v[i+'/'+col]=v[col].map(d)\n",
    "    return t"
   ]
  },
  {
   "cell_type": "code",
   "execution_count": 9,
   "metadata": {},
   "outputs": [],
   "source": [
    "def aucroc(mod,x,y):\n",
    "    pred=mod.predict(x)\n",
    "    prob=mod.predict_proba(x)[:,1]\n",
    "    auc=roc_auc_score(y,prob)\n",
    "    acc=accuracy_score(y,pred)\n",
    "    return auc\n",
    "    #print('AUC_ROC= ',auc)\n",
    "    #print('Accuracy= ',acc)\n",
    "    #print('confusion matrix:\\n',confusion_matrix(y,pred))"
   ]
  },
  {
   "cell_type": "code",
   "execution_count": 44,
   "metadata": {},
   "outputs": [],
   "source": [
    "def eliminate(algo,cols,xtr,ytr,xts,yts):\n",
    "    mod=algo.fit(xtr[cols],ytr)\n",
    "    auc=aucroc(mod,xts[cols],yts)\n",
    "    \n",
    "    high=0\n",
    "    #removed=[]\n",
    "    for i in tqdm(cols):\n",
    "        c=cols.copy()\n",
    "        c.remove(i)\n",
    "        mod=algo.fit(xtr[c],ytr)\n",
    "        auc_sc=aucroc(mod,xts[c],yts)\n",
    "        if auc_sc>high:\n",
    "            high=auc_sc\n",
    "            r=i\n",
    "        \n",
    "    return high,r"
   ]
  },
  {
   "cell_type": "code",
   "execution_count": 60,
   "metadata": {},
   "outputs": [],
   "source": [
    "def col_select(algo,step):\n",
    "    \n",
    "    \n",
    "    cols=list(xtr.columns)\n",
    "    p=[]\n",
    "    removed=[]\n",
    "    mod=algo.fit(xtr[cols],ytr)\n",
    "    auc=aucroc(mod,xts[cols],yts)\n",
    "    high_current=auc\n",
    "    removed_new=[]\n",
    "    high_new=auc\n",
    "    best=auc\n",
    "   # best_rem=[]\n",
    "    while high_current-high_new<step:    \n",
    "\n",
    "\n",
    "        removed=removed+removed_new\n",
    "        print(len(removed))\n",
    "        removed_new=[]\n",
    "\n",
    "\n",
    "        if high_current==auc:\n",
    "            pass\n",
    "        else:\n",
    "            high_current=high_new\n",
    "        if len(cols)>2:\n",
    "            high_new,r=eliminate(algo,cols,xtr,ytr,xts,yts)\n",
    "            while high_new>=high_current:\n",
    "                cols.remove(r)\n",
    "                removed_new.append(r)\n",
    "                high_current=high_new\n",
    "\n",
    "                high_new,r=eliminate(algo,cols,xtr,ytr,xts,yts)\n",
    "                print(high_new)\n",
    "                if high_new>best:\n",
    "                    best=high_new\n",
    "                    best_rem=removed+removed_new+[r]\n",
    "        else:\n",
    "            break\n",
    "\n",
    "    print('high_auc=',high_current)\n",
    "    print('auc_one step ahead=',high_new)\n",
    "    print('removed: ',removed)\n",
    "    print('len=',len(removed))\n",
    "    print('best=',best)\n",
    "    print('best_rem=',best_rem)"
   ]
  },
  {
   "cell_type": "code",
   "execution_count": 12,
   "metadata": {},
   "outputs": [],
   "source": [
    "def AST_ecoding(train,test,columns,target,weight):\n",
    "    t=train.copy()\n",
    "    v=test.copy()\n",
    "    gm=t[target].mean()\n",
    "    for col in columns:\n",
    "        gb=t.groupby(col)[target].agg(['count','mean'])\n",
    "        count=gb['count']\n",
    "        mean=gb['mean']\n",
    "        gb['smooth']=(count*mean + weight*gm)/(count+weight)\n",
    "        t[col+'_enc']=t[col].map(gb['smooth'])\n",
    "        \n",
    "        v[col+'_enc']=v[col].map(gb['smooth'])\n",
    "        v[col+'_enc']=v[col+'_enc'].fillna(gm)\n",
    "    v=v.drop(columns,axis=1)\n",
    "    t=t.drop(columns,axis=1)\n",
    "    return t,v"
   ]
  },
  {
   "cell_type": "code",
   "execution_count": 13,
   "metadata": {},
   "outputs": [],
   "source": [
    "from lightgbm import LGBMClassifier\n",
    "from sklearn.metrics import *\n",
    "from sklearn.model_selection import train_test_split,RandomizedSearchCV\n",
    "from sklearn.linear_model import LogisticRegression\n",
    "lgb=LGBMClassifier(n_estimators=200)\n",
    "lr=LogisticRegression()"
   ]
  },
  {
   "cell_type": "code",
   "execution_count": 14,
   "metadata": {},
   "outputs": [],
   "source": [
    "\n",
    "columns=list(df1.columns)\n",
    "columns.remove('target')\n",
    "d=create_feat(df1,columns)\n",
    "t,v=train_test_split(d,test_size=0.3,random_state=123)\n",
    "\n",
    "target='target'\n"
   ]
  },
  {
   "cell_type": "code",
   "execution_count": 15,
   "metadata": {
    "scrolled": true
   },
   "outputs": [
    {
     "data": {
      "text/html": [
       "<div>\n",
       "<style scoped>\n",
       "    .dataframe tbody tr th:only-of-type {\n",
       "        vertical-align: middle;\n",
       "    }\n",
       "\n",
       "    .dataframe tbody tr th {\n",
       "        vertical-align: top;\n",
       "    }\n",
       "\n",
       "    .dataframe thead th {\n",
       "        text-align: right;\n",
       "    }\n",
       "</style>\n",
       "<table border=\"1\" class=\"dataframe\">\n",
       "  <thead>\n",
       "    <tr style=\"text-align: right;\">\n",
       "      <th></th>\n",
       "      <th>RESOURCE</th>\n",
       "      <th>MGR_ID</th>\n",
       "      <th>ROLE_DEPTNAME</th>\n",
       "      <th>ROLE_FAMILY_DESC</th>\n",
       "      <th>ROLE_CODE</th>\n",
       "      <th>target</th>\n",
       "      <th>ROLLUP_12</th>\n",
       "      <th>MGR_ID/RESOURCE</th>\n",
       "      <th>ROLE_DEPTNAME/RESOURCE</th>\n",
       "      <th>ROLE_FAMILY_DESC/RESOURCE</th>\n",
       "      <th>...</th>\n",
       "      <th>RESOURCE/ROLE_CODE</th>\n",
       "      <th>MGR_ID/ROLE_CODE</th>\n",
       "      <th>ROLE_DEPTNAME/ROLE_CODE</th>\n",
       "      <th>ROLE_FAMILY_DESC/ROLE_CODE</th>\n",
       "      <th>ROLLUP_12/ROLE_CODE</th>\n",
       "      <th>RESOURCE/ROLLUP_12</th>\n",
       "      <th>MGR_ID/ROLLUP_12</th>\n",
       "      <th>ROLE_DEPTNAME/ROLLUP_12</th>\n",
       "      <th>ROLE_FAMILY_DESC/ROLLUP_12</th>\n",
       "      <th>ROLE_CODE/ROLLUP_12</th>\n",
       "    </tr>\n",
       "  </thead>\n",
       "  <tbody>\n",
       "    <tr>\n",
       "      <td>7693</td>\n",
       "      <td>25285</td>\n",
       "      <td>51761</td>\n",
       "      <td>120370</td>\n",
       "      <td>117906</td>\n",
       "      <td>117908</td>\n",
       "      <td>0</td>\n",
       "      <td>117961118413</td>\n",
       "      <td>2</td>\n",
       "      <td>1</td>\n",
       "      <td>1</td>\n",
       "      <td>...</td>\n",
       "      <td>1938</td>\n",
       "      <td>592</td>\n",
       "      <td>163</td>\n",
       "      <td>49</td>\n",
       "      <td>39</td>\n",
       "      <td>611</td>\n",
       "      <td>93</td>\n",
       "      <td>23</td>\n",
       "      <td>83</td>\n",
       "      <td>40</td>\n",
       "    </tr>\n",
       "    <tr>\n",
       "      <td>17676</td>\n",
       "      <td>79168</td>\n",
       "      <td>25396</td>\n",
       "      <td>117941</td>\n",
       "      <td>117913</td>\n",
       "      <td>117888</td>\n",
       "      <td>0</td>\n",
       "      <td>118602118603</td>\n",
       "      <td>12</td>\n",
       "      <td>3</td>\n",
       "      <td>6</td>\n",
       "      <td>...</td>\n",
       "      <td>197</td>\n",
       "      <td>434</td>\n",
       "      <td>13</td>\n",
       "      <td>21</td>\n",
       "      <td>62</td>\n",
       "      <td>55</td>\n",
       "      <td>27</td>\n",
       "      <td>5</td>\n",
       "      <td>20</td>\n",
       "      <td>9</td>\n",
       "    </tr>\n",
       "    <tr>\n",
       "      <td>1969</td>\n",
       "      <td>33329</td>\n",
       "      <td>8028</td>\n",
       "      <td>124948</td>\n",
       "      <td>130134</td>\n",
       "      <td>120954</td>\n",
       "      <td>0</td>\n",
       "      <td>117902117903</td>\n",
       "      <td>8</td>\n",
       "      <td>3</td>\n",
       "      <td>8</td>\n",
       "      <td>...</td>\n",
       "      <td>107</td>\n",
       "      <td>23</td>\n",
       "      <td>16</td>\n",
       "      <td>9</td>\n",
       "      <td>9</td>\n",
       "      <td>319</td>\n",
       "      <td>82</td>\n",
       "      <td>37</td>\n",
       "      <td>49</td>\n",
       "      <td>34</td>\n",
       "    </tr>\n",
       "    <tr>\n",
       "      <td>15050</td>\n",
       "      <td>3690</td>\n",
       "      <td>3692</td>\n",
       "      <td>126229</td>\n",
       "      <td>207709</td>\n",
       "      <td>121596</td>\n",
       "      <td>0</td>\n",
       "      <td>117961118413</td>\n",
       "      <td>1</td>\n",
       "      <td>1</td>\n",
       "      <td>1</td>\n",
       "      <td>...</td>\n",
       "      <td>124</td>\n",
       "      <td>16</td>\n",
       "      <td>18</td>\n",
       "      <td>8</td>\n",
       "      <td>10</td>\n",
       "      <td>611</td>\n",
       "      <td>93</td>\n",
       "      <td>23</td>\n",
       "      <td>83</td>\n",
       "      <td>40</td>\n",
       "    </tr>\n",
       "    <tr>\n",
       "      <td>345</td>\n",
       "      <td>77203</td>\n",
       "      <td>15621</td>\n",
       "      <td>120943</td>\n",
       "      <td>126684</td>\n",
       "      <td>126685</td>\n",
       "      <td>1</td>\n",
       "      <td>117961119256</td>\n",
       "      <td>16</td>\n",
       "      <td>2</td>\n",
       "      <td>6</td>\n",
       "      <td>...</td>\n",
       "      <td>43</td>\n",
       "      <td>34</td>\n",
       "      <td>5</td>\n",
       "      <td>11</td>\n",
       "      <td>6</td>\n",
       "      <td>46</td>\n",
       "      <td>28</td>\n",
       "      <td>5</td>\n",
       "      <td>14</td>\n",
       "      <td>8</td>\n",
       "    </tr>\n",
       "  </tbody>\n",
       "</table>\n",
       "<p>5 rows × 37 columns</p>\n",
       "</div>"
      ],
      "text/plain": [
       "      RESOURCE MGR_ID ROLE_DEPTNAME ROLE_FAMILY_DESC ROLE_CODE  target  \\\n",
       "7693     25285  51761        120370           117906    117908       0   \n",
       "17676    79168  25396        117941           117913    117888       0   \n",
       "1969     33329   8028        124948           130134    120954       0   \n",
       "15050     3690   3692        126229           207709    121596       0   \n",
       "345      77203  15621        120943           126684    126685       1   \n",
       "\n",
       "          ROLLUP_12  MGR_ID/RESOURCE  ROLE_DEPTNAME/RESOURCE  \\\n",
       "7693   117961118413                2                       1   \n",
       "17676  118602118603               12                       3   \n",
       "1969   117902117903                8                       3   \n",
       "15050  117961118413                1                       1   \n",
       "345    117961119256               16                       2   \n",
       "\n",
       "       ROLE_FAMILY_DESC/RESOURCE  ...  RESOURCE/ROLE_CODE  MGR_ID/ROLE_CODE  \\\n",
       "7693                           1  ...                1938               592   \n",
       "17676                          6  ...                 197               434   \n",
       "1969                           8  ...                 107                23   \n",
       "15050                          1  ...                 124                16   \n",
       "345                            6  ...                  43                34   \n",
       "\n",
       "       ROLE_DEPTNAME/ROLE_CODE  ROLE_FAMILY_DESC/ROLE_CODE  \\\n",
       "7693                       163                          49   \n",
       "17676                       13                          21   \n",
       "1969                        16                           9   \n",
       "15050                       18                           8   \n",
       "345                          5                          11   \n",
       "\n",
       "       ROLLUP_12/ROLE_CODE  RESOURCE/ROLLUP_12  MGR_ID/ROLLUP_12  \\\n",
       "7693                    39                 611                93   \n",
       "17676                   62                  55                27   \n",
       "1969                     9                 319                82   \n",
       "15050                   10                 611                93   \n",
       "345                      6                  46                28   \n",
       "\n",
       "       ROLE_DEPTNAME/ROLLUP_12  ROLE_FAMILY_DESC/ROLLUP_12  \\\n",
       "7693                        23                          83   \n",
       "17676                        5                          20   \n",
       "1969                        37                          49   \n",
       "15050                       23                          83   \n",
       "345                          5                          14   \n",
       "\n",
       "       ROLE_CODE/ROLLUP_12  \n",
       "7693                    40  \n",
       "17676                    9  \n",
       "1969                    34  \n",
       "15050                   40  \n",
       "345                      8  \n",
       "\n",
       "[5 rows x 37 columns]"
      ]
     },
     "execution_count": 15,
     "metadata": {},
     "output_type": "execute_result"
    }
   ],
   "source": [
    "t.head()"
   ]
  },
  {
   "cell_type": "code",
   "execution_count": 16,
   "metadata": {},
   "outputs": [],
   "source": [
    "#v.isnull().sum()"
   ]
  },
  {
   "cell_type": "code",
   "execution_count": 17,
   "metadata": {},
   "outputs": [
    {
     "data": {
      "text/html": [
       "<div>\n",
       "<style scoped>\n",
       "    .dataframe tbody tr th:only-of-type {\n",
       "        vertical-align: middle;\n",
       "    }\n",
       "\n",
       "    .dataframe tbody tr th {\n",
       "        vertical-align: top;\n",
       "    }\n",
       "\n",
       "    .dataframe thead th {\n",
       "        text-align: right;\n",
       "    }\n",
       "</style>\n",
       "<table border=\"1\" class=\"dataframe\">\n",
       "  <thead>\n",
       "    <tr style=\"text-align: right;\">\n",
       "      <th></th>\n",
       "      <th>target</th>\n",
       "      <th>MGR_ID/RESOURCE</th>\n",
       "      <th>ROLE_DEPTNAME/RESOURCE</th>\n",
       "      <th>ROLE_FAMILY_DESC/RESOURCE</th>\n",
       "      <th>ROLE_CODE/RESOURCE</th>\n",
       "      <th>ROLLUP_12/RESOURCE</th>\n",
       "      <th>RESOURCE/MGR_ID</th>\n",
       "      <th>ROLE_DEPTNAME/MGR_ID</th>\n",
       "      <th>ROLE_FAMILY_DESC/MGR_ID</th>\n",
       "      <th>ROLE_CODE/MGR_ID</th>\n",
       "      <th>...</th>\n",
       "      <th>MGR_ID/ROLLUP_12</th>\n",
       "      <th>ROLE_DEPTNAME/ROLLUP_12</th>\n",
       "      <th>ROLE_FAMILY_DESC/ROLLUP_12</th>\n",
       "      <th>ROLE_CODE/ROLLUP_12</th>\n",
       "      <th>RESOURCE_enc</th>\n",
       "      <th>MGR_ID_enc</th>\n",
       "      <th>ROLE_DEPTNAME_enc</th>\n",
       "      <th>ROLE_FAMILY_DESC_enc</th>\n",
       "      <th>ROLE_CODE_enc</th>\n",
       "      <th>ROLLUP_12_enc</th>\n",
       "    </tr>\n",
       "  </thead>\n",
       "  <tbody>\n",
       "    <tr>\n",
       "      <td>7693</td>\n",
       "      <td>0</td>\n",
       "      <td>2</td>\n",
       "      <td>1</td>\n",
       "      <td>1</td>\n",
       "      <td>1</td>\n",
       "      <td>1</td>\n",
       "      <td>15</td>\n",
       "      <td>1</td>\n",
       "      <td>1</td>\n",
       "      <td>2</td>\n",
       "      <td>...</td>\n",
       "      <td>93</td>\n",
       "      <td>23</td>\n",
       "      <td>83</td>\n",
       "      <td>40</td>\n",
       "      <td>0.052553</td>\n",
       "      <td>0.156247</td>\n",
       "      <td>0.038472</td>\n",
       "      <td>0.065241</td>\n",
       "      <td>0.035277</td>\n",
       "      <td>0.028338</td>\n",
       "    </tr>\n",
       "    <tr>\n",
       "      <td>17676</td>\n",
       "      <td>0</td>\n",
       "      <td>12</td>\n",
       "      <td>3</td>\n",
       "      <td>6</td>\n",
       "      <td>3</td>\n",
       "      <td>1</td>\n",
       "      <td>8</td>\n",
       "      <td>2</td>\n",
       "      <td>7</td>\n",
       "      <td>4</td>\n",
       "      <td>...</td>\n",
       "      <td>27</td>\n",
       "      <td>5</td>\n",
       "      <td>20</td>\n",
       "      <td>9</td>\n",
       "      <td>0.129880</td>\n",
       "      <td>0.039868</td>\n",
       "      <td>0.076784</td>\n",
       "      <td>0.033729</td>\n",
       "      <td>0.036288</td>\n",
       "      <td>0.120699</td>\n",
       "    </tr>\n",
       "    <tr>\n",
       "      <td>1969</td>\n",
       "      <td>0</td>\n",
       "      <td>8</td>\n",
       "      <td>3</td>\n",
       "      <td>8</td>\n",
       "      <td>6</td>\n",
       "      <td>4</td>\n",
       "      <td>4</td>\n",
       "      <td>1</td>\n",
       "      <td>3</td>\n",
       "      <td>3</td>\n",
       "      <td>...</td>\n",
       "      <td>82</td>\n",
       "      <td>37</td>\n",
       "      <td>49</td>\n",
       "      <td>34</td>\n",
       "      <td>0.038539</td>\n",
       "      <td>0.046246</td>\n",
       "      <td>0.101101</td>\n",
       "      <td>0.038227</td>\n",
       "      <td>0.010142</td>\n",
       "      <td>0.036647</td>\n",
       "    </tr>\n",
       "    <tr>\n",
       "      <td>15050</td>\n",
       "      <td>0</td>\n",
       "      <td>1</td>\n",
       "      <td>1</td>\n",
       "      <td>1</td>\n",
       "      <td>1</td>\n",
       "      <td>1</td>\n",
       "      <td>33</td>\n",
       "      <td>3</td>\n",
       "      <td>6</td>\n",
       "      <td>6</td>\n",
       "      <td>...</td>\n",
       "      <td>93</td>\n",
       "      <td>23</td>\n",
       "      <td>83</td>\n",
       "      <td>40</td>\n",
       "      <td>0.055055</td>\n",
       "      <td>0.023123</td>\n",
       "      <td>0.033690</td>\n",
       "      <td>0.037295</td>\n",
       "      <td>0.130292</td>\n",
       "      <td>0.028338</td>\n",
       "    </tr>\n",
       "    <tr>\n",
       "      <td>345</td>\n",
       "      <td>1</td>\n",
       "      <td>16</td>\n",
       "      <td>2</td>\n",
       "      <td>6</td>\n",
       "      <td>4</td>\n",
       "      <td>1</td>\n",
       "      <td>3</td>\n",
       "      <td>1</td>\n",
       "      <td>2</td>\n",
       "      <td>2</td>\n",
       "      <td>...</td>\n",
       "      <td>28</td>\n",
       "      <td>5</td>\n",
       "      <td>14</td>\n",
       "      <td>8</td>\n",
       "      <td>0.092828</td>\n",
       "      <td>0.093746</td>\n",
       "      <td>0.070443</td>\n",
       "      <td>0.148434</td>\n",
       "      <td>0.182512</td>\n",
       "      <td>0.108729</td>\n",
       "    </tr>\n",
       "  </tbody>\n",
       "</table>\n",
       "<p>5 rows × 37 columns</p>\n",
       "</div>"
      ],
      "text/plain": [
       "       target  MGR_ID/RESOURCE  ROLE_DEPTNAME/RESOURCE  \\\n",
       "7693        0                2                       1   \n",
       "17676       0               12                       3   \n",
       "1969        0                8                       3   \n",
       "15050       0                1                       1   \n",
       "345         1               16                       2   \n",
       "\n",
       "       ROLE_FAMILY_DESC/RESOURCE  ROLE_CODE/RESOURCE  ROLLUP_12/RESOURCE  \\\n",
       "7693                           1                   1                   1   \n",
       "17676                          6                   3                   1   \n",
       "1969                           8                   6                   4   \n",
       "15050                          1                   1                   1   \n",
       "345                            6                   4                   1   \n",
       "\n",
       "       RESOURCE/MGR_ID  ROLE_DEPTNAME/MGR_ID  ROLE_FAMILY_DESC/MGR_ID  \\\n",
       "7693                15                     1                        1   \n",
       "17676                8                     2                        7   \n",
       "1969                 4                     1                        3   \n",
       "15050               33                     3                        6   \n",
       "345                  3                     1                        2   \n",
       "\n",
       "       ROLE_CODE/MGR_ID  ...  MGR_ID/ROLLUP_12  ROLE_DEPTNAME/ROLLUP_12  \\\n",
       "7693                  2  ...                93                       23   \n",
       "17676                 4  ...                27                        5   \n",
       "1969                  3  ...                82                       37   \n",
       "15050                 6  ...                93                       23   \n",
       "345                   2  ...                28                        5   \n",
       "\n",
       "       ROLE_FAMILY_DESC/ROLLUP_12  ROLE_CODE/ROLLUP_12  RESOURCE_enc  \\\n",
       "7693                           83                   40      0.052553   \n",
       "17676                          20                    9      0.129880   \n",
       "1969                           49                   34      0.038539   \n",
       "15050                          83                   40      0.055055   \n",
       "345                            14                    8      0.092828   \n",
       "\n",
       "       MGR_ID_enc  ROLE_DEPTNAME_enc  ROLE_FAMILY_DESC_enc  ROLE_CODE_enc  \\\n",
       "7693     0.156247           0.038472              0.065241       0.035277   \n",
       "17676    0.039868           0.076784              0.033729       0.036288   \n",
       "1969     0.046246           0.101101              0.038227       0.010142   \n",
       "15050    0.023123           0.033690              0.037295       0.130292   \n",
       "345      0.093746           0.070443              0.148434       0.182512   \n",
       "\n",
       "       ROLLUP_12_enc  \n",
       "7693        0.028338  \n",
       "17676       0.120699  \n",
       "1969        0.036647  \n",
       "15050       0.028338  \n",
       "345         0.108729  \n",
       "\n",
       "[5 rows x 37 columns]"
      ]
     },
     "execution_count": 17,
     "metadata": {},
     "output_type": "execute_result"
    }
   ],
   "source": [
    "org_feat=['RESOURCE','MGR_ID','ROLE_DEPTNAME','ROLE_FAMILY_DESC','ROLE_CODE','ROLLUP_12']\n",
    "t,v=AST_ecoding(t,v,org_feat,target,20)\n",
    "t.head()"
   ]
  },
  {
   "cell_type": "code",
   "execution_count": 42,
   "metadata": {},
   "outputs": [],
   "source": [
    "\n",
    "xtr=t.drop('target',axis=1)\n",
    "xts=v.drop(target,axis=1)\n",
    "ytr=t[target]\n",
    "yts=v[target]\n",
    "cols=list(xtr.columns)\n"
   ]
  },
  {
   "cell_type": "code",
   "execution_count": 45,
   "metadata": {},
   "outputs": [
    {
     "name": "stdout",
     "output_type": "stream",
     "text": [
      "0\n"
     ]
    },
    {
     "name": "stderr",
     "output_type": "stream",
     "text": [
      "100%|██████████| 36/36 [01:04<00:00,  1.78s/it]\n",
      "100%|██████████| 35/35 [00:59<00:00,  1.71s/it]\n"
     ]
    },
    {
     "name": "stdout",
     "output_type": "stream",
     "text": [
      "0.8387537683500207\n"
     ]
    },
    {
     "name": "stderr",
     "output_type": "stream",
     "text": [
      "100%|██████████| 34/34 [00:49<00:00,  1.47s/it]\n"
     ]
    },
    {
     "name": "stdout",
     "output_type": "stream",
     "text": [
      "0.8438954620933301\n"
     ]
    },
    {
     "name": "stderr",
     "output_type": "stream",
     "text": [
      "100%|██████████| 33/33 [00:49<00:00,  1.51s/it]\n"
     ]
    },
    {
     "name": "stdout",
     "output_type": "stream",
     "text": [
      "0.8534816339036135\n"
     ]
    },
    {
     "name": "stderr",
     "output_type": "stream",
     "text": [
      "100%|██████████| 32/32 [00:47<00:00,  1.47s/it]\n"
     ]
    },
    {
     "name": "stdout",
     "output_type": "stream",
     "text": [
      "0.8549257110219273\n"
     ]
    },
    {
     "name": "stderr",
     "output_type": "stream",
     "text": [
      "100%|██████████| 31/31 [00:43<00:00,  1.42s/it]\n"
     ]
    },
    {
     "name": "stdout",
     "output_type": "stream",
     "text": [
      "0.8629555590018647\n"
     ]
    },
    {
     "name": "stderr",
     "output_type": "stream",
     "text": [
      "100%|██████████| 30/30 [00:40<00:00,  1.35s/it]\n"
     ]
    },
    {
     "name": "stdout",
     "output_type": "stream",
     "text": [
      "0.8668601748287458\n"
     ]
    },
    {
     "name": "stderr",
     "output_type": "stream",
     "text": [
      "100%|██████████| 29/29 [00:39<00:00,  1.37s/it]\n"
     ]
    },
    {
     "name": "stdout",
     "output_type": "stream",
     "text": [
      "0.8687810404239464\n"
     ]
    },
    {
     "name": "stderr",
     "output_type": "stream",
     "text": [
      "100%|██████████| 28/28 [00:35<00:00,  1.26s/it]\n"
     ]
    },
    {
     "name": "stdout",
     "output_type": "stream",
     "text": [
      "0.8677690233117603\n",
      "8\n"
     ]
    },
    {
     "name": "stderr",
     "output_type": "stream",
     "text": [
      "100%|██████████| 28/28 [00:35<00:00,  1.26s/it]\n",
      "100%|██████████| 27/27 [00:35<00:00,  1.30s/it]\n"
     ]
    },
    {
     "name": "stdout",
     "output_type": "stream",
     "text": [
      "0.8682459063520103\n"
     ]
    },
    {
     "name": "stderr",
     "output_type": "stream",
     "text": [
      "100%|██████████| 26/26 [00:32<00:00,  1.26s/it]\n"
     ]
    },
    {
     "name": "stdout",
     "output_type": "stream",
     "text": [
      "0.8684718182265209\n"
     ]
    },
    {
     "name": "stderr",
     "output_type": "stream",
     "text": [
      "100%|██████████| 25/25 [00:30<00:00,  1.22s/it]\n"
     ]
    },
    {
     "name": "stdout",
     "output_type": "stream",
     "text": [
      "0.867808929051\n",
      "11\n"
     ]
    },
    {
     "name": "stderr",
     "output_type": "stream",
     "text": [
      "100%|██████████| 25/25 [00:31<00:00,  1.24s/it]\n",
      "100%|██████████| 24/24 [00:26<00:00,  1.12s/it]\n"
     ]
    },
    {
     "name": "stdout",
     "output_type": "stream",
     "text": [
      "0.8671702480964395\n",
      "12\n"
     ]
    },
    {
     "name": "stderr",
     "output_type": "stream",
     "text": [
      "100%|██████████| 24/24 [00:26<00:00,  1.10s/it]\n",
      "100%|██████████| 23/23 [00:27<00:00,  1.18s/it]\n"
     ]
    },
    {
     "name": "stdout",
     "output_type": "stream",
     "text": [
      "0.8646301815994826\n",
      "13\n"
     ]
    },
    {
     "name": "stderr",
     "output_type": "stream",
     "text": [
      "100%|██████████| 23/23 [00:26<00:00,  1.15s/it]\n",
      "100%|██████████| 22/22 [00:25<00:00,  1.17s/it]\n"
     ]
    },
    {
     "name": "stdout",
     "output_type": "stream",
     "text": [
      "0.8668645247434497\n"
     ]
    },
    {
     "name": "stderr",
     "output_type": "stream",
     "text": [
      "100%|██████████| 21/21 [00:24<00:00,  1.17s/it]\n"
     ]
    },
    {
     "name": "stdout",
     "output_type": "stream",
     "text": [
      "0.864947441682774\n",
      "15\n"
     ]
    },
    {
     "name": "stderr",
     "output_type": "stream",
     "text": [
      "100%|██████████| 21/21 [00:24<00:00,  1.14s/it]\n",
      "100%|██████████| 20/20 [00:22<00:00,  1.12s/it]\n"
     ]
    },
    {
     "name": "stdout",
     "output_type": "stream",
     "text": [
      "0.8632090833784085\n",
      "16\n"
     ]
    },
    {
     "name": "stderr",
     "output_type": "stream",
     "text": [
      "100%|██████████| 20/20 [00:22<00:00,  1.10s/it]\n",
      "100%|██████████| 19/19 [00:21<00:00,  1.13s/it]\n"
     ]
    },
    {
     "name": "stdout",
     "output_type": "stream",
     "text": [
      "0.8641675776270648\n"
     ]
    },
    {
     "name": "stderr",
     "output_type": "stream",
     "text": [
      "100%|██████████| 18/18 [00:19<00:00,  1.09s/it]\n"
     ]
    },
    {
     "name": "stdout",
     "output_type": "stream",
     "text": [
      "0.8667650440854398\n"
     ]
    },
    {
     "name": "stderr",
     "output_type": "stream",
     "text": [
      "100%|██████████| 17/17 [00:18<00:00,  1.07s/it]\n"
     ]
    },
    {
     "name": "stdout",
     "output_type": "stream",
     "text": [
      "0.8632662942131004\n",
      "19\n"
     ]
    },
    {
     "name": "stderr",
     "output_type": "stream",
     "text": [
      "100%|██████████| 17/17 [00:18<00:00,  1.09s/it]\n",
      "100%|██████████| 16/16 [00:16<00:00,  1.05s/it]\n"
     ]
    },
    {
     "name": "stdout",
     "output_type": "stream",
     "text": [
      "0.8624814182991455\n",
      "20\n"
     ]
    },
    {
     "name": "stderr",
     "output_type": "stream",
     "text": [
      "100%|██████████| 16/16 [00:16<00:00,  1.05s/it]\n",
      "100%|██████████| 15/15 [00:15<00:00,  1.04s/it]\n"
     ]
    },
    {
     "name": "stdout",
     "output_type": "stream",
     "text": [
      "0.8665624893616216\n"
     ]
    },
    {
     "name": "stderr",
     "output_type": "stream",
     "text": [
      "100%|██████████| 14/14 [00:14<00:00,  1.01s/it]\n"
     ]
    },
    {
     "name": "stdout",
     "output_type": "stream",
     "text": [
      "0.8635635068634089\n",
      "22\n"
     ]
    },
    {
     "name": "stderr",
     "output_type": "stream",
     "text": [
      "100%|██████████| 14/14 [00:13<00:00,  1.01it/s]\n",
      "100%|██████████| 13/13 [00:12<00:00,  1.05it/s]\n"
     ]
    },
    {
     "name": "stdout",
     "output_type": "stream",
     "text": [
      "0.8654436156491018\n"
     ]
    },
    {
     "name": "stderr",
     "output_type": "stream",
     "text": [
      "100%|██████████| 12/12 [00:11<00:00,  1.07it/s]\n"
     ]
    },
    {
     "name": "stdout",
     "output_type": "stream",
     "text": [
      "0.8618343212052668\n",
      "24\n"
     ]
    },
    {
     "name": "stderr",
     "output_type": "stream",
     "text": [
      "100%|██████████| 12/12 [00:11<00:00,  1.06it/s]\n",
      "100%|██████████| 11/11 [00:10<00:00,  1.03it/s]\n"
     ]
    },
    {
     "name": "stdout",
     "output_type": "stream",
     "text": [
      "0.8637018530636638\n"
     ]
    },
    {
     "name": "stderr",
     "output_type": "stream",
     "text": [
      "100%|██████████| 10/10 [00:08<00:00,  1.18it/s]\n"
     ]
    },
    {
     "name": "stdout",
     "output_type": "stream",
     "text": [
      "0.8588878213735895\n",
      "26\n"
     ]
    },
    {
     "name": "stderr",
     "output_type": "stream",
     "text": [
      "100%|██████████| 10/10 [00:09<00:00,  1.10it/s]\n",
      "100%|██████████| 9/9 [00:08<00:00,  1.10it/s]\n"
     ]
    },
    {
     "name": "stdout",
     "output_type": "stream",
     "text": [
      "0.8556519576507435\n",
      "27\n"
     ]
    },
    {
     "name": "stderr",
     "output_type": "stream",
     "text": [
      "100%|██████████| 9/9 [00:07<00:00,  1.14it/s]\n",
      "100%|██████████| 8/8 [00:06<00:00,  1.15it/s]\n"
     ]
    },
    {
     "name": "stdout",
     "output_type": "stream",
     "text": [
      "0.857045159679695\n"
     ]
    },
    {
     "name": "stderr",
     "output_type": "stream",
     "text": [
      "100%|██████████| 7/7 [00:05<00:00,  1.21it/s]\n"
     ]
    },
    {
     "name": "stdout",
     "output_type": "stream",
     "text": [
      "0.8535871666168633\n",
      "29\n"
     ]
    },
    {
     "name": "stderr",
     "output_type": "stream",
     "text": [
      "100%|██████████| 7/7 [00:05<00:00,  1.19it/s]\n",
      "100%|██████████| 6/6 [00:05<00:00,  1.16it/s]\n"
     ]
    },
    {
     "name": "stdout",
     "output_type": "stream",
     "text": [
      "0.8432414618739432\n",
      "30\n"
     ]
    },
    {
     "name": "stderr",
     "output_type": "stream",
     "text": [
      "100%|██████████| 6/6 [00:04<00:00,  1.28it/s]\n",
      "100%|██████████| 5/5 [00:04<00:00,  1.17it/s]\n"
     ]
    },
    {
     "name": "stdout",
     "output_type": "stream",
     "text": [
      "0.8362565390565602\n",
      "31\n"
     ]
    },
    {
     "name": "stderr",
     "output_type": "stream",
     "text": [
      "100%|██████████| 5/5 [00:04<00:00,  1.19it/s]\n",
      "100%|██████████| 4/4 [00:02<00:00,  1.41it/s]\n"
     ]
    },
    {
     "name": "stdout",
     "output_type": "stream",
     "text": [
      "0.8266060641593506\n",
      "32\n"
     ]
    },
    {
     "name": "stderr",
     "output_type": "stream",
     "text": [
      "100%|██████████| 4/4 [00:03<00:00,  1.27it/s]\n",
      "100%|██████████| 3/3 [00:02<00:00,  1.43it/s]\n"
     ]
    },
    {
     "name": "stdout",
     "output_type": "stream",
     "text": [
      "0.7934042054218851\n",
      "33\n"
     ]
    },
    {
     "name": "stderr",
     "output_type": "stream",
     "text": [
      "100%|██████████| 3/3 [00:02<00:00,  1.39it/s]\n",
      "100%|██████████| 2/2 [00:01<00:00,  1.33it/s]\n"
     ]
    },
    {
     "name": "stdout",
     "output_type": "stream",
     "text": [
      "0.6725502415148293\n",
      "high_auc= 0.7934042054218851\n",
      "auc_one step ahead= 0.6725502415148293\n",
      "removed:  ['RESOURCE_enc', 'MGR_ID_enc', 'ROLLUP_12_enc', 'ROLE_FAMILY_DESC_enc', 'ROLE_CODE_enc', 'ROLE_DEPTNAME_enc', 'ROLLUP_12/RESOURCE', 'MGR_ID/ROLE_CODE', 'ROLE_DEPTNAME/MGR_ID', 'ROLE_CODE/ROLE_FAMILY_DESC', 'RESOURCE/ROLE_CODE', 'ROLE_CODE/ROLE_DEPTNAME', 'ROLE_FAMILY_DESC/ROLE_CODE', 'MGR_ID/ROLLUP_12', 'RESOURCE/ROLE_FAMILY_DESC', 'ROLE_FAMILY_DESC/ROLLUP_12', 'ROLE_CODE/MGR_ID', 'ROLE_FAMILY_DESC/ROLE_DEPTNAME', 'ROLE_DEPTNAME/RESOURCE', 'ROLE_CODE/ROLLUP_12', 'RESOURCE/ROLLUP_12', 'ROLE_DEPTNAME/ROLLUP_12', 'ROLE_FAMILY_DESC/RESOURCE', 'ROLLUP_12/ROLE_DEPTNAME', 'MGR_ID/ROLE_FAMILY_DESC', 'ROLE_DEPTNAME/ROLE_CODE', 'ROLLUP_12/MGR_ID', 'MGR_ID/RESOURCE', 'MGR_ID/ROLE_DEPTNAME', 'ROLLUP_12/ROLE_FAMILY_DESC', 'ROLE_FAMILY_DESC/MGR_ID', 'ROLE_CODE/RESOURCE', 'ROLE_DEPTNAME/ROLE_FAMILY_DESC']\n",
      "len= 33\n",
      "best= 0.8687810404239464\n",
      "best_rem= ['RESOURCE_enc', 'MGR_ID_enc', 'ROLLUP_12_enc', 'ROLE_FAMILY_DESC_enc', 'ROLE_CODE_enc', 'ROLE_DEPTNAME_enc', 'ROLLUP_12/RESOURCE']\n"
     ]
    }
   ],
   "source": [
    "col_select(lgb,0.05)"
   ]
  },
  {
   "cell_type": "code",
   "execution_count": 52,
   "metadata": {},
   "outputs": [],
   "source": [
    "rem=['RESOURCE_enc', 'MGR_ID_enc', 'ROLLUP_12_enc', 'ROLE_FAMILY_DESC_enc', 'ROLE_CODE_enc', 'ROLE_DEPTNAME_enc', \n",
    "     'ROLLUP_12/RESOURCE','MGR_ID/ROLE_CODE']\n",
    "t1=t.drop(rem,axis=1)\n",
    "v1=v.drop(rem,axis=1)"
   ]
  },
  {
   "cell_type": "code",
   "execution_count": 53,
   "metadata": {},
   "outputs": [],
   "source": [
    "def aucroc1(mod,x,y):\n",
    "    pred=mod.predict(x)\n",
    "    prob=mod.predict_proba(x)[:,1]\n",
    "    auc=roc_auc_score(y,prob)\n",
    "    acc=accuracy_score(y,pred)\n",
    "    #return auc\n",
    "    print('AUC_ROC= ',auc)\n",
    "    print('Accuracy= ',acc)\n",
    "    print('confusion matrix:\\n',confusion_matrix(y,pred))"
   ]
  },
  {
   "cell_type": "code",
   "execution_count": 54,
   "metadata": {},
   "outputs": [
    {
     "name": "stdout",
     "output_type": "stream",
     "text": [
      "AUC_ROC=  0.8687810404239464\n",
      "Accuracy=  0.9501576645305666\n",
      "confusion matrix:\n",
      " [[9205   55]\n",
      " [ 435  136]]\n"
     ]
    }
   ],
   "source": [
    "xtr=t1.drop('target',axis=1)\n",
    "xts=v1.drop(target,axis=1)\n",
    "ytr=t1[target]\n",
    "yts=v1[target]\n",
    "cols=list(xtr.columns)\n",
    "mod=lgb.fit(xtr,ytr)\n",
    "aucroc1(mod,xts,yts)"
   ]
  },
  {
   "cell_type": "code",
   "execution_count": 58,
   "metadata": {},
   "outputs": [],
   "source": [
    "prob=mod.predict_proba(xts)[:,1]\n",
    "pred=mod.predict(xts)\n",
    "res=pd.DataFrame({'Prob_LGB':prob,'Pred_LGB':pred})\n",
    "res.to_csv('result_LGB.csv')"
   ]
  },
  {
   "cell_type": "code",
   "execution_count": null,
   "metadata": {},
   "outputs": [],
   "source": [
    "xtr=t.drop('target',axis=1)\n",
    "xts=v.drop(target,axis=1)\n",
    "ytr=t[target]\n",
    "yts=v[target]\n",
    "cols=list(xtr.columns)\n",
    "lr=LogisticRegression(max_iter=10e8)\n",
    "col_select(lr,0.05)"
   ]
  },
  {
   "cell_type": "code",
   "execution_count": null,
   "metadata": {},
   "outputs": [],
   "source": []
  }
 ],
 "metadata": {
  "kernelspec": {
   "display_name": "Python 3",
   "language": "python",
   "name": "python3"
  },
  "language_info": {
   "codemirror_mode": {
    "name": "ipython",
    "version": 3
   },
   "file_extension": ".py",
   "mimetype": "text/x-python",
   "name": "python",
   "nbconvert_exporter": "python",
   "pygments_lexer": "ipython3",
   "version": "3.7.4"
  }
 },
 "nbformat": 4,
 "nbformat_minor": 2
}
