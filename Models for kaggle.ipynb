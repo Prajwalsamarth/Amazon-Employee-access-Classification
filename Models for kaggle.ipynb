{
 "cells": [
  {
   "cell_type": "code",
   "execution_count": 1,
   "metadata": {},
   "outputs": [],
   "source": [
    "import numpy as np\n",
    "import pandas as pd \n",
    "import matplotlib.pyplot as plt\n",
    "import seaborn as sns \n",
    "import scipy.stats as st \n",
    "from tqdm import tqdm \n",
    "import os\n",
    "## Change directory to your working directory\n",
    "os.chdir('D:\\Shashi Katteri\\Desktop\\data sets to work on\\Amazon Employee Access\\Dataset_10')"
   ]
  },
  {
   "cell_type": "code",
   "execution_count": 2,
   "metadata": {},
   "outputs": [
    {
     "data": {
      "text/html": [
       "<div>\n",
       "<style scoped>\n",
       "    .dataframe tbody tr th:only-of-type {\n",
       "        vertical-align: middle;\n",
       "    }\n",
       "\n",
       "    .dataframe tbody tr th {\n",
       "        vertical-align: top;\n",
       "    }\n",
       "\n",
       "    .dataframe thead th {\n",
       "        text-align: right;\n",
       "    }\n",
       "</style>\n",
       "<table border=\"1\" class=\"dataframe\">\n",
       "  <thead>\n",
       "    <tr style=\"text-align: right;\">\n",
       "      <th></th>\n",
       "      <th>RESOURCE</th>\n",
       "      <th>MGR_ID</th>\n",
       "      <th>ROLE_ROLLUP_1</th>\n",
       "      <th>ROLE_ROLLUP_2</th>\n",
       "      <th>ROLE_DEPTNAME</th>\n",
       "      <th>ROLE_TITLE</th>\n",
       "      <th>ROLE_FAMILY_DESC</th>\n",
       "      <th>ROLE_FAMILY</th>\n",
       "      <th>ROLE_CODE</th>\n",
       "      <th>target</th>\n",
       "    </tr>\n",
       "  </thead>\n",
       "  <tbody>\n",
       "    <tr>\n",
       "      <td>0</td>\n",
       "      <td>39353</td>\n",
       "      <td>85475</td>\n",
       "      <td>117961</td>\n",
       "      <td>118300</td>\n",
       "      <td>123472</td>\n",
       "      <td>117905</td>\n",
       "      <td>117906</td>\n",
       "      <td>290919</td>\n",
       "      <td>117908</td>\n",
       "      <td>1.0</td>\n",
       "    </tr>\n",
       "    <tr>\n",
       "      <td>1</td>\n",
       "      <td>17183</td>\n",
       "      <td>1540</td>\n",
       "      <td>117961</td>\n",
       "      <td>118343</td>\n",
       "      <td>123125</td>\n",
       "      <td>118536</td>\n",
       "      <td>118536</td>\n",
       "      <td>308574</td>\n",
       "      <td>118539</td>\n",
       "      <td>1.0</td>\n",
       "    </tr>\n",
       "    <tr>\n",
       "      <td>2</td>\n",
       "      <td>36724</td>\n",
       "      <td>14457</td>\n",
       "      <td>118219</td>\n",
       "      <td>118220</td>\n",
       "      <td>117884</td>\n",
       "      <td>117879</td>\n",
       "      <td>267952</td>\n",
       "      <td>19721</td>\n",
       "      <td>117880</td>\n",
       "      <td>1.0</td>\n",
       "    </tr>\n",
       "    <tr>\n",
       "      <td>3</td>\n",
       "      <td>36135</td>\n",
       "      <td>5396</td>\n",
       "      <td>117961</td>\n",
       "      <td>118343</td>\n",
       "      <td>119993</td>\n",
       "      <td>118321</td>\n",
       "      <td>240983</td>\n",
       "      <td>290919</td>\n",
       "      <td>118322</td>\n",
       "      <td>1.0</td>\n",
       "    </tr>\n",
       "    <tr>\n",
       "      <td>4</td>\n",
       "      <td>42680</td>\n",
       "      <td>5905</td>\n",
       "      <td>117929</td>\n",
       "      <td>117930</td>\n",
       "      <td>119569</td>\n",
       "      <td>119323</td>\n",
       "      <td>123932</td>\n",
       "      <td>19793</td>\n",
       "      <td>119325</td>\n",
       "      <td>1.0</td>\n",
       "    </tr>\n",
       "  </tbody>\n",
       "</table>\n",
       "</div>"
      ],
      "text/plain": [
       "   RESOURCE  MGR_ID  ROLE_ROLLUP_1  ROLE_ROLLUP_2  ROLE_DEPTNAME  ROLE_TITLE  \\\n",
       "0     39353   85475         117961         118300         123472      117905   \n",
       "1     17183    1540         117961         118343         123125      118536   \n",
       "2     36724   14457         118219         118220         117884      117879   \n",
       "3     36135    5396         117961         118343         119993      118321   \n",
       "4     42680    5905         117929         117930         119569      119323   \n",
       "\n",
       "   ROLE_FAMILY_DESC  ROLE_FAMILY  ROLE_CODE  target  \n",
       "0            117906       290919     117908     1.0  \n",
       "1            118536       308574     118539     1.0  \n",
       "2            267952        19721     117880     1.0  \n",
       "3            240983       290919     118322     1.0  \n",
       "4            123932        19793     119325     1.0  "
      ]
     },
     "execution_count": 2,
     "metadata": {},
     "output_type": "execute_result"
    }
   ],
   "source": [
    "df1=pd.read_csv('Amazon_employee_access.csv')\n",
    "df2=pd.read_csv('test.csv')\n",
    "test_id=df2['id']\n",
    "df2=df2.drop('id',axis=1)\n",
    "df=pd.concat([df1,df2],sort=False)\n",
    "df.head()"
   ]
  },
  {
   "cell_type": "code",
   "execution_count": 3,
   "metadata": {},
   "outputs": [],
   "source": [
    "df1=df.astype(str)\n",
    "df1['target']=pd.to_numeric(df1['target'],errors='coerce')"
   ]
  },
  {
   "cell_type": "code",
   "execution_count": 4,
   "metadata": {},
   "outputs": [],
   "source": [
    "#df1['ROLE_ROLLUP_12']=df1['ROLE_ROLLUP_1']+df1['ROLE_ROLLUP_2']\n",
    "df1=df1.drop(['ROLE_TITLE','ROLE_FAMILY'],axis=1)\n"
   ]
  },
  {
   "cell_type": "code",
   "execution_count": 5,
   "metadata": {},
   "outputs": [],
   "source": [
    "#df1['target']=df1['target'].map({1:0,0:1})"
   ]
  },
  {
   "cell_type": "code",
   "execution_count": 6,
   "metadata": {},
   "outputs": [],
   "source": [
    "df1['ROLLUP_12']=df1['ROLE_ROLLUP_1']+df1['ROLE_ROLLUP_2']\n",
    "df1=df1.drop(['ROLE_ROLLUP_1','ROLE_ROLLUP_2'],axis=1)"
   ]
  },
  {
   "cell_type": "code",
   "execution_count": 7,
   "metadata": {},
   "outputs": [
    {
     "data": {
      "text/html": [
       "<div>\n",
       "<style scoped>\n",
       "    .dataframe tbody tr th:only-of-type {\n",
       "        vertical-align: middle;\n",
       "    }\n",
       "\n",
       "    .dataframe tbody tr th {\n",
       "        vertical-align: top;\n",
       "    }\n",
       "\n",
       "    .dataframe thead th {\n",
       "        text-align: right;\n",
       "    }\n",
       "</style>\n",
       "<table border=\"1\" class=\"dataframe\">\n",
       "  <thead>\n",
       "    <tr style=\"text-align: right;\">\n",
       "      <th></th>\n",
       "      <th>RESOURCE</th>\n",
       "      <th>MGR_ID</th>\n",
       "      <th>ROLE_DEPTNAME</th>\n",
       "      <th>ROLE_FAMILY_DESC</th>\n",
       "      <th>ROLE_CODE</th>\n",
       "      <th>target</th>\n",
       "      <th>ROLLUP_12</th>\n",
       "    </tr>\n",
       "  </thead>\n",
       "  <tbody>\n",
       "    <tr>\n",
       "      <td>0</td>\n",
       "      <td>39353</td>\n",
       "      <td>85475</td>\n",
       "      <td>123472</td>\n",
       "      <td>117906</td>\n",
       "      <td>117908</td>\n",
       "      <td>1.0</td>\n",
       "      <td>117961118300</td>\n",
       "    </tr>\n",
       "    <tr>\n",
       "      <td>1</td>\n",
       "      <td>17183</td>\n",
       "      <td>1540</td>\n",
       "      <td>123125</td>\n",
       "      <td>118536</td>\n",
       "      <td>118539</td>\n",
       "      <td>1.0</td>\n",
       "      <td>117961118343</td>\n",
       "    </tr>\n",
       "    <tr>\n",
       "      <td>2</td>\n",
       "      <td>36724</td>\n",
       "      <td>14457</td>\n",
       "      <td>117884</td>\n",
       "      <td>267952</td>\n",
       "      <td>117880</td>\n",
       "      <td>1.0</td>\n",
       "      <td>118219118220</td>\n",
       "    </tr>\n",
       "    <tr>\n",
       "      <td>3</td>\n",
       "      <td>36135</td>\n",
       "      <td>5396</td>\n",
       "      <td>119993</td>\n",
       "      <td>240983</td>\n",
       "      <td>118322</td>\n",
       "      <td>1.0</td>\n",
       "      <td>117961118343</td>\n",
       "    </tr>\n",
       "    <tr>\n",
       "      <td>4</td>\n",
       "      <td>42680</td>\n",
       "      <td>5905</td>\n",
       "      <td>119569</td>\n",
       "      <td>123932</td>\n",
       "      <td>119325</td>\n",
       "      <td>1.0</td>\n",
       "      <td>117929117930</td>\n",
       "    </tr>\n",
       "  </tbody>\n",
       "</table>\n",
       "</div>"
      ],
      "text/plain": [
       "  RESOURCE MGR_ID ROLE_DEPTNAME ROLE_FAMILY_DESC ROLE_CODE  target  \\\n",
       "0    39353  85475        123472           117906    117908     1.0   \n",
       "1    17183   1540        123125           118536    118539     1.0   \n",
       "2    36724  14457        117884           267952    117880     1.0   \n",
       "3    36135   5396        119993           240983    118322     1.0   \n",
       "4    42680   5905        119569           123932    119325     1.0   \n",
       "\n",
       "      ROLLUP_12  \n",
       "0  117961118300  \n",
       "1  117961118343  \n",
       "2  118219118220  \n",
       "3  117961118343  \n",
       "4  117929117930  "
      ]
     },
     "execution_count": 7,
     "metadata": {},
     "output_type": "execute_result"
    }
   ],
   "source": [
    "df1.head()"
   ]
  },
  {
   "cell_type": "markdown",
   "metadata": {},
   "source": [
    "# Combinations with brute force \n"
   ]
  },
  {
   "cell_type": "code",
   "execution_count": 8,
   "metadata": {},
   "outputs": [
    {
     "name": "stdout",
     "output_type": "stream",
     "text": [
      "<class 'pandas.core.frame.DataFrame'>\n",
      "Int64Index: 91690 entries, 0 to 58920\n",
      "Data columns (total 22 columns):\n",
      "RESOURCE                          91690 non-null object\n",
      "MGR_ID                            91690 non-null object\n",
      "ROLE_DEPTNAME                     91690 non-null object\n",
      "ROLE_FAMILY_DESC                  91690 non-null object\n",
      "ROLE_CODE                         91690 non-null object\n",
      "target                            32769 non-null float64\n",
      "ROLLUP_12                         91690 non-null object\n",
      "RESOURCE_MGR_ID                   91690 non-null object\n",
      "RESOURCE_ROLE_DEPTNAME            91690 non-null object\n",
      "RESOURCE_ROLE_FAMILY_DESC         91690 non-null object\n",
      "RESOURCE_ROLE_CODE                91690 non-null object\n",
      "RESOURCE_ROLLUP_12                91690 non-null object\n",
      "MGR_ID_ROLE_DEPTNAME              91690 non-null object\n",
      "MGR_ID_ROLE_FAMILY_DESC           91690 non-null object\n",
      "MGR_ID_ROLE_CODE                  91690 non-null object\n",
      "MGR_ID_ROLLUP_12                  91690 non-null object\n",
      "ROLE_DEPTNAME_ROLE_FAMILY_DESC    91690 non-null object\n",
      "ROLE_DEPTNAME_ROLE_CODE           91690 non-null object\n",
      "ROLE_DEPTNAME_ROLLUP_12           91690 non-null object\n",
      "ROLE_FAMILY_DESC_ROLE_CODE        91690 non-null object\n",
      "ROLE_FAMILY_DESC_ROLLUP_12        91690 non-null object\n",
      "ROLE_CODE_ROLLUP_12               91690 non-null object\n",
      "dtypes: float64(1), object(21)\n",
      "memory usage: 16.1+ MB\n"
     ]
    }
   ],
   "source": [
    "from itertools import combinations\n",
    "\n",
    "cols=list(df1.columns)\n",
    "cols.remove('target')\n",
    "d=df1.copy()\n",
    "\n",
    "for j in combinations(cols,2):\n",
    "    d[j[0]+'_'+j[1]]=df1[j[0]]+df1[j[1]]\n",
    "    \n",
    "d.info()"
   ]
  },
  {
   "cell_type": "markdown",
   "metadata": {},
   "source": [
    "# AST encoding with LR"
   ]
  },
  {
   "cell_type": "code",
   "execution_count": 9,
   "metadata": {},
   "outputs": [],
   "source": [
    "def AST_encoding(train,test,columns,target,weight):\n",
    "    tr=train.copy()\n",
    "    v=test.copy()\n",
    "    columns=list(columns)\n",
    "   \n",
    "    gm=tr[target].mean()\n",
    "    for col in columns:\n",
    "        gb=tr.groupby(col)[target].agg(['count','mean'])\n",
    "        count=gb['count']\n",
    "        mean=gb['mean']\n",
    "        gb['smooth']=(count*mean + weight*gm)/(count+weight)\n",
    "        tr[col+'_enc']=tr[col].map(gb['smooth'])\n",
    "        \n",
    "        v[col+'_enc']=v[col].map(gb['smooth'])\n",
    "        v[col+'_enc']=v[col+'_enc'].fillna(gm)\n",
    "    v=v.drop(columns,axis=1)\n",
    "    tr=tr.drop(columns,axis=1)\n",
    "    return tr,v"
   ]
  },
  {
   "cell_type": "code",
   "execution_count": 10,
   "metadata": {},
   "outputs": [],
   "source": [
    "def aucroc(mod,x,y):\n",
    "    pred=mod.predict(x)\n",
    "    prob=mod.predict_proba(x)[:,1]\n",
    "    auc=roc_auc_score(y,prob)\n",
    "    acc=balanced_accuracy_score(y,pred)\n",
    "    f1=f1_score(y,pred)\n",
    "    return auc,acc,f1\n",
    "    #print('AUC_ROC= ',auc)\n",
    "    #print('Accuracy= ',acc)\n",
    "    #print('confusion matrix:\\n',confusion_matrix(y,pred))"
   ]
  },
  {
   "cell_type": "code",
   "execution_count": 11,
   "metadata": {},
   "outputs": [],
   "source": [
    "from lightgbm import LGBMClassifier\n",
    "from sklearn.metrics import *\n",
    "from sklearn.model_selection import train_test_split,RandomizedSearchCV,StratifiedKFold\n",
    "from sklearn.linear_model import LogisticRegression\n",
    "\n"
   ]
  },
  {
   "cell_type": "code",
   "execution_count": 12,
   "metadata": {},
   "outputs": [],
   "source": [
    "rem=['RESOURCE_ROLE_CODE', 'ROLE_FAMILY_DESC_ROLLUP_12', 'MGR_ID', 'ROLE_DEPTNAME_ROLE_FAMILY_DESC',\n",
    "     'MGR_ID_ROLLUP_12', 'RESOURCE_ROLE_FAMILY_DESC', 'ROLE_DEPTNAME_ROLE_CODE', 'MGR_ID_ROLE_DEPTNAME',\n",
    "     'ROLE_FAMILY_DESC', 'ROLE_CODE_ROLLUP_12', 'ROLE_DEPTNAME', 'ROLE_DEPTNAME_ROLLUP_12', 'ROLLUP_12']\n",
    "d1=d.drop(rem,axis=1)"
   ]
  },
  {
   "cell_type": "code",
   "execution_count": 13,
   "metadata": {},
   "outputs": [
    {
     "name": "stdout",
     "output_type": "stream",
     "text": [
      "<class 'pandas.core.frame.DataFrame'>\n",
      "Int64Index: 91690 entries, 0 to 58920\n",
      "Data columns (total 9 columns):\n",
      "RESOURCE                      91690 non-null object\n",
      "ROLE_CODE                     91690 non-null object\n",
      "target                        32769 non-null float64\n",
      "RESOURCE_MGR_ID               91690 non-null object\n",
      "RESOURCE_ROLE_DEPTNAME        91690 non-null object\n",
      "RESOURCE_ROLLUP_12            91690 non-null object\n",
      "MGR_ID_ROLE_FAMILY_DESC       91690 non-null object\n",
      "MGR_ID_ROLE_CODE              91690 non-null object\n",
      "ROLE_FAMILY_DESC_ROLE_CODE    91690 non-null object\n",
      "dtypes: float64(1), object(8)\n",
      "memory usage: 7.0+ MB\n"
     ]
    }
   ],
   "source": [
    "d1.info()"
   ]
  },
  {
   "cell_type": "code",
   "execution_count": 14,
   "metadata": {},
   "outputs": [
    {
     "data": {
      "text/plain": [
       "(58921, 8)"
      ]
     },
     "execution_count": 14,
     "metadata": {},
     "output_type": "execute_result"
    }
   ],
   "source": [
    "train=d1[d1.target.isnull()==False]\n",
    "test=d1[d1.target.isnull()==True].drop('target',axis=1)\n",
    "test.shape"
   ]
  },
  {
   "cell_type": "code",
   "execution_count": null,
   "metadata": {},
   "outputs": [],
   "source": []
  },
  {
   "cell_type": "code",
   "execution_count": 15,
   "metadata": {},
   "outputs": [],
   "source": [
    "t,v=AST_encoding(train,test,test.columns,'target',20)\n",
    "\n",
    "x=t.drop('target',axis=1)\n",
    "y=t['target']\n",
    "lr=LogisticRegression(max_iter=10e7)\n",
    "mod=lr.fit(x,y)\n",
    "prob=mod.predict_proba(v)[:,1]\n",
    "pred=mod.predict(v)\n",
    "results=pd.DataFrame({'Action':prob},index=test_id)\n",
    "results.to_csv('lr_1.2.csv')"
   ]
  },
  {
   "cell_type": "code",
   "execution_count": 16,
   "metadata": {},
   "outputs": [],
   "source": [
    "results1=pd.DataFrame({'Action':pred},index=test_id)\n",
    "#results.to_csv('lr_1.1.csv')   ##### 0.88875 AUC"
   ]
  },
  {
   "cell_type": "code",
   "execution_count": 17,
   "metadata": {},
   "outputs": [
    {
     "data": {
      "text/plain": [
       "1.0    57951\n",
       "0.0      970\n",
       "Name: Action, dtype: int64"
      ]
     },
     "execution_count": 17,
     "metadata": {},
     "output_type": "execute_result"
    }
   ],
   "source": [
    "results1['Action'].value_counts()"
   ]
  },
  {
   "cell_type": "markdown",
   "metadata": {},
   "source": [
    "# Kfold AST encoding with Boosting"
   ]
  },
  {
   "cell_type": "code",
   "execution_count": 18,
   "metadata": {},
   "outputs": [],
   "source": [
    "from category_encoders.target_encoder import TargetEncoder\n",
    "from category_encoders.utils import *\n",
    "from sklearn.model_selection import train_test_split,cross_val_score,RandomizedSearchCV,StratifiedKFold,KFold\n",
    "from sklearn.metrics import *\n",
    "\n",
    "\n",
    "def kfold_AS_target(train,test,columns,target,weight,folds=10):\n",
    "    \n",
    "    columns=list(columns)\n",
    "    kf=KFold()\n",
    "    t=train\n",
    "    v=test\n",
    "    gm=t[target].mean()\n",
    "    for col in columns:\n",
    "        \n",
    "        for i,j in kf.split(t):\n",
    "            gb=t.loc[t.index[i]].groupby(col)[target].agg(['count','mean'])\n",
    "            count=gb['count']\n",
    "            mean=gb['mean']\n",
    "            gb['smooth']=(count*mean + weight*gm)/(count+weight)\n",
    "            t.loc[t.index[j],col+'_enc']=t.loc[t.index[j],col].map(gb['smooth'])\n",
    "            \n",
    "        t[col+'_enc']=t[col+'_enc'].fillna(gm)\n",
    "        \n",
    "        gb=t.groupby(col)[target].agg(['count','mean'])\n",
    "        count=gb['count']\n",
    "        mean=gb['mean']\n",
    "        gb['smooth']=(count*mean + weight*gm)/(count+weight)\n",
    "        \n",
    "        v[col+'_enc']=v[col].map(gb['smooth'])\n",
    "        v[col+'_enc']=v[col+'_enc'].fillna(gm)\n",
    "        \n",
    "    t=t.drop(columns,axis=1)\n",
    "    v=v.drop(columns,axis=1)\n",
    "\n",
    "    return t,v\n",
    "        "
   ]
  },
  {
   "cell_type": "code",
   "execution_count": 19,
   "metadata": {},
   "outputs": [],
   "source": [
    "def aucroc(mod,x,y):\n",
    "    pred=mod.predict(x)\n",
    "    prob=mod.predict_proba(x)[:,1]\n",
    "    auc=roc_auc_score(y,prob)\n",
    "    acc=accuracy_score(y,pred)\n",
    "    return auc"
   ]
  },
  {
   "cell_type": "code",
   "execution_count": 20,
   "metadata": {},
   "outputs": [
    {
     "name": "stderr",
     "output_type": "stream",
     "text": [
      "C:\\ProgramData\\Anaconda3\\lib\\site-packages\\pandas\\core\\indexing.py:376: SettingWithCopyWarning: \n",
      "A value is trying to be set on a copy of a slice from a DataFrame.\n",
      "Try using .loc[row_indexer,col_indexer] = value instead\n",
      "\n",
      "See the caveats in the documentation: http://pandas.pydata.org/pandas-docs/stable/user_guide/indexing.html#returning-a-view-versus-a-copy\n",
      "  self.obj[key] = _infer_fill_value(value)\n",
      "C:\\ProgramData\\Anaconda3\\lib\\site-packages\\pandas\\core\\indexing.py:494: SettingWithCopyWarning: \n",
      "A value is trying to be set on a copy of a slice from a DataFrame.\n",
      "Try using .loc[row_indexer,col_indexer] = value instead\n",
      "\n",
      "See the caveats in the documentation: http://pandas.pydata.org/pandas-docs/stable/user_guide/indexing.html#returning-a-view-versus-a-copy\n",
      "  self.obj[item] = s\n",
      "C:\\ProgramData\\Anaconda3\\lib\\site-packages\\ipykernel_launcher.py:23: SettingWithCopyWarning: \n",
      "A value is trying to be set on a copy of a slice from a DataFrame.\n",
      "Try using .loc[row_indexer,col_indexer] = value instead\n",
      "\n",
      "See the caveats in the documentation: http://pandas.pydata.org/pandas-docs/stable/user_guide/indexing.html#returning-a-view-versus-a-copy\n"
     ]
    }
   ],
   "source": [
    "\n",
    "train=d[d.target.isnull()==False]\n",
    "test=d[d.target.isnull()==True].drop('target',axis=1)\n",
    "columns=list(train.columns)\n",
    "columns.remove('target')\n",
    "target='target'\n",
    "t,v=kfold_AS_target(train,test,columns,target,100)"
   ]
  },
  {
   "cell_type": "code",
   "execution_count": 21,
   "metadata": {},
   "outputs": [
    {
     "name": "stdout",
     "output_type": "stream",
     "text": [
      "<class 'pandas.core.frame.DataFrame'>\n",
      "Int64Index: 91690 entries, 0 to 58920\n",
      "Data columns (total 22 columns):\n",
      "RESOURCE                          91690 non-null object\n",
      "MGR_ID                            91690 non-null object\n",
      "ROLE_DEPTNAME                     91690 non-null object\n",
      "ROLE_FAMILY_DESC                  91690 non-null object\n",
      "ROLE_CODE                         91690 non-null object\n",
      "target                            32769 non-null float64\n",
      "ROLLUP_12                         91690 non-null object\n",
      "RESOURCE_MGR_ID                   91690 non-null object\n",
      "RESOURCE_ROLE_DEPTNAME            91690 non-null object\n",
      "RESOURCE_ROLE_FAMILY_DESC         91690 non-null object\n",
      "RESOURCE_ROLE_CODE                91690 non-null object\n",
      "RESOURCE_ROLLUP_12                91690 non-null object\n",
      "MGR_ID_ROLE_DEPTNAME              91690 non-null object\n",
      "MGR_ID_ROLE_FAMILY_DESC           91690 non-null object\n",
      "MGR_ID_ROLE_CODE                  91690 non-null object\n",
      "MGR_ID_ROLLUP_12                  91690 non-null object\n",
      "ROLE_DEPTNAME_ROLE_FAMILY_DESC    91690 non-null object\n",
      "ROLE_DEPTNAME_ROLE_CODE           91690 non-null object\n",
      "ROLE_DEPTNAME_ROLLUP_12           91690 non-null object\n",
      "ROLE_FAMILY_DESC_ROLE_CODE        91690 non-null object\n",
      "ROLE_FAMILY_DESC_ROLLUP_12        91690 non-null object\n",
      "ROLE_CODE_ROLLUP_12               91690 non-null object\n",
      "dtypes: float64(1), object(21)\n",
      "memory usage: 16.1+ MB\n"
     ]
    }
   ],
   "source": [
    "#d.info()"
   ]
  },
  {
   "cell_type": "code",
   "execution_count": 22,
   "metadata": {},
   "outputs": [],
   "source": [
    "rem=['ROLE_FAMILY_DESC_enc', 'ROLE_DEPTNAME_ROLLUP_12_enc', 'ROLE_FAMILY_DESC_ROLE_CODE_enc', 'MGR_ID_ROLE_FAMILY_DESC_enc']\n",
    "\n",
    "xtr=t.drop([target]+rem,axis=1)\n",
    "ytr=t[target]\n",
    "xts=v.drop(rem,axis=1)\n"
   ]
  },
  {
   "cell_type": "code",
   "execution_count": 23,
   "metadata": {},
   "outputs": [],
   "source": [
    "def aucroc1(mod,x,y):\n",
    "    pred=mod.predict(x)\n",
    "    prob=mod.predict_proba(x)[:,1]\n",
    "    auc=roc_auc_score(y,prob)\n",
    "    acc=accuracy_score(y,pred)\n",
    "    print('AUC=',auc)\n",
    "    print('Accuracy=',acc)\n",
    "    print('Confusion matrix:\\n',confusion_matrix(y,pred))\n",
    "    print('Classification report:\\n',classification_report(y,pred))"
   ]
  },
  {
   "cell_type": "code",
   "execution_count": 28,
   "metadata": {},
   "outputs": [],
   "source": [
    "lgb=LGBMClassifier()\n",
    "mod=lgb.fit(xtr,ytr)\n",
    "prob1=mod.predict_proba(xts)[:,1]\n",
    "pred1=mod.predict(xts)\n",
    "results2=pd.DataFrame({'Action':prob1},index=test_id)\n",
    "###results2.to_csv('lgb_2.csv')           ### 0.89908 AUC"
   ]
  },
  {
   "cell_type": "code",
   "execution_count": 29,
   "metadata": {},
   "outputs": [
    {
     "name": "stdout",
     "output_type": "stream",
     "text": [
      "Collecting catboost\n",
      "  Downloading https://files.pythonhosted.org/packages/fe/31/68d928753994cbc8b06af43b7d581899c806b365d125d706f06767bee340/catboost-0.23.1-cp37-none-win_amd64.whl (63.6MB)\n",
      "Requirement already satisfied: scipy in c:\\programdata\\anaconda3\\lib\\site-packages (from catboost) (1.3.1)\n",
      "Requirement already satisfied: numpy>=1.16.0 in c:\\programdata\\anaconda3\\lib\\site-packages (from catboost) (1.16.5)\n",
      "Requirement already satisfied: matplotlib in c:\\programdata\\anaconda3\\lib\\site-packages (from catboost) (3.1.1)\n",
      "Requirement already satisfied: pandas>=0.24.0 in c:\\programdata\\anaconda3\\lib\\site-packages (from catboost) (0.25.1)\n",
      "Collecting plotly (from catboost)\n",
      "  Downloading https://files.pythonhosted.org/packages/d7/78/eb6cbe96c8379c54819592bb228c58ed7386fcc60a55eca7db99432fdf14/plotly-4.7.1-py2.py3-none-any.whl (11.5MB)\n",
      "Requirement already satisfied: six in c:\\programdata\\anaconda3\\lib\\site-packages (from catboost) (1.12.0)\n",
      "Requirement already satisfied: graphviz in c:\\users\\shashi katteri\\appdata\\roaming\\python\\python37\\site-packages (from catboost) (0.13.2)\n",
      "Requirement already satisfied: cycler>=0.10 in c:\\programdata\\anaconda3\\lib\\site-packages (from matplotlib->catboost) (0.10.0)\n",
      "Requirement already satisfied: kiwisolver>=1.0.1 in c:\\programdata\\anaconda3\\lib\\site-packages (from matplotlib->catboost) (1.1.0)\n",
      "Requirement already satisfied: pyparsing!=2.0.4,!=2.1.2,!=2.1.6,>=2.0.1 in c:\\programdata\\anaconda3\\lib\\site-packages (from matplotlib->catboost) (2.4.2)\n",
      "Requirement already satisfied: python-dateutil>=2.1 in c:\\programdata\\anaconda3\\lib\\site-packages (from matplotlib->catboost) (2.8.0)\n",
      "Requirement already satisfied: pytz>=2017.2 in c:\\programdata\\anaconda3\\lib\\site-packages (from pandas>=0.24.0->catboost) (2019.3)\n",
      "Collecting retrying>=1.3.3 (from plotly->catboost)\n",
      "  Downloading https://files.pythonhosted.org/packages/44/ef/beae4b4ef80902f22e3af073397f079c96969c69b2c7d52a57ea9ae61c9d/retrying-1.3.3.tar.gz\n",
      "Requirement already satisfied: setuptools in c:\\programdata\\anaconda3\\lib\\site-packages (from kiwisolver>=1.0.1->matplotlib->catboost) (41.4.0)\n",
      "Building wheels for collected packages: retrying\n",
      "  Building wheel for retrying (setup.py): started\n",
      "  Building wheel for retrying (setup.py): finished with status 'done'\n",
      "  Created wheel for retrying: filename=retrying-1.3.3-cp37-none-any.whl size=11435 sha256=aa2bf2b00fd1e17f892fdcad3116d5c195bbc841d6bf8a19f545c02efef2e6e1\n",
      "  Stored in directory: C:\\Users\\Shashi Katteri\\AppData\\Local\\pip\\Cache\\wheels\\d7\\a9\\33\\acc7b709e2a35caa7d4cae442f6fe6fbf2c43f80823d46460c\n",
      "Successfully built retrying\n",
      "Installing collected packages: retrying, plotly, catboost\n",
      "Successfully installed catboost-0.23.1 plotly-4.7.1 retrying-1.3.3\n",
      "Note: you may need to restart the kernel to use updated packages.\n"
     ]
    }
   ],
   "source": [
    "pip install catboost"
   ]
  },
  {
   "cell_type": "code",
   "execution_count": null,
   "metadata": {},
   "outputs": [],
   "source": []
  }
 ],
 "metadata": {
  "kernelspec": {
   "display_name": "Python 3",
   "language": "python",
   "name": "python3"
  },
  "language_info": {
   "codemirror_mode": {
    "name": "ipython",
    "version": 3
   },
   "file_extension": ".py",
   "mimetype": "text/x-python",
   "name": "python",
   "nbconvert_exporter": "python",
   "pygments_lexer": "ipython3",
   "version": "3.7.4"
  }
 },
 "nbformat": 4,
 "nbformat_minor": 2
}
