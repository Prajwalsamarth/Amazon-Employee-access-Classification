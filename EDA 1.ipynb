{
 "cells": [
  {
   "cell_type": "code",
   "execution_count": 1,
   "metadata": {},
   "outputs": [],
   "source": [
    "import numpy as np\n",
    "import pandas as pd \n",
    "import matplotlib.pyplot as plt\n",
    "import seaborn as sns \n",
    "import scipy.stats as st \n",
    "from tqdm import tqdm \n",
    "import os\n",
    "os.chdir('D:\\Shashi Katteri\\Desktop\\data sets to work on\\Amazon Employee Access\\Dataset_10')"
   ]
  },
  {
   "cell_type": "code",
   "execution_count": 2,
   "metadata": {},
   "outputs": [
    {
     "data": {
      "text/html": [
       "<div>\n",
       "<style scoped>\n",
       "    .dataframe tbody tr th:only-of-type {\n",
       "        vertical-align: middle;\n",
       "    }\n",
       "\n",
       "    .dataframe tbody tr th {\n",
       "        vertical-align: top;\n",
       "    }\n",
       "\n",
       "    .dataframe thead th {\n",
       "        text-align: right;\n",
       "    }\n",
       "</style>\n",
       "<table border=\"1\" class=\"dataframe\">\n",
       "  <thead>\n",
       "    <tr style=\"text-align: right;\">\n",
       "      <th></th>\n",
       "      <th>RESOURCE</th>\n",
       "      <th>MGR_ID</th>\n",
       "      <th>ROLE_ROLLUP_1</th>\n",
       "      <th>ROLE_ROLLUP_2</th>\n",
       "      <th>ROLE_DEPTNAME</th>\n",
       "      <th>ROLE_TITLE</th>\n",
       "      <th>ROLE_FAMILY_DESC</th>\n",
       "      <th>ROLE_FAMILY</th>\n",
       "      <th>ROLE_CODE</th>\n",
       "      <th>target</th>\n",
       "    </tr>\n",
       "  </thead>\n",
       "  <tbody>\n",
       "    <tr>\n",
       "      <td>0</td>\n",
       "      <td>39353</td>\n",
       "      <td>85475</td>\n",
       "      <td>117961</td>\n",
       "      <td>118300</td>\n",
       "      <td>123472</td>\n",
       "      <td>117905</td>\n",
       "      <td>117906</td>\n",
       "      <td>290919</td>\n",
       "      <td>117908</td>\n",
       "      <td>1</td>\n",
       "    </tr>\n",
       "    <tr>\n",
       "      <td>1</td>\n",
       "      <td>17183</td>\n",
       "      <td>1540</td>\n",
       "      <td>117961</td>\n",
       "      <td>118343</td>\n",
       "      <td>123125</td>\n",
       "      <td>118536</td>\n",
       "      <td>118536</td>\n",
       "      <td>308574</td>\n",
       "      <td>118539</td>\n",
       "      <td>1</td>\n",
       "    </tr>\n",
       "    <tr>\n",
       "      <td>2</td>\n",
       "      <td>36724</td>\n",
       "      <td>14457</td>\n",
       "      <td>118219</td>\n",
       "      <td>118220</td>\n",
       "      <td>117884</td>\n",
       "      <td>117879</td>\n",
       "      <td>267952</td>\n",
       "      <td>19721</td>\n",
       "      <td>117880</td>\n",
       "      <td>1</td>\n",
       "    </tr>\n",
       "    <tr>\n",
       "      <td>3</td>\n",
       "      <td>36135</td>\n",
       "      <td>5396</td>\n",
       "      <td>117961</td>\n",
       "      <td>118343</td>\n",
       "      <td>119993</td>\n",
       "      <td>118321</td>\n",
       "      <td>240983</td>\n",
       "      <td>290919</td>\n",
       "      <td>118322</td>\n",
       "      <td>1</td>\n",
       "    </tr>\n",
       "    <tr>\n",
       "      <td>4</td>\n",
       "      <td>42680</td>\n",
       "      <td>5905</td>\n",
       "      <td>117929</td>\n",
       "      <td>117930</td>\n",
       "      <td>119569</td>\n",
       "      <td>119323</td>\n",
       "      <td>123932</td>\n",
       "      <td>19793</td>\n",
       "      <td>119325</td>\n",
       "      <td>1</td>\n",
       "    </tr>\n",
       "  </tbody>\n",
       "</table>\n",
       "</div>"
      ],
      "text/plain": [
       "   RESOURCE  MGR_ID  ROLE_ROLLUP_1  ROLE_ROLLUP_2  ROLE_DEPTNAME  ROLE_TITLE  \\\n",
       "0     39353   85475         117961         118300         123472      117905   \n",
       "1     17183    1540         117961         118343         123125      118536   \n",
       "2     36724   14457         118219         118220         117884      117879   \n",
       "3     36135    5396         117961         118343         119993      118321   \n",
       "4     42680    5905         117929         117930         119569      119323   \n",
       "\n",
       "   ROLE_FAMILY_DESC  ROLE_FAMILY  ROLE_CODE  target  \n",
       "0            117906       290919     117908       1  \n",
       "1            118536       308574     118539       1  \n",
       "2            267952        19721     117880       1  \n",
       "3            240983       290919     118322       1  \n",
       "4            123932        19793     119325       1  "
      ]
     },
     "execution_count": 2,
     "metadata": {},
     "output_type": "execute_result"
    }
   ],
   "source": [
    "df=pd.read_csv('Amazon_employee_access.csv')\n",
    "df.head()"
   ]
  },
  {
   "cell_type": "code",
   "execution_count": 3,
   "metadata": {},
   "outputs": [],
   "source": [
    "df1=df.astype(str)\n",
    "df1['target']=df1['target'].astype(int)"
   ]
  },
  {
   "cell_type": "code",
   "execution_count": 4,
   "metadata": {},
   "outputs": [
    {
     "name": "stdout",
     "output_type": "stream",
     "text": [
      "<class 'pandas.core.frame.DataFrame'>\n",
      "RangeIndex: 32769 entries, 0 to 32768\n",
      "Data columns (total 10 columns):\n",
      "RESOURCE            32769 non-null object\n",
      "MGR_ID              32769 non-null object\n",
      "ROLE_ROLLUP_1       32769 non-null object\n",
      "ROLE_ROLLUP_2       32769 non-null object\n",
      "ROLE_DEPTNAME       32769 non-null object\n",
      "ROLE_TITLE          32769 non-null object\n",
      "ROLE_FAMILY_DESC    32769 non-null object\n",
      "ROLE_FAMILY         32769 non-null object\n",
      "ROLE_CODE           32769 non-null object\n",
      "target              32769 non-null int32\n",
      "dtypes: int32(1), object(9)\n",
      "memory usage: 2.4+ MB\n"
     ]
    }
   ],
   "source": [
    "df1.info()"
   ]
  },
  {
   "cell_type": "code",
   "execution_count": 5,
   "metadata": {},
   "outputs": [
    {
     "data": {
      "text/html": [
       "<div>\n",
       "<style scoped>\n",
       "    .dataframe tbody tr th:only-of-type {\n",
       "        vertical-align: middle;\n",
       "    }\n",
       "\n",
       "    .dataframe tbody tr th {\n",
       "        vertical-align: top;\n",
       "    }\n",
       "\n",
       "    .dataframe thead th {\n",
       "        text-align: right;\n",
       "    }\n",
       "</style>\n",
       "<table border=\"1\" class=\"dataframe\">\n",
       "  <thead>\n",
       "    <tr style=\"text-align: right;\">\n",
       "      <th></th>\n",
       "      <th>RESOURCE</th>\n",
       "      <th>MGR_ID</th>\n",
       "      <th>ROLE_ROLLUP_1</th>\n",
       "      <th>ROLE_ROLLUP_2</th>\n",
       "      <th>ROLE_DEPTNAME</th>\n",
       "      <th>ROLE_TITLE</th>\n",
       "      <th>ROLE_FAMILY_DESC</th>\n",
       "      <th>ROLE_FAMILY</th>\n",
       "      <th>ROLE_CODE</th>\n",
       "    </tr>\n",
       "  </thead>\n",
       "  <tbody>\n",
       "    <tr>\n",
       "      <td>count</td>\n",
       "      <td>32769</td>\n",
       "      <td>32769</td>\n",
       "      <td>32769</td>\n",
       "      <td>32769</td>\n",
       "      <td>32769</td>\n",
       "      <td>32769</td>\n",
       "      <td>32769</td>\n",
       "      <td>32769</td>\n",
       "      <td>32769</td>\n",
       "    </tr>\n",
       "    <tr>\n",
       "      <td>unique</td>\n",
       "      <td>7518</td>\n",
       "      <td>4243</td>\n",
       "      <td>128</td>\n",
       "      <td>177</td>\n",
       "      <td>449</td>\n",
       "      <td>343</td>\n",
       "      <td>2358</td>\n",
       "      <td>67</td>\n",
       "      <td>343</td>\n",
       "    </tr>\n",
       "    <tr>\n",
       "      <td>top</td>\n",
       "      <td>4675</td>\n",
       "      <td>770</td>\n",
       "      <td>117961</td>\n",
       "      <td>118300</td>\n",
       "      <td>117878</td>\n",
       "      <td>118321</td>\n",
       "      <td>117906</td>\n",
       "      <td>290919</td>\n",
       "      <td>118322</td>\n",
       "    </tr>\n",
       "    <tr>\n",
       "      <td>freq</td>\n",
       "      <td>839</td>\n",
       "      <td>152</td>\n",
       "      <td>21407</td>\n",
       "      <td>4424</td>\n",
       "      <td>1135</td>\n",
       "      <td>4649</td>\n",
       "      <td>6896</td>\n",
       "      <td>10980</td>\n",
       "      <td>4649</td>\n",
       "    </tr>\n",
       "  </tbody>\n",
       "</table>\n",
       "</div>"
      ],
      "text/plain": [
       "       RESOURCE MGR_ID ROLE_ROLLUP_1 ROLE_ROLLUP_2 ROLE_DEPTNAME ROLE_TITLE  \\\n",
       "count     32769  32769         32769         32769         32769      32769   \n",
       "unique     7518   4243           128           177           449        343   \n",
       "top        4675    770        117961        118300        117878     118321   \n",
       "freq        839    152         21407          4424          1135       4649   \n",
       "\n",
       "       ROLE_FAMILY_DESC ROLE_FAMILY ROLE_CODE  \n",
       "count             32769       32769     32769  \n",
       "unique             2358          67       343  \n",
       "top              117906      290919    118322  \n",
       "freq               6896       10980      4649  "
      ]
     },
     "execution_count": 5,
     "metadata": {},
     "output_type": "execute_result"
    }
   ],
   "source": [
    "df1.describe(include='object')"
   ]
  },
  {
   "cell_type": "code",
   "execution_count": 6,
   "metadata": {},
   "outputs": [
    {
     "name": "stdout",
     "output_type": "stream",
     "text": [
      "ROLE_CODE ,  ROLE_TITLE\n"
     ]
    }
   ],
   "source": [
    "feat=list(df1.columns)\n",
    "feat.remove('target')\n",
    "for i in feat:\n",
    "    for j in feat:\n",
    "        if (i!=j) and all(df1[i]==df1[j]):\n",
    "            print (i,', ',j)\n",
    "        elif (i!=j) and len(df1.groupby(i).size())==len(df1.groupby(j).size()):\n",
    "            print (i,', ',j)\n",
    "    feat.remove(i)\n",
    "    \n",
    "    \n",
    "    \n",
    "    \n"
   ]
  },
  {
   "cell_type": "code",
   "execution_count": 7,
   "metadata": {},
   "outputs": [
    {
     "data": {
      "text/plain": [
       "True"
      ]
     },
     "execution_count": 7,
     "metadata": {},
     "output_type": "execute_result"
    }
   ],
   "source": [
    "len(df1.groupby(['ROLE_CODE','ROLE_TITLE']))==len(df1.groupby('ROLE_TITLE'))"
   ]
  },
  {
   "cell_type": "markdown",
   "metadata": {},
   "source": [
    "This means Role code and role title columns probably contain the same information. So we can drop one of them. Here we will drop Role title"
   ]
  },
  {
   "cell_type": "code",
   "execution_count": 8,
   "metadata": {},
   "outputs": [],
   "source": [
    "df1=df1.drop('ROLE_TITLE',axis=1)"
   ]
  },
  {
   "cell_type": "code",
   "execution_count": 9,
   "metadata": {},
   "outputs": [
    {
     "name": "stderr",
     "output_type": "stream",
     "text": [
      " 78%|███████▊  | 7/9 [01:15<00:21, 10.58s/it]"
     ]
    },
    {
     "name": "stdout",
     "output_type": "stream",
     "text": [
      "('ROLE_FAMILY', 'ROLE_CODE') --> ROLE_CODE\n"
     ]
    },
    {
     "name": "stderr",
     "output_type": "stream",
     "text": [
      "100%|██████████| 9/9 [01:35<00:00, 10.57s/it]\n"
     ]
    }
   ],
   "source": [
    "from itertools import combinations\n",
    "\n",
    "feat=list(df1.columns)\n",
    "for i in tqdm(feat):\n",
    "    for j in range(2,len(feat)):\n",
    "        for k in (combinations(feat,j)):\n",
    "            if len(df1.groupby(list(k)).size())==len(df1.groupby(i).size()):\n",
    "                print(k,'-->',i)"
   ]
  },
  {
   "cell_type": "markdown",
   "metadata": {},
   "source": [
    "From here we can conclude that the data captured by role family is captured by role code. This means when we have role code column role family becomes redundant"
   ]
  },
  {
   "cell_type": "code",
   "execution_count": 10,
   "metadata": {},
   "outputs": [],
   "source": [
    "df1=df1.drop('ROLE_FAMILY',axis=1)"
   ]
  },
  {
   "cell_type": "code",
   "execution_count": 11,
   "metadata": {},
   "outputs": [
    {
     "data": {
      "text/html": [
       "<div>\n",
       "<style scoped>\n",
       "    .dataframe tbody tr th:only-of-type {\n",
       "        vertical-align: middle;\n",
       "    }\n",
       "\n",
       "    .dataframe tbody tr th {\n",
       "        vertical-align: top;\n",
       "    }\n",
       "\n",
       "    .dataframe thead th {\n",
       "        text-align: right;\n",
       "    }\n",
       "</style>\n",
       "<table border=\"1\" class=\"dataframe\">\n",
       "  <thead>\n",
       "    <tr style=\"text-align: right;\">\n",
       "      <th></th>\n",
       "      <th>RESOURCE</th>\n",
       "      <th>MGR_ID</th>\n",
       "      <th>ROLE_ROLLUP_1</th>\n",
       "      <th>ROLE_ROLLUP_2</th>\n",
       "      <th>ROLE_DEPTNAME</th>\n",
       "      <th>ROLE_FAMILY_DESC</th>\n",
       "      <th>ROLE_CODE</th>\n",
       "    </tr>\n",
       "  </thead>\n",
       "  <tbody>\n",
       "    <tr>\n",
       "      <td>count</td>\n",
       "      <td>32769</td>\n",
       "      <td>32769</td>\n",
       "      <td>32769</td>\n",
       "      <td>32769</td>\n",
       "      <td>32769</td>\n",
       "      <td>32769</td>\n",
       "      <td>32769</td>\n",
       "    </tr>\n",
       "    <tr>\n",
       "      <td>unique</td>\n",
       "      <td>7518</td>\n",
       "      <td>4243</td>\n",
       "      <td>128</td>\n",
       "      <td>177</td>\n",
       "      <td>449</td>\n",
       "      <td>2358</td>\n",
       "      <td>343</td>\n",
       "    </tr>\n",
       "    <tr>\n",
       "      <td>top</td>\n",
       "      <td>4675</td>\n",
       "      <td>770</td>\n",
       "      <td>117961</td>\n",
       "      <td>118300</td>\n",
       "      <td>117878</td>\n",
       "      <td>117906</td>\n",
       "      <td>118322</td>\n",
       "    </tr>\n",
       "    <tr>\n",
       "      <td>freq</td>\n",
       "      <td>839</td>\n",
       "      <td>152</td>\n",
       "      <td>21407</td>\n",
       "      <td>4424</td>\n",
       "      <td>1135</td>\n",
       "      <td>6896</td>\n",
       "      <td>4649</td>\n",
       "    </tr>\n",
       "  </tbody>\n",
       "</table>\n",
       "</div>"
      ],
      "text/plain": [
       "       RESOURCE MGR_ID ROLE_ROLLUP_1 ROLE_ROLLUP_2 ROLE_DEPTNAME  \\\n",
       "count     32769  32769         32769         32769         32769   \n",
       "unique     7518   4243           128           177           449   \n",
       "top        4675    770        117961        118300        117878   \n",
       "freq        839    152         21407          4424          1135   \n",
       "\n",
       "       ROLE_FAMILY_DESC ROLE_CODE  \n",
       "count             32769     32769  \n",
       "unique             2358       343  \n",
       "top              117906    118322  \n",
       "freq               6896      4649  "
      ]
     },
     "execution_count": 11,
     "metadata": {},
     "output_type": "execute_result"
    }
   ],
   "source": [
    "df1.describe(include='object')"
   ]
  },
  {
   "cell_type": "markdown",
   "metadata": {},
   "source": [
    "## Univariate Analysis"
   ]
  },
  {
   "cell_type": "markdown",
   "metadata": {},
   "source": [
    "### RESOURCE"
   ]
  },
  {
   "cell_type": "code",
   "execution_count": 12,
   "metadata": {},
   "outputs": [
    {
     "data": {
      "text/html": [
       "<div>\n",
       "<style scoped>\n",
       "    .dataframe tbody tr th:only-of-type {\n",
       "        vertical-align: middle;\n",
       "    }\n",
       "\n",
       "    .dataframe tbody tr th {\n",
       "        vertical-align: top;\n",
       "    }\n",
       "\n",
       "    .dataframe thead th {\n",
       "        text-align: right;\n",
       "    }\n",
       "</style>\n",
       "<table border=\"1\" class=\"dataframe\">\n",
       "  <thead>\n",
       "    <tr style=\"text-align: right;\">\n",
       "      <th></th>\n",
       "      <th>RESOURCE</th>\n",
       "      <th>MGR_ID</th>\n",
       "      <th>ROLE_ROLLUP_1</th>\n",
       "      <th>ROLE_ROLLUP_2</th>\n",
       "      <th>ROLE_DEPTNAME</th>\n",
       "      <th>ROLE_FAMILY_DESC</th>\n",
       "      <th>ROLE_CODE</th>\n",
       "      <th>target</th>\n",
       "    </tr>\n",
       "    <tr>\n",
       "      <th>RESOURCE</th>\n",
       "      <th></th>\n",
       "      <th></th>\n",
       "      <th></th>\n",
       "      <th></th>\n",
       "      <th></th>\n",
       "      <th></th>\n",
       "      <th></th>\n",
       "      <th></th>\n",
       "    </tr>\n",
       "  </thead>\n",
       "  <tbody>\n",
       "    <tr>\n",
       "      <td>1001</td>\n",
       "      <td>1.001000e+03</td>\n",
       "      <td>16244.0</td>\n",
       "      <td>1.179610e+05</td>\n",
       "      <td>1.180520e+05</td>\n",
       "      <td>1.203180e+05</td>\n",
       "      <td>1.179060e+05</td>\n",
       "      <td>1.187860e+05</td>\n",
       "      <td>0.0</td>\n",
       "    </tr>\n",
       "    <tr>\n",
       "      <td>100614</td>\n",
       "      <td>1.006140e+05</td>\n",
       "      <td>7408.0</td>\n",
       "      <td>1.179610e+05</td>\n",
       "      <td>1.179620e+05</td>\n",
       "      <td>1.183520e+05</td>\n",
       "      <td>2.409830e+05</td>\n",
       "      <td>1.183220e+05</td>\n",
       "      <td>0.0</td>\n",
       "    </tr>\n",
       "    <tr>\n",
       "      <td>100821</td>\n",
       "      <td>1.008210e+05</td>\n",
       "      <td>17514.0</td>\n",
       "      <td>1.179610e+05</td>\n",
       "      <td>1.183430e+05</td>\n",
       "      <td>1.217470e+05</td>\n",
       "      <td>1.179060e+05</td>\n",
       "      <td>1.183220e+05</td>\n",
       "      <td>0.0</td>\n",
       "    </tr>\n",
       "    <tr>\n",
       "      <td>102702</td>\n",
       "      <td>5.135105e+10</td>\n",
       "      <td>22997170.5</td>\n",
       "      <td>5.898056e+10</td>\n",
       "      <td>5.911256e+10</td>\n",
       "      <td>6.222456e+10</td>\n",
       "      <td>1.558111e+11</td>\n",
       "      <td>5.916606e+10</td>\n",
       "      <td>0.0</td>\n",
       "    </tr>\n",
       "    <tr>\n",
       "      <td>1032</td>\n",
       "      <td>1.032000e+03</td>\n",
       "      <td>4108.0</td>\n",
       "      <td>1.188870e+05</td>\n",
       "      <td>1.188880e+05</td>\n",
       "      <td>1.191360e+05</td>\n",
       "      <td>1.225640e+05</td>\n",
       "      <td>1.191390e+05</td>\n",
       "      <td>0.0</td>\n",
       "    </tr>\n",
       "    <tr>\n",
       "      <td>...</td>\n",
       "      <td>...</td>\n",
       "      <td>...</td>\n",
       "      <td>...</td>\n",
       "      <td>...</td>\n",
       "      <td>...</td>\n",
       "      <td>...</td>\n",
       "      <td>...</td>\n",
       "      <td>...</td>\n",
       "    </tr>\n",
       "    <tr>\n",
       "      <td>96520</td>\n",
       "      <td>9.652000e+04</td>\n",
       "      <td>278563.0</td>\n",
       "      <td>1.186020e+05</td>\n",
       "      <td>1.186030e+05</td>\n",
       "      <td>1.179410e+05</td>\n",
       "      <td>1.185680e+05</td>\n",
       "      <td>1.185700e+05</td>\n",
       "      <td>0.0</td>\n",
       "    </tr>\n",
       "    <tr>\n",
       "      <td>98394</td>\n",
       "      <td>9.839400e+04</td>\n",
       "      <td>4468.0</td>\n",
       "      <td>1.179610e+05</td>\n",
       "      <td>1.184130e+05</td>\n",
       "      <td>1.199680e+05</td>\n",
       "      <td>1.179060e+05</td>\n",
       "      <td>1.183220e+05</td>\n",
       "      <td>0.0</td>\n",
       "    </tr>\n",
       "    <tr>\n",
       "      <td>98433</td>\n",
       "      <td>9.843300e+04</td>\n",
       "      <td>3692.0</td>\n",
       "      <td>1.179610e+05</td>\n",
       "      <td>1.184130e+05</td>\n",
       "      <td>1.262290e+05</td>\n",
       "      <td>2.077090e+05</td>\n",
       "      <td>1.215960e+05</td>\n",
       "      <td>0.0</td>\n",
       "    </tr>\n",
       "    <tr>\n",
       "      <td>98505</td>\n",
       "      <td>9.850500e+04</td>\n",
       "      <td>7583.0</td>\n",
       "      <td>1.189900e+05</td>\n",
       "      <td>1.189910e+05</td>\n",
       "      <td>1.189920e+05</td>\n",
       "      <td>1.179060e+05</td>\n",
       "      <td>1.183220e+05</td>\n",
       "      <td>0.0</td>\n",
       "    </tr>\n",
       "    <tr>\n",
       "      <td>99022</td>\n",
       "      <td>9.902200e+04</td>\n",
       "      <td>3838.0</td>\n",
       "      <td>1.179610e+05</td>\n",
       "      <td>1.182250e+05</td>\n",
       "      <td>1.199240e+05</td>\n",
       "      <td>1.184480e+05</td>\n",
       "      <td>1.183220e+05</td>\n",
       "      <td>0.0</td>\n",
       "    </tr>\n",
       "  </tbody>\n",
       "</table>\n",
       "<p>292 rows × 8 columns</p>\n",
       "</div>"
      ],
      "text/plain": [
       "              RESOURCE      MGR_ID  ROLE_ROLLUP_1  ROLE_ROLLUP_2  \\\n",
       "RESOURCE                                                           \n",
       "1001      1.001000e+03     16244.0   1.179610e+05   1.180520e+05   \n",
       "100614    1.006140e+05      7408.0   1.179610e+05   1.179620e+05   \n",
       "100821    1.008210e+05     17514.0   1.179610e+05   1.183430e+05   \n",
       "102702    5.135105e+10  22997170.5   5.898056e+10   5.911256e+10   \n",
       "1032      1.032000e+03      4108.0   1.188870e+05   1.188880e+05   \n",
       "...                ...         ...            ...            ...   \n",
       "96520     9.652000e+04    278563.0   1.186020e+05   1.186030e+05   \n",
       "98394     9.839400e+04      4468.0   1.179610e+05   1.184130e+05   \n",
       "98433     9.843300e+04      3692.0   1.179610e+05   1.184130e+05   \n",
       "98505     9.850500e+04      7583.0   1.189900e+05   1.189910e+05   \n",
       "99022     9.902200e+04      3838.0   1.179610e+05   1.182250e+05   \n",
       "\n",
       "          ROLE_DEPTNAME  ROLE_FAMILY_DESC     ROLE_CODE  target  \n",
       "RESOURCE                                                         \n",
       "1001       1.203180e+05      1.179060e+05  1.187860e+05     0.0  \n",
       "100614     1.183520e+05      2.409830e+05  1.183220e+05     0.0  \n",
       "100821     1.217470e+05      1.179060e+05  1.183220e+05     0.0  \n",
       "102702     6.222456e+10      1.558111e+11  5.916606e+10     0.0  \n",
       "1032       1.191360e+05      1.225640e+05  1.191390e+05     0.0  \n",
       "...                 ...               ...           ...     ...  \n",
       "96520      1.179410e+05      1.185680e+05  1.185700e+05     0.0  \n",
       "98394      1.199680e+05      1.179060e+05  1.183220e+05     0.0  \n",
       "98433      1.262290e+05      2.077090e+05  1.215960e+05     0.0  \n",
       "98505      1.189920e+05      1.179060e+05  1.183220e+05     0.0  \n",
       "99022      1.199240e+05      1.184480e+05  1.183220e+05     0.0  \n",
       "\n",
       "[292 rows x 8 columns]"
      ]
     },
     "execution_count": 12,
     "metadata": {},
     "output_type": "execute_result"
    }
   ],
   "source": [
    "rec=df1.groupby('RESOURCE').apply(np.mean)\n",
    "rec[rec['target']==0]\n"
   ]
  },
  {
   "cell_type": "code",
   "execution_count": 13,
   "metadata": {},
   "outputs": [
    {
     "data": {
      "text/plain": [
       "1134"
      ]
     },
     "execution_count": 13,
     "metadata": {},
     "output_type": "execute_result"
    }
   ],
   "source": [
    "index2=rec[rec['target']!=1].index\n",
    "(df1.groupby('RESOURCE').size()[index2]).count()"
   ]
  },
  {
   "cell_type": "code",
   "execution_count": 14,
   "metadata": {},
   "outputs": [
    {
     "data": {
      "text/plain": [
       "292"
      ]
     },
     "execution_count": 14,
     "metadata": {},
     "output_type": "execute_result"
    }
   ],
   "source": [
    "index2=rec[rec['target']==0].index\n",
    "(df1.groupby('RESOURCE').size()[index2]).count()"
   ]
  },
  {
   "cell_type": "code",
   "execution_count": 15,
   "metadata": {},
   "outputs": [
    {
     "data": {
      "text/plain": [
       "RESOURCE            7518\n",
       "MGR_ID              7518\n",
       "ROLE_ROLLUP_1       7518\n",
       "ROLE_ROLLUP_2       7518\n",
       "ROLE_DEPTNAME       7518\n",
       "ROLE_FAMILY_DESC    7518\n",
       "ROLE_CODE           7518\n",
       "target              7518\n",
       "dtype: int64"
      ]
     },
     "execution_count": 15,
     "metadata": {},
     "output_type": "execute_result"
    }
   ],
   "source": [
    "rec.count()"
   ]
  },
  {
   "cell_type": "markdown",
   "metadata": {},
   "source": [
    "There are 6384 resources that are never denied access\n",
    "\n",
    "292 resources which account for 327 records were always denied access. 24 of these resources have more than one occurance. These maybe highly confidential or highly secure or sensitive resources as access was never granted\n"
   ]
  },
  {
   "cell_type": "markdown",
   "metadata": {},
   "source": [
    "### MGR_ID"
   ]
  },
  {
   "cell_type": "code",
   "execution_count": 16,
   "metadata": {
    "scrolled": false
   },
   "outputs": [
    {
     "data": {
      "text/html": [
       "<div>\n",
       "<style scoped>\n",
       "    .dataframe tbody tr th:only-of-type {\n",
       "        vertical-align: middle;\n",
       "    }\n",
       "\n",
       "    .dataframe tbody tr th {\n",
       "        vertical-align: top;\n",
       "    }\n",
       "\n",
       "    .dataframe thead th {\n",
       "        text-align: right;\n",
       "    }\n",
       "</style>\n",
       "<table border=\"1\" class=\"dataframe\">\n",
       "  <thead>\n",
       "    <tr style=\"text-align: right;\">\n",
       "      <th></th>\n",
       "      <th>RESOURCE</th>\n",
       "      <th>MGR_ID</th>\n",
       "      <th>ROLE_ROLLUP_1</th>\n",
       "      <th>ROLE_ROLLUP_2</th>\n",
       "      <th>ROLE_DEPTNAME</th>\n",
       "      <th>ROLE_FAMILY_DESC</th>\n",
       "      <th>ROLE_CODE</th>\n",
       "      <th>target</th>\n",
       "    </tr>\n",
       "    <tr>\n",
       "      <th>MGR_ID</th>\n",
       "      <th></th>\n",
       "      <th></th>\n",
       "      <th></th>\n",
       "      <th></th>\n",
       "      <th></th>\n",
       "      <th></th>\n",
       "      <th></th>\n",
       "      <th></th>\n",
       "    </tr>\n",
       "  </thead>\n",
       "  <tbody>\n",
       "    <tr>\n",
       "      <td>102234</td>\n",
       "      <td>75078.0</td>\n",
       "      <td>102234.0</td>\n",
       "      <td>121411.0</td>\n",
       "      <td>125018.0</td>\n",
       "      <td>138789.0</td>\n",
       "      <td>138790.0</td>\n",
       "      <td>117880.0</td>\n",
       "      <td>0.0</td>\n",
       "    </tr>\n",
       "    <tr>\n",
       "      <td>108732</td>\n",
       "      <td>79092.0</td>\n",
       "      <td>108732.0</td>\n",
       "      <td>119062.0</td>\n",
       "      <td>119091.0</td>\n",
       "      <td>118684.0</td>\n",
       "      <td>131688.0</td>\n",
       "      <td>122991.0</td>\n",
       "      <td>0.0</td>\n",
       "    </tr>\n",
       "    <tr>\n",
       "      <td>112106</td>\n",
       "      <td>43877.0</td>\n",
       "      <td>112106.0</td>\n",
       "      <td>118079.0</td>\n",
       "      <td>118080.0</td>\n",
       "      <td>117878.0</td>\n",
       "      <td>302452.0</td>\n",
       "      <td>130638.0</td>\n",
       "      <td>0.0</td>\n",
       "    </tr>\n",
       "    <tr>\n",
       "      <td>12265</td>\n",
       "      <td>32223.0</td>\n",
       "      <td>12265.0</td>\n",
       "      <td>118120.0</td>\n",
       "      <td>118121.0</td>\n",
       "      <td>117920.0</td>\n",
       "      <td>120978.0</td>\n",
       "      <td>119325.0</td>\n",
       "      <td>0.0</td>\n",
       "    </tr>\n",
       "    <tr>\n",
       "      <td>14163</td>\n",
       "      <td>33642.0</td>\n",
       "      <td>14163.0</td>\n",
       "      <td>5110.0</td>\n",
       "      <td>117954.0</td>\n",
       "      <td>117895.0</td>\n",
       "      <td>281735.0</td>\n",
       "      <td>118570.0</td>\n",
       "      <td>0.0</td>\n",
       "    </tr>\n",
       "    <tr>\n",
       "      <td>...</td>\n",
       "      <td>...</td>\n",
       "      <td>...</td>\n",
       "      <td>...</td>\n",
       "      <td>...</td>\n",
       "      <td>...</td>\n",
       "      <td>...</td>\n",
       "      <td>...</td>\n",
       "      <td>...</td>\n",
       "    </tr>\n",
       "    <tr>\n",
       "      <td>83733</td>\n",
       "      <td>75181.0</td>\n",
       "      <td>83733.0</td>\n",
       "      <td>118200.0</td>\n",
       "      <td>118201.0</td>\n",
       "      <td>117920.0</td>\n",
       "      <td>122957.0</td>\n",
       "      <td>121070.0</td>\n",
       "      <td>0.0</td>\n",
       "    </tr>\n",
       "    <tr>\n",
       "      <td>83905</td>\n",
       "      <td>73815.0</td>\n",
       "      <td>83905.0</td>\n",
       "      <td>118315.0</td>\n",
       "      <td>118316.0</td>\n",
       "      <td>118522.0</td>\n",
       "      <td>168284.0</td>\n",
       "      <td>119851.0</td>\n",
       "      <td>0.0</td>\n",
       "    </tr>\n",
       "    <tr>\n",
       "      <td>89065</td>\n",
       "      <td>20284.0</td>\n",
       "      <td>89065.0</td>\n",
       "      <td>118953.0</td>\n",
       "      <td>118954.0</td>\n",
       "      <td>117941.0</td>\n",
       "      <td>117886.0</td>\n",
       "      <td>117880.0</td>\n",
       "      <td>0.0</td>\n",
       "    </tr>\n",
       "    <tr>\n",
       "      <td>9384</td>\n",
       "      <td>27416.0</td>\n",
       "      <td>9384.0</td>\n",
       "      <td>117910.0</td>\n",
       "      <td>117911.0</td>\n",
       "      <td>117941.0</td>\n",
       "      <td>281735.0</td>\n",
       "      <td>118570.0</td>\n",
       "      <td>0.0</td>\n",
       "    </tr>\n",
       "    <tr>\n",
       "      <td>95343</td>\n",
       "      <td>81267.0</td>\n",
       "      <td>95343.0</td>\n",
       "      <td>118887.0</td>\n",
       "      <td>118888.0</td>\n",
       "      <td>120211.0</td>\n",
       "      <td>128869.0</td>\n",
       "      <td>117987.0</td>\n",
       "      <td>0.0</td>\n",
       "    </tr>\n",
       "  </tbody>\n",
       "</table>\n",
       "<p>68 rows × 8 columns</p>\n",
       "</div>"
      ],
      "text/plain": [
       "        RESOURCE    MGR_ID  ROLE_ROLLUP_1  ROLE_ROLLUP_2  ROLE_DEPTNAME  \\\n",
       "MGR_ID                                                                    \n",
       "102234   75078.0  102234.0       121411.0       125018.0       138789.0   \n",
       "108732   79092.0  108732.0       119062.0       119091.0       118684.0   \n",
       "112106   43877.0  112106.0       118079.0       118080.0       117878.0   \n",
       "12265    32223.0   12265.0       118120.0       118121.0       117920.0   \n",
       "14163    33642.0   14163.0         5110.0       117954.0       117895.0   \n",
       "...          ...       ...            ...            ...            ...   \n",
       "83733    75181.0   83733.0       118200.0       118201.0       117920.0   \n",
       "83905    73815.0   83905.0       118315.0       118316.0       118522.0   \n",
       "89065    20284.0   89065.0       118953.0       118954.0       117941.0   \n",
       "9384     27416.0    9384.0       117910.0       117911.0       117941.0   \n",
       "95343    81267.0   95343.0       118887.0       118888.0       120211.0   \n",
       "\n",
       "        ROLE_FAMILY_DESC  ROLE_CODE  target  \n",
       "MGR_ID                                       \n",
       "102234          138790.0   117880.0     0.0  \n",
       "108732          131688.0   122991.0     0.0  \n",
       "112106          302452.0   130638.0     0.0  \n",
       "12265           120978.0   119325.0     0.0  \n",
       "14163           281735.0   118570.0     0.0  \n",
       "...                  ...        ...     ...  \n",
       "83733           122957.0   121070.0     0.0  \n",
       "83905           168284.0   119851.0     0.0  \n",
       "89065           117886.0   117880.0     0.0  \n",
       "9384            281735.0   118570.0     0.0  \n",
       "95343           128869.0   117987.0     0.0  \n",
       "\n",
       "[68 rows x 8 columns]"
      ]
     },
     "execution_count": 16,
     "metadata": {},
     "output_type": "execute_result"
    }
   ],
   "source": [
    "mg=df1.groupby('MGR_ID').apply(np.mean)\n",
    "mg[mg['target']==0]\n"
   ]
  },
  {
   "cell_type": "code",
   "execution_count": 17,
   "metadata": {},
   "outputs": [
    {
     "data": {
      "text/plain": [
       "68"
      ]
     },
     "execution_count": 17,
     "metadata": {},
     "output_type": "execute_result"
    }
   ],
   "source": [
    "index3=mg[mg['target']==0].index\n",
    "(df1.groupby('MGR_ID').size()[index3]).count()"
   ]
  },
  {
   "cell_type": "code",
   "execution_count": 18,
   "metadata": {},
   "outputs": [
    {
     "data": {
      "text/plain": [
       "121"
      ]
     },
     "execution_count": 18,
     "metadata": {},
     "output_type": "execute_result"
    }
   ],
   "source": [
    "(df1.groupby('MGR_ID').size()[index3]).sum()"
   ]
  },
  {
   "cell_type": "code",
   "execution_count": 19,
   "metadata": {},
   "outputs": [
    {
     "data": {
      "text/plain": [
       "22"
      ]
     },
     "execution_count": 19,
     "metadata": {},
     "output_type": "execute_result"
    }
   ],
   "source": [
    "(df1.groupby('MGR_ID').size()[index3]>1).sum()"
   ]
  },
  {
   "cell_type": "code",
   "execution_count": 20,
   "metadata": {},
   "outputs": [
    {
     "data": {
      "text/plain": [
       "4243"
      ]
     },
     "execution_count": 20,
     "metadata": {},
     "output_type": "execute_result"
    }
   ],
   "source": [
    "df1.groupby('MGR_ID').size().count()"
   ]
  },
  {
   "cell_type": "markdown",
   "metadata": {},
   "source": [
    "Out of 4243 managers 68 manager ids have only 0 target. 22 out of these have more than one record which means more than one employee under these managers were denied access. There are 3 managers with more than 5 employees who have been denied access"
   ]
  },
  {
   "cell_type": "markdown",
   "metadata": {},
   "source": [
    "### Rollup 1"
   ]
  },
  {
   "cell_type": "code",
   "execution_count": 21,
   "metadata": {},
   "outputs": [
    {
     "data": {
      "text/html": [
       "<div>\n",
       "<style scoped>\n",
       "    .dataframe tbody tr th:only-of-type {\n",
       "        vertical-align: middle;\n",
       "    }\n",
       "\n",
       "    .dataframe tbody tr th {\n",
       "        vertical-align: top;\n",
       "    }\n",
       "\n",
       "    .dataframe thead th {\n",
       "        text-align: right;\n",
       "    }\n",
       "</style>\n",
       "<table border=\"1\" class=\"dataframe\">\n",
       "  <thead>\n",
       "    <tr style=\"text-align: right;\">\n",
       "      <th></th>\n",
       "      <th>RESOURCE</th>\n",
       "      <th>MGR_ID</th>\n",
       "      <th>ROLE_ROLLUP_1</th>\n",
       "      <th>ROLE_ROLLUP_2</th>\n",
       "      <th>ROLE_DEPTNAME</th>\n",
       "      <th>ROLE_FAMILY_DESC</th>\n",
       "      <th>ROLE_CODE</th>\n",
       "      <th>target</th>\n",
       "    </tr>\n",
       "    <tr>\n",
       "      <th>ROLE_ROLLUP_1</th>\n",
       "      <th></th>\n",
       "      <th></th>\n",
       "      <th></th>\n",
       "      <th></th>\n",
       "      <th></th>\n",
       "      <th></th>\n",
       "      <th></th>\n",
       "      <th></th>\n",
       "    </tr>\n",
       "  </thead>\n",
       "  <tbody>\n",
       "    <tr>\n",
       "      <td>121411</td>\n",
       "      <td>75078.0</td>\n",
       "      <td>102234.0</td>\n",
       "      <td>121411.0</td>\n",
       "      <td>125018.0</td>\n",
       "      <td>138789.0</td>\n",
       "      <td>138790.0</td>\n",
       "      <td>117880.0</td>\n",
       "      <td>0.0</td>\n",
       "    </tr>\n",
       "  </tbody>\n",
       "</table>\n",
       "</div>"
      ],
      "text/plain": [
       "               RESOURCE    MGR_ID  ROLE_ROLLUP_1  ROLE_ROLLUP_2  \\\n",
       "ROLE_ROLLUP_1                                                     \n",
       "121411          75078.0  102234.0       121411.0       125018.0   \n",
       "\n",
       "               ROLE_DEPTNAME  ROLE_FAMILY_DESC  ROLE_CODE  target  \n",
       "ROLE_ROLLUP_1                                                      \n",
       "121411              138789.0          138790.0   117880.0     0.0  "
      ]
     },
     "execution_count": 21,
     "metadata": {},
     "output_type": "execute_result"
    }
   ],
   "source": [
    "roll1=df1.groupby('ROLE_ROLLUP_1').apply(np.mean)\n",
    "roll1[roll1['target']==0]"
   ]
  },
  {
   "cell_type": "markdown",
   "metadata": {},
   "source": [
    "### Rollup2"
   ]
  },
  {
   "cell_type": "code",
   "execution_count": 22,
   "metadata": {},
   "outputs": [
    {
     "data": {
      "text/html": [
       "<div>\n",
       "<style scoped>\n",
       "    .dataframe tbody tr th:only-of-type {\n",
       "        vertical-align: middle;\n",
       "    }\n",
       "\n",
       "    .dataframe tbody tr th {\n",
       "        vertical-align: top;\n",
       "    }\n",
       "\n",
       "    .dataframe thead th {\n",
       "        text-align: right;\n",
       "    }\n",
       "</style>\n",
       "<table border=\"1\" class=\"dataframe\">\n",
       "  <thead>\n",
       "    <tr style=\"text-align: right;\">\n",
       "      <th></th>\n",
       "      <th>RESOURCE</th>\n",
       "      <th>MGR_ID</th>\n",
       "      <th>ROLE_ROLLUP_1</th>\n",
       "      <th>ROLE_ROLLUP_2</th>\n",
       "      <th>ROLE_DEPTNAME</th>\n",
       "      <th>ROLE_FAMILY_DESC</th>\n",
       "      <th>ROLE_CODE</th>\n",
       "      <th>target</th>\n",
       "    </tr>\n",
       "    <tr>\n",
       "      <th>ROLE_ROLLUP_2</th>\n",
       "      <th></th>\n",
       "      <th></th>\n",
       "      <th></th>\n",
       "      <th></th>\n",
       "      <th></th>\n",
       "      <th></th>\n",
       "      <th></th>\n",
       "      <th></th>\n",
       "    </tr>\n",
       "  </thead>\n",
       "  <tbody>\n",
       "    <tr>\n",
       "      <td>125018</td>\n",
       "      <td>75078.0</td>\n",
       "      <td>102234.0</td>\n",
       "      <td>121411.0</td>\n",
       "      <td>125018.0</td>\n",
       "      <td>138789.0</td>\n",
       "      <td>138790.0</td>\n",
       "      <td>117880.0</td>\n",
       "      <td>0.0</td>\n",
       "    </tr>\n",
       "    <tr>\n",
       "      <td>286791</td>\n",
       "      <td>80859.0</td>\n",
       "      <td>8030.0</td>\n",
       "      <td>117961.0</td>\n",
       "      <td>286791.0</td>\n",
       "      <td>286792.0</td>\n",
       "      <td>117906.0</td>\n",
       "      <td>117908.0</td>\n",
       "      <td>0.0</td>\n",
       "    </tr>\n",
       "  </tbody>\n",
       "</table>\n",
       "</div>"
      ],
      "text/plain": [
       "               RESOURCE    MGR_ID  ROLE_ROLLUP_1  ROLE_ROLLUP_2  \\\n",
       "ROLE_ROLLUP_2                                                     \n",
       "125018          75078.0  102234.0       121411.0       125018.0   \n",
       "286791          80859.0    8030.0       117961.0       286791.0   \n",
       "\n",
       "               ROLE_DEPTNAME  ROLE_FAMILY_DESC  ROLE_CODE  target  \n",
       "ROLE_ROLLUP_2                                                      \n",
       "125018              138789.0          138790.0   117880.0     0.0  \n",
       "286791              286792.0          117906.0   117908.0     0.0  "
      ]
     },
     "execution_count": 22,
     "metadata": {},
     "output_type": "execute_result"
    }
   ],
   "source": [
    "roll2=df1.groupby('ROLE_ROLLUP_2').apply(np.mean)\n",
    "roll2[roll2['target']==0]"
   ]
  },
  {
   "cell_type": "markdown",
   "metadata": {},
   "source": [
    "### ROLE_DEPTNAME"
   ]
  },
  {
   "cell_type": "code",
   "execution_count": 23,
   "metadata": {},
   "outputs": [
    {
     "data": {
      "text/html": [
       "<div>\n",
       "<style scoped>\n",
       "    .dataframe tbody tr th:only-of-type {\n",
       "        vertical-align: middle;\n",
       "    }\n",
       "\n",
       "    .dataframe tbody tr th {\n",
       "        vertical-align: top;\n",
       "    }\n",
       "\n",
       "    .dataframe thead th {\n",
       "        text-align: right;\n",
       "    }\n",
       "</style>\n",
       "<table border=\"1\" class=\"dataframe\">\n",
       "  <thead>\n",
       "    <tr style=\"text-align: right;\">\n",
       "      <th></th>\n",
       "      <th>RESOURCE</th>\n",
       "      <th>MGR_ID</th>\n",
       "      <th>ROLE_ROLLUP_1</th>\n",
       "      <th>ROLE_ROLLUP_2</th>\n",
       "      <th>ROLE_DEPTNAME</th>\n",
       "      <th>ROLE_FAMILY_DESC</th>\n",
       "      <th>ROLE_CODE</th>\n",
       "      <th>target</th>\n",
       "    </tr>\n",
       "    <tr>\n",
       "      <th>ROLE_DEPTNAME</th>\n",
       "      <th></th>\n",
       "      <th></th>\n",
       "      <th></th>\n",
       "      <th></th>\n",
       "      <th></th>\n",
       "      <th></th>\n",
       "      <th></th>\n",
       "      <th></th>\n",
       "    </tr>\n",
       "  </thead>\n",
       "  <tbody>\n",
       "    <tr>\n",
       "      <td>121169</td>\n",
       "      <td>1.572060e+09</td>\n",
       "      <td>2.553755e+07</td>\n",
       "      <td>5.898056e+10</td>\n",
       "      <td>5.915006e+10</td>\n",
       "      <td>6.058456e+10</td>\n",
       "      <td>1.390071e+11</td>\n",
       "      <td>5.926606e+10</td>\n",
       "      <td>0.0</td>\n",
       "    </tr>\n",
       "    <tr>\n",
       "      <td>138789</td>\n",
       "      <td>7.507800e+04</td>\n",
       "      <td>1.022340e+05</td>\n",
       "      <td>1.214110e+05</td>\n",
       "      <td>1.250180e+05</td>\n",
       "      <td>1.387890e+05</td>\n",
       "      <td>1.387900e+05</td>\n",
       "      <td>1.178800e+05</td>\n",
       "      <td>0.0</td>\n",
       "    </tr>\n",
       "    <tr>\n",
       "      <td>215920</td>\n",
       "      <td>7.984819e+18</td>\n",
       "      <td>1.895440e+15</td>\n",
       "      <td>2.974753e+22</td>\n",
       "      <td>2.974778e+22</td>\n",
       "      <td>5.398005e+22</td>\n",
       "      <td>7.639533e+22</td>\n",
       "      <td>3.073853e+22</td>\n",
       "      <td>0.0</td>\n",
       "    </tr>\n",
       "    <tr>\n",
       "      <td>286792</td>\n",
       "      <td>8.085900e+04</td>\n",
       "      <td>8.030000e+03</td>\n",
       "      <td>1.179610e+05</td>\n",
       "      <td>2.867910e+05</td>\n",
       "      <td>2.867920e+05</td>\n",
       "      <td>1.179060e+05</td>\n",
       "      <td>1.179080e+05</td>\n",
       "      <td>0.0</td>\n",
       "    </tr>\n",
       "  </tbody>\n",
       "</table>\n",
       "</div>"
      ],
      "text/plain": [
       "                   RESOURCE        MGR_ID  ROLE_ROLLUP_1  ROLE_ROLLUP_2  \\\n",
       "ROLE_DEPTNAME                                                             \n",
       "121169         1.572060e+09  2.553755e+07   5.898056e+10   5.915006e+10   \n",
       "138789         7.507800e+04  1.022340e+05   1.214110e+05   1.250180e+05   \n",
       "215920         7.984819e+18  1.895440e+15   2.974753e+22   2.974778e+22   \n",
       "286792         8.085900e+04  8.030000e+03   1.179610e+05   2.867910e+05   \n",
       "\n",
       "               ROLE_DEPTNAME  ROLE_FAMILY_DESC     ROLE_CODE  target  \n",
       "ROLE_DEPTNAME                                                         \n",
       "121169          6.058456e+10      1.390071e+11  5.926606e+10     0.0  \n",
       "138789          1.387890e+05      1.387900e+05  1.178800e+05     0.0  \n",
       "215920          5.398005e+22      7.639533e+22  3.073853e+22     0.0  \n",
       "286792          2.867920e+05      1.179060e+05  1.179080e+05     0.0  "
      ]
     },
     "execution_count": 23,
     "metadata": {},
     "output_type": "execute_result"
    }
   ],
   "source": [
    "dept=df1.groupby('ROLE_DEPTNAME').apply(np.mean)\n",
    "dept[dept['target']==0]"
   ]
  },
  {
   "cell_type": "code",
   "execution_count": 24,
   "metadata": {},
   "outputs": [
    {
     "data": {
      "text/plain": [
       "182"
      ]
     },
     "execution_count": 24,
     "metadata": {},
     "output_type": "execute_result"
    }
   ],
   "source": [
    "index4=dept[dept['target']==1].index\n",
    "(df1.groupby('ROLE_DEPTNAME').size()[index4]).count()"
   ]
  },
  {
   "cell_type": "code",
   "execution_count": 25,
   "metadata": {},
   "outputs": [
    {
     "data": {
      "text/plain": [
       "3517"
      ]
     },
     "execution_count": 25,
     "metadata": {},
     "output_type": "execute_result"
    }
   ],
   "source": [
    "(df1.groupby('ROLE_DEPTNAME').size()[index4]).sum()"
   ]
  },
  {
   "cell_type": "markdown",
   "metadata": {},
   "source": [
    "In 182 departments all employees have got access to resource they requested. It amounts to a total of 3517 employees"
   ]
  },
  {
   "cell_type": "markdown",
   "metadata": {},
   "source": [
    "### ROLE_FAMILY_DESC"
   ]
  },
  {
   "cell_type": "code",
   "execution_count": 26,
   "metadata": {
    "scrolled": true
   },
   "outputs": [
    {
     "data": {
      "text/plain": [
       "RESOURCE            46\n",
       "MGR_ID              46\n",
       "ROLE_ROLLUP_1       46\n",
       "ROLE_ROLLUP_2       46\n",
       "ROLE_DEPTNAME       46\n",
       "ROLE_FAMILY_DESC    46\n",
       "ROLE_CODE           46\n",
       "target              46\n",
       "dtype: int64"
      ]
     },
     "execution_count": 26,
     "metadata": {},
     "output_type": "execute_result"
    }
   ],
   "source": [
    "desc=df1.groupby('ROLE_FAMILY_DESC').apply(np.mean)\n",
    "desc[desc['target']==0].count()"
   ]
  },
  {
   "cell_type": "code",
   "execution_count": 27,
   "metadata": {},
   "outputs": [
    {
     "name": "stdout",
     "output_type": "stream",
     "text": [
      "10641\n",
      "1974\n"
     ]
    }
   ],
   "source": [
    "index5=desc[desc['target']==1].index\n",
    "print((df1.groupby('ROLE_FAMILY_DESC').size()[index5]).sum())\n",
    "print((df1.groupby('ROLE_FAMILY_DESC').size()[index5]).count())"
   ]
  },
  {
   "cell_type": "code",
   "execution_count": 28,
   "metadata": {},
   "outputs": [
    {
     "data": {
      "text/plain": [
       "65"
      ]
     },
     "execution_count": 28,
     "metadata": {},
     "output_type": "execute_result"
    }
   ],
   "source": [
    "index5=desc[desc['target']==0].index\n",
    "(df1.groupby('ROLE_FAMILY_DESC').size()[index5]).sum()"
   ]
  },
  {
   "cell_type": "markdown",
   "metadata": {},
   "source": [
    "A total of 1974 out of 2358 role descriptions have records with only 1 as target. This means these job family descriptions have been given access all the time for their corresponding resources"
   ]
  },
  {
   "cell_type": "markdown",
   "metadata": {},
   "source": [
    "### ROLE_CODE"
   ]
  },
  {
   "cell_type": "code",
   "execution_count": 50,
   "metadata": {},
   "outputs": [
    {
     "data": {
      "text/plain": [
       "RESOURCE            3\n",
       "MGR_ID              3\n",
       "ROLE_ROLLUP_1       3\n",
       "ROLE_ROLLUP_2       3\n",
       "ROLE_DEPTNAME       3\n",
       "ROLE_FAMILY_DESC    3\n",
       "ROLE_CODE           3\n",
       "target              3\n",
       "dtype: int64"
      ]
     },
     "execution_count": 50,
     "metadata": {},
     "output_type": "execute_result"
    }
   ],
   "source": [
    "rcode=df1.groupby('ROLE_CODE').apply(np.mean)\n",
    "rcode[rcode['target']==0].count()"
   ]
  },
  {
   "cell_type": "code",
   "execution_count": 51,
   "metadata": {},
   "outputs": [
    {
     "data": {
      "text/plain": [
       "4"
      ]
     },
     "execution_count": 51,
     "metadata": {},
     "output_type": "execute_result"
    }
   ],
   "source": [
    "index6=rcode[rcode['target']==0].index\n",
    "(df1.groupby('ROLE_CODE').size()[index6]).sum()"
   ]
  },
  {
   "cell_type": "markdown",
   "metadata": {},
   "source": [
    "## Bi-variate analysis"
   ]
  },
  {
   "cell_type": "code",
   "execution_count": 29,
   "metadata": {},
   "outputs": [],
   "source": [
    "rollups=df1.groupby(['ROLE_ROLLUP_1','ROLE_ROLLUP_2']).apply(np.mean)"
   ]
  },
  {
   "cell_type": "code",
   "execution_count": 30,
   "metadata": {},
   "outputs": [
    {
     "data": {
      "text/plain": [
       "RESOURCE            108\n",
       "MGR_ID              108\n",
       "ROLE_ROLLUP_1       108\n",
       "ROLE_ROLLUP_2       108\n",
       "ROLE_DEPTNAME       108\n",
       "ROLE_FAMILY_DESC    108\n",
       "ROLE_CODE           108\n",
       "target              108\n",
       "dtype: int64"
      ]
     },
     "execution_count": 30,
     "metadata": {},
     "output_type": "execute_result"
    }
   ],
   "source": [
    "rollups[rollups.target!=1].count()"
   ]
  },
  {
   "cell_type": "code",
   "execution_count": 31,
   "metadata": {},
   "outputs": [
    {
     "data": {
      "text/plain": [
       "RESOURCE            187\n",
       "MGR_ID              187\n",
       "ROLE_ROLLUP_1       187\n",
       "ROLE_ROLLUP_2       187\n",
       "ROLE_DEPTNAME       187\n",
       "ROLE_FAMILY_DESC    187\n",
       "ROLE_CODE           187\n",
       "target              187\n",
       "dtype: int64"
      ]
     },
     "execution_count": 31,
     "metadata": {},
     "output_type": "execute_result"
    }
   ],
   "source": [
    "rollups.count()"
   ]
  },
  {
   "cell_type": "code",
   "execution_count": 32,
   "metadata": {
    "scrolled": true
   },
   "outputs": [
    {
     "data": {
      "text/html": [
       "<div>\n",
       "<style scoped>\n",
       "    .dataframe tbody tr th:only-of-type {\n",
       "        vertical-align: middle;\n",
       "    }\n",
       "\n",
       "    .dataframe tbody tr th {\n",
       "        vertical-align: top;\n",
       "    }\n",
       "\n",
       "    .dataframe thead th {\n",
       "        text-align: right;\n",
       "    }\n",
       "</style>\n",
       "<table border=\"1\" class=\"dataframe\">\n",
       "  <thead>\n",
       "    <tr style=\"text-align: right;\">\n",
       "      <th></th>\n",
       "      <th></th>\n",
       "      <th>RESOURCE</th>\n",
       "      <th>MGR_ID</th>\n",
       "      <th>ROLE_ROLLUP_1</th>\n",
       "      <th>ROLE_ROLLUP_2</th>\n",
       "      <th>ROLE_DEPTNAME</th>\n",
       "      <th>ROLE_FAMILY_DESC</th>\n",
       "      <th>ROLE_CODE</th>\n",
       "      <th>target</th>\n",
       "    </tr>\n",
       "    <tr>\n",
       "      <th>ROLE_ROLLUP_1</th>\n",
       "      <th>ROLE_ROLLUP_2</th>\n",
       "      <th></th>\n",
       "      <th></th>\n",
       "      <th></th>\n",
       "      <th></th>\n",
       "      <th></th>\n",
       "      <th></th>\n",
       "      <th></th>\n",
       "      <th></th>\n",
       "    </tr>\n",
       "  </thead>\n",
       "  <tbody>\n",
       "    <tr>\n",
       "      <td>117961</td>\n",
       "      <td>286791</td>\n",
       "      <td>8.085900e+04</td>\n",
       "      <td>8.030000e+03</td>\n",
       "      <td>1.179610e+05</td>\n",
       "      <td>2.867910e+05</td>\n",
       "      <td>2.867920e+05</td>\n",
       "      <td>1.179060e+05</td>\n",
       "      <td>1.179080e+05</td>\n",
       "      <td>0.000000</td>\n",
       "    </tr>\n",
       "    <tr>\n",
       "      <td>117978</td>\n",
       "      <td>119216</td>\n",
       "      <td>7.161295e+28</td>\n",
       "      <td>3.314281e+26</td>\n",
       "      <td>1.966302e+34</td>\n",
       "      <td>1.986935e+34</td>\n",
       "      <td>1.964735e+34</td>\n",
       "      <td>4.695585e+34</td>\n",
       "      <td>1.976169e+34</td>\n",
       "      <td>0.500000</td>\n",
       "    </tr>\n",
       "    <tr>\n",
       "      <td>118138</td>\n",
       "      <td>118139</td>\n",
       "      <td>1.793927e+104</td>\n",
       "      <td>2.398394e+96</td>\n",
       "      <td>5.625625e+123</td>\n",
       "      <td>5.625672e+123</td>\n",
       "      <td>5.613529e+123</td>\n",
       "      <td>5.614918e+123</td>\n",
       "      <td>5.613720e+123</td>\n",
       "      <td>0.761905</td>\n",
       "    </tr>\n",
       "    <tr>\n",
       "      <td rowspan=\"2\" valign=\"top\">118212</td>\n",
       "      <td>119763</td>\n",
       "      <td>9.090335e+106</td>\n",
       "      <td>1.188330e+103</td>\n",
       "      <td>5.373278e+129</td>\n",
       "      <td>5.443778e+129</td>\n",
       "      <td>5.598778e+129</td>\n",
       "      <td>9.072373e+129</td>\n",
       "      <td>5.660869e+129</td>\n",
       "      <td>0.727273</td>\n",
       "    </tr>\n",
       "    <tr>\n",
       "      <td>119836</td>\n",
       "      <td>4.332221e+27</td>\n",
       "      <td>2.872529e+28</td>\n",
       "      <td>1.970202e+34</td>\n",
       "      <td>1.997269e+34</td>\n",
       "      <td>1.997285e+34</td>\n",
       "      <td>2.340402e+34</td>\n",
       "      <td>1.974769e+34</td>\n",
       "      <td>0.500000</td>\n",
       "    </tr>\n",
       "    <tr>\n",
       "      <td>118256</td>\n",
       "      <td>118257</td>\n",
       "      <td>inf</td>\n",
       "      <td>inf</td>\n",
       "      <td>inf</td>\n",
       "      <td>inf</td>\n",
       "      <td>inf</td>\n",
       "      <td>inf</td>\n",
       "      <td>inf</td>\n",
       "      <td>0.719844</td>\n",
       "    </tr>\n",
       "    <tr>\n",
       "      <td>119062</td>\n",
       "      <td>130600</td>\n",
       "      <td>2.657586e+137</td>\n",
       "      <td>5.984455e+120</td>\n",
       "      <td>4.252219e+165</td>\n",
       "      <td>4.664290e+165</td>\n",
       "      <td>4.988469e+165</td>\n",
       "      <td>4.210933e+165</td>\n",
       "      <td>4.211004e+165</td>\n",
       "      <td>0.500000</td>\n",
       "    </tr>\n",
       "    <tr>\n",
       "      <td>119920</td>\n",
       "      <td>119921</td>\n",
       "      <td>3.073357e+261</td>\n",
       "      <td>2.385599e+221</td>\n",
       "      <td>inf</td>\n",
       "      <td>inf</td>\n",
       "      <td>inf</td>\n",
       "      <td>inf</td>\n",
       "      <td>inf</td>\n",
       "      <td>0.775862</td>\n",
       "    </tr>\n",
       "    <tr>\n",
       "      <td>121411</td>\n",
       "      <td>125018</td>\n",
       "      <td>7.507800e+04</td>\n",
       "      <td>1.022340e+05</td>\n",
       "      <td>1.214110e+05</td>\n",
       "      <td>1.250180e+05</td>\n",
       "      <td>1.387890e+05</td>\n",
       "      <td>1.387900e+05</td>\n",
       "      <td>1.178800e+05</td>\n",
       "      <td>0.000000</td>\n",
       "    </tr>\n",
       "  </tbody>\n",
       "</table>\n",
       "</div>"
      ],
      "text/plain": [
       "                                  RESOURCE         MGR_ID  ROLE_ROLLUP_1  \\\n",
       "ROLE_ROLLUP_1 ROLE_ROLLUP_2                                                \n",
       "117961        286791          8.085900e+04   8.030000e+03   1.179610e+05   \n",
       "117978        119216          7.161295e+28   3.314281e+26   1.966302e+34   \n",
       "118138        118139         1.793927e+104   2.398394e+96  5.625625e+123   \n",
       "118212        119763         9.090335e+106  1.188330e+103  5.373278e+129   \n",
       "              119836          4.332221e+27   2.872529e+28   1.970202e+34   \n",
       "118256        118257                   inf            inf            inf   \n",
       "119062        130600         2.657586e+137  5.984455e+120  4.252219e+165   \n",
       "119920        119921         3.073357e+261  2.385599e+221            inf   \n",
       "121411        125018          7.507800e+04   1.022340e+05   1.214110e+05   \n",
       "\n",
       "                             ROLE_ROLLUP_2  ROLE_DEPTNAME  ROLE_FAMILY_DESC  \\\n",
       "ROLE_ROLLUP_1 ROLE_ROLLUP_2                                                   \n",
       "117961        286791          2.867910e+05   2.867920e+05      1.179060e+05   \n",
       "117978        119216          1.986935e+34   1.964735e+34      4.695585e+34   \n",
       "118138        118139         5.625672e+123  5.613529e+123     5.614918e+123   \n",
       "118212        119763         5.443778e+129  5.598778e+129     9.072373e+129   \n",
       "              119836          1.997269e+34   1.997285e+34      2.340402e+34   \n",
       "118256        118257                   inf            inf               inf   \n",
       "119062        130600         4.664290e+165  4.988469e+165     4.210933e+165   \n",
       "119920        119921                   inf            inf               inf   \n",
       "121411        125018          1.250180e+05   1.387890e+05      1.387900e+05   \n",
       "\n",
       "                                 ROLE_CODE    target  \n",
       "ROLE_ROLLUP_1 ROLE_ROLLUP_2                           \n",
       "117961        286791          1.179080e+05  0.000000  \n",
       "117978        119216          1.976169e+34  0.500000  \n",
       "118138        118139         5.613720e+123  0.761905  \n",
       "118212        119763         5.660869e+129  0.727273  \n",
       "              119836          1.974769e+34  0.500000  \n",
       "118256        118257                   inf  0.719844  \n",
       "119062        130600         4.211004e+165  0.500000  \n",
       "119920        119921                   inf  0.775862  \n",
       "121411        125018          1.178800e+05  0.000000  "
      ]
     },
     "execution_count": 32,
     "metadata": {},
     "output_type": "execute_result"
    }
   ],
   "source": [
    "rollups[rollups.target<0.8]"
   ]
  },
  {
   "cell_type": "code",
   "execution_count": 33,
   "metadata": {},
   "outputs": [
    {
     "data": {
      "text/plain": [
       "ROLE_ROLLUP_1  ROLE_ROLLUP_2\n",
       "117961         286791             1\n",
       "117978         119216             6\n",
       "118138         118139            21\n",
       "118212         119763            22\n",
       "               119836             6\n",
       "118256         118257           257\n",
       "119062         130600            28\n",
       "119920         119921            58\n",
       "121411         125018             1\n",
       "dtype: int64"
      ]
     },
     "execution_count": 33,
     "metadata": {},
     "output_type": "execute_result"
    }
   ],
   "source": [
    "index1=rollups[rollups.target<0.8].index\n",
    "df1.groupby(['ROLE_ROLLUP_1','ROLE_ROLLUP_2']).size()[index1]"
   ]
  },
  {
   "cell_type": "code",
   "execution_count": 57,
   "metadata": {},
   "outputs": [
    {
     "data": {
      "text/plain": [
       "56"
      ]
     },
     "execution_count": 57,
     "metadata": {},
     "output_type": "execute_result"
    }
   ],
   "source": [
    "code_desc=df1.groupby(['ROLE_FAMILY_DESC','ROLE_CODE']).apply(np.mean)\n",
    "code_desc['target'][code_desc['target']==0].count()"
   ]
  },
  {
   "cell_type": "code",
   "execution_count": 56,
   "metadata": {},
   "outputs": [
    {
     "data": {
      "text/plain": [
       "13180"
      ]
     },
     "execution_count": 56,
     "metadata": {},
     "output_type": "execute_result"
    }
   ],
   "source": [
    "index=code_desc['target'][code_desc['target']==1].index\n",
    "df1.groupby(['ROLE_FAMILY_DESC','ROLE_CODE']).size()[index].sum()"
   ]
  },
  {
   "cell_type": "code",
   "execution_count": 58,
   "metadata": {},
   "outputs": [
    {
     "data": {
      "text/plain": [
       "RESOURCE            3013\n",
       "MGR_ID              3013\n",
       "ROLE_ROLLUP_1       3013\n",
       "ROLE_ROLLUP_2       3013\n",
       "ROLE_DEPTNAME       3013\n",
       "ROLE_FAMILY_DESC    3013\n",
       "ROLE_CODE           3013\n",
       "target              3013\n",
       "dtype: int64"
      ]
     },
     "execution_count": 58,
     "metadata": {},
     "output_type": "execute_result"
    }
   ],
   "source": [
    "code_desc.count()"
   ]
  },
  {
   "cell_type": "code",
   "execution_count": 59,
   "metadata": {},
   "outputs": [
    {
     "data": {
      "text/plain": [
       "40"
      ]
     },
     "execution_count": 59,
     "metadata": {},
     "output_type": "execute_result"
    }
   ],
   "source": [
    "code_dept=df1.groupby(['ROLE_DEPTNAME','ROLE_CODE']).apply(np.mean)\n",
    "code_dept['target'][code_dept['target']==0].count()"
   ]
  },
  {
   "cell_type": "code",
   "execution_count": 60,
   "metadata": {},
   "outputs": [
    {
     "data": {
      "text/plain": [
       "RESOURCE            2946\n",
       "MGR_ID              2946\n",
       "ROLE_ROLLUP_1       2946\n",
       "ROLE_ROLLUP_2       2946\n",
       "ROLE_DEPTNAME       2946\n",
       "ROLE_FAMILY_DESC    2946\n",
       "ROLE_CODE           2946\n",
       "target              2946\n",
       "dtype: int64"
      ]
     },
     "execution_count": 60,
     "metadata": {},
     "output_type": "execute_result"
    }
   ],
   "source": [
    "code_dept.count()"
   ]
  },
  {
   "cell_type": "code",
   "execution_count": null,
   "metadata": {},
   "outputs": [],
   "source": []
  },
  {
   "cell_type": "code",
   "execution_count": null,
   "metadata": {},
   "outputs": [],
   "source": []
  },
  {
   "cell_type": "code",
   "execution_count": null,
   "metadata": {},
   "outputs": [],
   "source": []
  },
  {
   "cell_type": "code",
   "execution_count": 38,
   "metadata": {},
   "outputs": [],
   "source": [
    "role_rec=df1.groupby(['RESOURCE','ROLE_ROLLUP_1','ROLE_ROLLUP_1']).apply(np.mean)"
   ]
  },
  {
   "cell_type": "code",
   "execution_count": 39,
   "metadata": {},
   "outputs": [],
   "source": [
    "index=role_rec[role_rec['target']==0].index"
   ]
  },
  {
   "cell_type": "code",
   "execution_count": 40,
   "metadata": {},
   "outputs": [
    {
     "data": {
      "text/plain": [
       "4592"
      ]
     },
     "execution_count": 40,
     "metadata": {},
     "output_type": "execute_result"
    }
   ],
   "source": [
    "(df1.groupby(['RESOURCE','ROLE_ROLLUP_1','ROLE_ROLLUP_1']).size()>1).sum()"
   ]
  },
  {
   "cell_type": "code",
   "execution_count": 41,
   "metadata": {},
   "outputs": [
    {
     "data": {
      "text/plain": [
       "564"
      ]
     },
     "execution_count": 41,
     "metadata": {},
     "output_type": "execute_result"
    }
   ],
   "source": [
    "df1.groupby(['RESOURCE','ROLE_ROLLUP_1','ROLE_ROLLUP_1']).size()[index].sum()"
   ]
  },
  {
   "cell_type": "markdown",
   "metadata": {},
   "source": [
    "if we consider resource and both roll ups there are 504 combinations that are only present in target 0\n",
    "\n",
    "A total of 564 0s can be predicted with this.\n",
    "\n",
    "out of 11000 combinations only 4600 combinations have more than one occurance"
   ]
  },
  {
   "cell_type": "code",
   "execution_count": null,
   "metadata": {},
   "outputs": [],
   "source": []
  },
  {
   "cell_type": "code",
   "execution_count": 35,
   "metadata": {},
   "outputs": [],
   "source": [
    "newfeats=pd.DataFrame(df1['ROLE_ROLLUP_1']+df1['ROLE_ROLLUP_2'],columns=['ROLLUP_1+2'])\n"
   ]
  },
  {
   "cell_type": "code",
   "execution_count": 36,
   "metadata": {},
   "outputs": [
    {
     "name": "stderr",
     "output_type": "stream",
     "text": [
      "100%|██████████| 32769/32769 [00:08<00:00, 4088.56it/s]\n"
     ]
    }
   ],
   "source": [
    "RESOURCE_ACCESS_PROB=[]\n",
    "newfeats['RESOURCE']=df1['RESOURCE']\n",
    "for i in tqdm(newfeats.index):\n",
    "    ind=newfeats.loc[i]['RESOURCE']\n",
    "    RESOURCE_ACCESS_PROB.append(rec.loc[ind]['target'])\n",
    "newfeats['RESOURCE_ACCESS_PROB']=RESOURCE_ACCESS_PROB"
   ]
  },
  {
   "cell_type": "code",
   "execution_count": 37,
   "metadata": {},
   "outputs": [
    {
     "data": {
      "text/html": [
       "<div>\n",
       "<style scoped>\n",
       "    .dataframe tbody tr th:only-of-type {\n",
       "        vertical-align: middle;\n",
       "    }\n",
       "\n",
       "    .dataframe tbody tr th {\n",
       "        vertical-align: top;\n",
       "    }\n",
       "\n",
       "    .dataframe thead th {\n",
       "        text-align: right;\n",
       "    }\n",
       "</style>\n",
       "<table border=\"1\" class=\"dataframe\">\n",
       "  <thead>\n",
       "    <tr style=\"text-align: right;\">\n",
       "      <th></th>\n",
       "      <th>ROLLUP_1+2</th>\n",
       "      <th>RESOURCE</th>\n",
       "      <th>RESOURCE_ACCESS_PROB</th>\n",
       "    </tr>\n",
       "  </thead>\n",
       "  <tbody>\n",
       "    <tr>\n",
       "      <td>0</td>\n",
       "      <td>117961118300</td>\n",
       "      <td>39353</td>\n",
       "      <td>1.000000</td>\n",
       "    </tr>\n",
       "    <tr>\n",
       "      <td>1</td>\n",
       "      <td>117961118343</td>\n",
       "      <td>17183</td>\n",
       "      <td>0.966667</td>\n",
       "    </tr>\n",
       "    <tr>\n",
       "      <td>2</td>\n",
       "      <td>118219118220</td>\n",
       "      <td>36724</td>\n",
       "      <td>1.000000</td>\n",
       "    </tr>\n",
       "    <tr>\n",
       "      <td>3</td>\n",
       "      <td>117961118343</td>\n",
       "      <td>36135</td>\n",
       "      <td>1.000000</td>\n",
       "    </tr>\n",
       "    <tr>\n",
       "      <td>4</td>\n",
       "      <td>117929117930</td>\n",
       "      <td>42680</td>\n",
       "      <td>1.000000</td>\n",
       "    </tr>\n",
       "  </tbody>\n",
       "</table>\n",
       "</div>"
      ],
      "text/plain": [
       "     ROLLUP_1+2 RESOURCE  RESOURCE_ACCESS_PROB\n",
       "0  117961118300    39353              1.000000\n",
       "1  117961118343    17183              0.966667\n",
       "2  118219118220    36724              1.000000\n",
       "3  117961118343    36135              1.000000\n",
       "4  117929117930    42680              1.000000"
      ]
     },
     "execution_count": 37,
     "metadata": {},
     "output_type": "execute_result"
    }
   ],
   "source": [
    "newfeats.head()"
   ]
  },
  {
   "cell_type": "code",
   "execution_count": null,
   "metadata": {},
   "outputs": [],
   "source": []
  },
  {
   "cell_type": "code",
   "execution_count": 42,
   "metadata": {},
   "outputs": [],
   "source": [
    "from lightgbm import LGBMClassifier\n",
    "from sklearn.model_selection import cross_val_score,RandomizedSearchCV,StratifiedKFold"
   ]
  },
  {
   "cell_type": "code",
   "execution_count": 43,
   "metadata": {},
   "outputs": [
    {
     "data": {
      "text/html": [
       "<div>\n",
       "<style scoped>\n",
       "    .dataframe tbody tr th:only-of-type {\n",
       "        vertical-align: middle;\n",
       "    }\n",
       "\n",
       "    .dataframe tbody tr th {\n",
       "        vertical-align: top;\n",
       "    }\n",
       "\n",
       "    .dataframe thead th {\n",
       "        text-align: right;\n",
       "    }\n",
       "</style>\n",
       "<table border=\"1\" class=\"dataframe\">\n",
       "  <thead>\n",
       "    <tr style=\"text-align: right;\">\n",
       "      <th></th>\n",
       "      <th>RESOURCE</th>\n",
       "      <th>MGR_ID</th>\n",
       "      <th>ROLE_ROLLUP_1</th>\n",
       "      <th>ROLE_ROLLUP_2</th>\n",
       "      <th>ROLE_DEPTNAME</th>\n",
       "      <th>ROLE_FAMILY_DESC</th>\n",
       "      <th>ROLE_CODE</th>\n",
       "      <th>target</th>\n",
       "    </tr>\n",
       "  </thead>\n",
       "  <tbody>\n",
       "    <tr>\n",
       "      <td>0</td>\n",
       "      <td>39353</td>\n",
       "      <td>85475</td>\n",
       "      <td>117961</td>\n",
       "      <td>118300</td>\n",
       "      <td>123472</td>\n",
       "      <td>117906</td>\n",
       "      <td>117908</td>\n",
       "      <td>1</td>\n",
       "    </tr>\n",
       "    <tr>\n",
       "      <td>1</td>\n",
       "      <td>17183</td>\n",
       "      <td>1540</td>\n",
       "      <td>117961</td>\n",
       "      <td>118343</td>\n",
       "      <td>123125</td>\n",
       "      <td>118536</td>\n",
       "      <td>118539</td>\n",
       "      <td>1</td>\n",
       "    </tr>\n",
       "    <tr>\n",
       "      <td>2</td>\n",
       "      <td>36724</td>\n",
       "      <td>14457</td>\n",
       "      <td>118219</td>\n",
       "      <td>118220</td>\n",
       "      <td>117884</td>\n",
       "      <td>267952</td>\n",
       "      <td>117880</td>\n",
       "      <td>1</td>\n",
       "    </tr>\n",
       "    <tr>\n",
       "      <td>3</td>\n",
       "      <td>36135</td>\n",
       "      <td>5396</td>\n",
       "      <td>117961</td>\n",
       "      <td>118343</td>\n",
       "      <td>119993</td>\n",
       "      <td>240983</td>\n",
       "      <td>118322</td>\n",
       "      <td>1</td>\n",
       "    </tr>\n",
       "    <tr>\n",
       "      <td>4</td>\n",
       "      <td>42680</td>\n",
       "      <td>5905</td>\n",
       "      <td>117929</td>\n",
       "      <td>117930</td>\n",
       "      <td>119569</td>\n",
       "      <td>123932</td>\n",
       "      <td>119325</td>\n",
       "      <td>1</td>\n",
       "    </tr>\n",
       "  </tbody>\n",
       "</table>\n",
       "</div>"
      ],
      "text/plain": [
       "  RESOURCE MGR_ID ROLE_ROLLUP_1 ROLE_ROLLUP_2 ROLE_DEPTNAME ROLE_FAMILY_DESC  \\\n",
       "0    39353  85475        117961        118300        123472           117906   \n",
       "1    17183   1540        117961        118343        123125           118536   \n",
       "2    36724  14457        118219        118220        117884           267952   \n",
       "3    36135   5396        117961        118343        119993           240983   \n",
       "4    42680   5905        117929        117930        119569           123932   \n",
       "\n",
       "  ROLE_CODE  target  \n",
       "0    117908       1  \n",
       "1    118539       1  \n",
       "2    117880       1  \n",
       "3    118322       1  \n",
       "4    119325       1  "
      ]
     },
     "execution_count": 43,
     "metadata": {},
     "output_type": "execute_result"
    }
   ],
   "source": [
    "df1.head()"
   ]
  },
  {
   "cell_type": "code",
   "execution_count": 44,
   "metadata": {},
   "outputs": [],
   "source": [
    "x=df1.drop('target',axis=1)\n",
    "x=pd.get_dummies(x,drop_first=True)\n",
    "y=df1['target'].map({1:0,0:1})"
   ]
  },
  {
   "cell_type": "code",
   "execution_count": 45,
   "metadata": {},
   "outputs": [
    {
     "data": {
      "text/plain": [
       "(32769, 15209)"
      ]
     },
     "execution_count": 45,
     "metadata": {},
     "output_type": "execute_result"
    }
   ],
   "source": [
    "x.shape"
   ]
  },
  {
   "cell_type": "markdown",
   "metadata": {},
   "source": [
    "lgb=LGBMClassifier()\n",
    "params={'num_leaves':st.randint(10,50),\n",
    "    'max_depth':st.randint(5,50),\n",
    "    'learning_rate':st.uniform(0,1)}\n",
    "sf=StratifiedKFold(n_splits=5)\n",
    "rs=RandomizedSearchCV(lgb,param_distributions=params,cv=sf,random_state=7,scoring='roc_auc')\n",
    "m=rs.fit(x,y)\n",
    "lbp=m.best_params_\n",
    "print(m.best_score_)\n",
    "l=LGBMClassifier(**lbp)\n",
    "cv1=cross_val_score(l,x,y,scoring='roc_auc',cv=sf)\n",
    "cv2=cross_val_score(l,x,y,scoring='accuracy',cv=sf)\n",
    "cv3=cross_val_score(l,x,y,scoring='recall',cv=sf)\n",
    "print('ROC_AUC: ',cv1.mean()),\n",
    "print('Accuracy: ',cv2.mean())\n",
    "print('Recall: ',cv3.mean())"
   ]
  },
  {
   "cell_type": "markdown",
   "metadata": {},
   "source": [
    "from sklearn.naive_bayes import BernoulliNB\n",
    "nb=BernoulliNB()\n",
    "cv1=cross_val_score(nb,x,y,scoring='roc_auc',cv=sf)\n",
    "cv2=cross_val_score(nb,x,y,scoring='accuracy',cv=sf)\n",
    "cv3=cross_val_score(nb,x,y,scoring='recall',cv=sf)\n",
    "print('ROC_AUC: ',cv1.mean()),\n",
    "print('Accuracy: ',cv2.mean())\n",
    "print('Recall: ',cv3.mean())"
   ]
  },
  {
   "cell_type": "code",
   "execution_count": null,
   "metadata": {},
   "outputs": [],
   "source": []
  }
 ],
 "metadata": {
  "kernelspec": {
   "display_name": "Python 3",
   "language": "python",
   "name": "python3"
  },
  "language_info": {
   "codemirror_mode": {
    "name": "ipython",
    "version": 3
   },
   "file_extension": ".py",
   "mimetype": "text/x-python",
   "name": "python",
   "nbconvert_exporter": "python",
   "pygments_lexer": "ipython3",
   "version": "3.7.4"
  }
 },
 "nbformat": 4,
 "nbformat_minor": 2
}
