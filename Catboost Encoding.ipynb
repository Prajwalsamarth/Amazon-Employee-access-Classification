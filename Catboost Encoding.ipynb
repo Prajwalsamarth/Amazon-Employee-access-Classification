{
 "cells": [
  {
   "cell_type": "code",
   "execution_count": 1,
   "metadata": {},
   "outputs": [],
   "source": [
    "import numpy as np\n",
    "import pandas as pd \n",
    "import matplotlib.pyplot as plt\n",
    "import seaborn as sns \n",
    "import scipy.stats as st \n",
    "from tqdm import tqdm \n",
    "import os\n",
    "os.chdir('D:\\Shashi Katteri\\Desktop\\data sets to work on\\Amazon Employee Access\\Dataset_10')"
   ]
  },
  {
   "cell_type": "code",
   "execution_count": 2,
   "metadata": {},
   "outputs": [
    {
     "data": {
      "text/html": [
       "<div>\n",
       "<style scoped>\n",
       "    .dataframe tbody tr th:only-of-type {\n",
       "        vertical-align: middle;\n",
       "    }\n",
       "\n",
       "    .dataframe tbody tr th {\n",
       "        vertical-align: top;\n",
       "    }\n",
       "\n",
       "    .dataframe thead th {\n",
       "        text-align: right;\n",
       "    }\n",
       "</style>\n",
       "<table border=\"1\" class=\"dataframe\">\n",
       "  <thead>\n",
       "    <tr style=\"text-align: right;\">\n",
       "      <th></th>\n",
       "      <th>RESOURCE</th>\n",
       "      <th>MGR_ID</th>\n",
       "      <th>ROLE_ROLLUP_1</th>\n",
       "      <th>ROLE_ROLLUP_2</th>\n",
       "      <th>ROLE_DEPTNAME</th>\n",
       "      <th>ROLE_TITLE</th>\n",
       "      <th>ROLE_FAMILY_DESC</th>\n",
       "      <th>ROLE_FAMILY</th>\n",
       "      <th>ROLE_CODE</th>\n",
       "      <th>target</th>\n",
       "    </tr>\n",
       "  </thead>\n",
       "  <tbody>\n",
       "    <tr>\n",
       "      <td>0</td>\n",
       "      <td>39353</td>\n",
       "      <td>85475</td>\n",
       "      <td>117961</td>\n",
       "      <td>118300</td>\n",
       "      <td>123472</td>\n",
       "      <td>117905</td>\n",
       "      <td>117906</td>\n",
       "      <td>290919</td>\n",
       "      <td>117908</td>\n",
       "      <td>1</td>\n",
       "    </tr>\n",
       "    <tr>\n",
       "      <td>1</td>\n",
       "      <td>17183</td>\n",
       "      <td>1540</td>\n",
       "      <td>117961</td>\n",
       "      <td>118343</td>\n",
       "      <td>123125</td>\n",
       "      <td>118536</td>\n",
       "      <td>118536</td>\n",
       "      <td>308574</td>\n",
       "      <td>118539</td>\n",
       "      <td>1</td>\n",
       "    </tr>\n",
       "    <tr>\n",
       "      <td>2</td>\n",
       "      <td>36724</td>\n",
       "      <td>14457</td>\n",
       "      <td>118219</td>\n",
       "      <td>118220</td>\n",
       "      <td>117884</td>\n",
       "      <td>117879</td>\n",
       "      <td>267952</td>\n",
       "      <td>19721</td>\n",
       "      <td>117880</td>\n",
       "      <td>1</td>\n",
       "    </tr>\n",
       "    <tr>\n",
       "      <td>3</td>\n",
       "      <td>36135</td>\n",
       "      <td>5396</td>\n",
       "      <td>117961</td>\n",
       "      <td>118343</td>\n",
       "      <td>119993</td>\n",
       "      <td>118321</td>\n",
       "      <td>240983</td>\n",
       "      <td>290919</td>\n",
       "      <td>118322</td>\n",
       "      <td>1</td>\n",
       "    </tr>\n",
       "    <tr>\n",
       "      <td>4</td>\n",
       "      <td>42680</td>\n",
       "      <td>5905</td>\n",
       "      <td>117929</td>\n",
       "      <td>117930</td>\n",
       "      <td>119569</td>\n",
       "      <td>119323</td>\n",
       "      <td>123932</td>\n",
       "      <td>19793</td>\n",
       "      <td>119325</td>\n",
       "      <td>1</td>\n",
       "    </tr>\n",
       "  </tbody>\n",
       "</table>\n",
       "</div>"
      ],
      "text/plain": [
       "   RESOURCE  MGR_ID  ROLE_ROLLUP_1  ROLE_ROLLUP_2  ROLE_DEPTNAME  ROLE_TITLE  \\\n",
       "0     39353   85475         117961         118300         123472      117905   \n",
       "1     17183    1540         117961         118343         123125      118536   \n",
       "2     36724   14457         118219         118220         117884      117879   \n",
       "3     36135    5396         117961         118343         119993      118321   \n",
       "4     42680    5905         117929         117930         119569      119323   \n",
       "\n",
       "   ROLE_FAMILY_DESC  ROLE_FAMILY  ROLE_CODE  target  \n",
       "0            117906       290919     117908       1  \n",
       "1            118536       308574     118539       1  \n",
       "2            267952        19721     117880       1  \n",
       "3            240983       290919     118322       1  \n",
       "4            123932        19793     119325       1  "
      ]
     },
     "execution_count": 2,
     "metadata": {},
     "output_type": "execute_result"
    }
   ],
   "source": [
    "df=pd.read_csv('Amazon_employee_access.csv')\n",
    "df.head()"
   ]
  },
  {
   "cell_type": "code",
   "execution_count": 3,
   "metadata": {},
   "outputs": [],
   "source": [
    "df1=df.astype(str)\n",
    "df1['target']=df1['target'].astype(int)"
   ]
  },
  {
   "cell_type": "code",
   "execution_count": 4,
   "metadata": {},
   "outputs": [],
   "source": [
    "#df1['ROLE_ROLLUP_12']=df1['ROLE_ROLLUP_1']+df1['ROLE_ROLLUP_2']\n",
    "df1=df1.drop(['ROLE_TITLE','ROLE_FAMILY'],axis=1)\n"
   ]
  },
  {
   "cell_type": "code",
   "execution_count": 6,
   "metadata": {},
   "outputs": [],
   "source": [
    "from category_encoders import CatBoostEncoder\n",
    "from sklearn.model_selection import train_test_split,RandomizedSearchCV,cross_val_score,StratifiedKFold\n",
    "from sklearn.ensemble import RandomForestClassifier\n",
    "from lightgbm import LGBMClassifier\n",
    "from sklearn.metrics import *"
   ]
  },
  {
   "cell_type": "code",
   "execution_count": 7,
   "metadata": {},
   "outputs": [],
   "source": [
    "x=df1.drop('target',axis=1)\n",
    "y=df1['target']\n",
    "xtr,xts,ytr,yts=train_test_split(x,y,test_size=0.3,random_state=123)\n",
    "\n",
    "enc=CatBoostEncoder()\n",
    "xtr_enc=enc.fit_transform(xtr,ytr)\n",
    "xts_enc=enc.transform(xts)\n"
   ]
  },
  {
   "cell_type": "code",
   "execution_count": 8,
   "metadata": {},
   "outputs": [],
   "source": [
    "def aucroc(mod,x,y):\n",
    "    pred=mod.predict(x)\n",
    "    prob=mod.predict_proba(x)[:,1]\n",
    "    auc=roc_auc_score(y,prob)\n",
    "    acc=accuracy_score(y,pred)\n",
    "    print('AUC_ROC= ',auc)\n",
    "    print('Accuracy= ',acc)\n",
    "    print('confusion matrix:\\n',confusion_matrix(y,pred))\n",
    "    "
   ]
  },
  {
   "cell_type": "code",
   "execution_count": 9,
   "metadata": {},
   "outputs": [
    {
     "name": "stdout",
     "output_type": "stream",
     "text": [
      "RS: 0.7919007813033507\n",
      "params:  {'learning_rate': 0.022143913603027254, 'max_depth': 9, 'n_estimators': 239, 'num_leaves': 10}\n",
      "\n",
      "Train:\n",
      "AUC_ROC=  0.9589485821379052\n",
      "Accuracy=  0.9562734327317116\n",
      "confusion matrix:\n",
      " [[  371   955]\n",
      " [   48 21564]]\n",
      "\n",
      "Test:\n",
      "AUC_ROC=  0.8370478452792078\n",
      "Accuracy=  0.9443596785677958\n",
      "confusion matrix:\n",
      " [[  94  477]\n",
      " [  70 9190]]\n"
     ]
    }
   ],
   "source": [
    "lgb=LGBMClassifier()\n",
    "params={'num_leaves': st.randint(10,50),\n",
    "    'max_depth':st.randint(3,30) ,\n",
    "    'learning_rate':st.uniform(0,1) ,\n",
    "    'n_estimators':st.randint(100,250)}\n",
    "sf=StratifiedKFold()\n",
    "rs=RandomizedSearchCV(lgb,param_distributions=params,cv=sf,scoring='roc_auc',random_state=1234)\n",
    "m=rs.fit(xtr_enc,ytr)\n",
    "lbp=m.best_params_\n",
    "print('RS:',m.best_score_)\n",
    "print('params: ',lbp)\n",
    "lgb=LGBMClassifier()\n",
    "mod=lgb.fit(xtr_enc,ytr)\n",
    "print('\\nTrain:')\n",
    "aucroc(mod,xtr_enc,ytr)\n",
    "print('\\nTest:')\n",
    "aucroc(mod,xts_enc,yts)\n",
    "print('classification report\\n',classification_report(mod.predict(xts_enc),yts))\n"
   ]
  },
  {
   "cell_type": "code",
   "execution_count": 10,
   "metadata": {},
   "outputs": [
    {
     "name": "stdout",
     "output_type": "stream",
     "text": [
      "classification report\n",
      "               precision    recall  f1-score   support\n",
      "\n",
      "           0       0.16      0.57      0.26       164\n",
      "           1       0.99      0.95      0.97      9667\n",
      "\n",
      "    accuracy                           0.94      9831\n",
      "   macro avg       0.58      0.76      0.61      9831\n",
      "weighted avg       0.98      0.94      0.96      9831\n",
      "\n"
     ]
    }
   ],
   "source": [
    "print('classification report\\n',classification_report(mod.predict(xts_enc),yts))"
   ]
  },
  {
   "cell_type": "code",
   "execution_count": 13,
   "metadata": {},
   "outputs": [
    {
     "name": "stdout",
     "output_type": "stream",
     "text": [
      "RS: 0.7903153450697762\n",
      "params:  {'max_depth': 12, 'min_samples_leaf': 27, 'min_samples_split': 32, 'n_estimators': 224}\n",
      "\n",
      "Train:\n",
      "AUC_ROC=  0.8990713848431783\n",
      "Accuracy=  0.9462464033481559\n",
      "confusion matrix:\n",
      " [[  126  1200]\n",
      " [   33 21579]]\n",
      "\n",
      "Test:\n",
      "AUC_ROC=  0.8480242876541856\n",
      "Accuracy=  0.9441562404638388\n",
      "confusion matrix:\n",
      " [[  53  518]\n",
      " [  31 9229]]\n",
      "classification report\n",
      "               precision    recall  f1-score   support\n",
      "\n",
      "           0       0.09      0.63      0.16        84\n",
      "           1       1.00      0.95      0.97      9747\n",
      "\n",
      "    accuracy                           0.94      9831\n",
      "   macro avg       0.54      0.79      0.57      9831\n",
      "weighted avg       0.99      0.94      0.96      9831\n",
      "\n"
     ]
    }
   ],
   "source": [
    "rf=RandomForestClassifier()\n",
    "params1={'min_samples_split': st.randint(2,100),\n",
    "    'max_depth':st.randint(3,30) ,\n",
    "    'min_samples_leaf':st.randint(1,50) ,\n",
    "    'n_estimators':st.randint(100,250)\n",
    "       }\n",
    "sf=StratifiedKFold()\n",
    "rs=RandomizedSearchCV(rf,param_distributions=params1,cv=sf,scoring='roc_auc',random_state=1234)\n",
    "m=rs.fit(xtr_enc,ytr)\n",
    "rbp=m.best_params_\n",
    "print('RS:',m.best_score_)\n",
    "print('params: ',rbp)\n",
    "rf=RandomForestClassifier(**rbp)\n",
    "mod1=rf.fit(xtr_enc,ytr)\n",
    "print('\\nTrain:')\n",
    "aucroc(mod1,xtr_enc,ytr)\n",
    "print('\\nTest:')\n",
    "aucroc(mod1,xts_enc,yts)\n",
    "print('classification report\\n',classification_report(mod1.predict(xts_enc),yts))\n"
   ]
  },
  {
   "cell_type": "code",
   "execution_count": 14,
   "metadata": {},
   "outputs": [
    {
     "name": "stdout",
     "output_type": "stream",
     "text": [
      "\n",
      "Train:\n",
      "AUC_ROC=  0.9999999999999999\n",
      "Accuracy=  1.0\n",
      "confusion matrix:\n",
      " [[ 1326     0]\n",
      " [    0 21612]]\n",
      "\n",
      "Test:\n",
      "AUC_ROC=  0.8277504699799147\n",
      "Accuracy=  0.9454785881395585\n",
      "confusion matrix:\n",
      " [[  93  478]\n",
      " [  58 9202]]\n",
      "classification report\n",
      "               precision    recall  f1-score   support\n",
      "\n",
      "           0       0.16      0.62      0.26       151\n",
      "           1       0.99      0.95      0.97      9680\n",
      "\n",
      "    accuracy                           0.95      9831\n",
      "   macro avg       0.58      0.78      0.61      9831\n",
      "weighted avg       0.98      0.95      0.96      9831\n",
      "\n"
     ]
    }
   ],
   "source": [
    "lr=RandomForestClassifier()\n",
    "mod1=lr.fit(xtr_enc,ytr)\n",
    "print('\\nTrain:')\n",
    "aucroc(mod1,xtr_enc,ytr)\n",
    "print('\\nTest:')\n",
    "aucroc(mod1,xts_enc,yts)\n",
    "print('classification report\\n',classification_report(mod1.predict(xts_enc),yts))\n"
   ]
  },
  {
   "cell_type": "code",
   "execution_count": null,
   "metadata": {},
   "outputs": [],
   "source": []
  }
 ],
 "metadata": {
  "kernelspec": {
   "display_name": "Python 3",
   "language": "python",
   "name": "python3"
  },
  "language_info": {
   "codemirror_mode": {
    "name": "ipython",
    "version": 3
   },
   "file_extension": ".py",
   "mimetype": "text/x-python",
   "name": "python",
   "nbconvert_exporter": "python",
   "pygments_lexer": "ipython3",
   "version": "3.7.4"
  }
 },
 "nbformat": 4,
 "nbformat_minor": 2
}
