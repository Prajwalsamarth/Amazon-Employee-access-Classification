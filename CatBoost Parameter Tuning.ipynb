{
 "cells": [
  {
   "cell_type": "code",
   "execution_count": 1,
   "metadata": {},
   "outputs": [
    {
     "name": "stderr",
     "output_type": "stream",
     "text": [
      "C:\\ProgramData\\Anaconda3\\lib\\importlib\\_bootstrap.py:219: RuntimeWarning: numpy.ufunc size changed, may indicate binary incompatibility. Expected 192 from C header, got 216 from PyObject\n",
      "  return f(*args, **kwds)\n",
      "C:\\ProgramData\\Anaconda3\\lib\\importlib\\_bootstrap.py:219: RuntimeWarning: numpy.ufunc size changed, may indicate binary incompatibility. Expected 192 from C header, got 216 from PyObject\n",
      "  return f(*args, **kwds)\n"
     ]
    }
   ],
   "source": [
    "import numpy as np\n",
    "import pandas as pd \n",
    "import matplotlib.pyplot as plt\n",
    "import seaborn as sns \n",
    "import scipy.stats as st \n",
    "from tqdm import tqdm \n",
    "import os\n",
    "## Change directory to your working directory\n",
    "os.chdir('D:\\Shashi Katteri\\Desktop\\data sets to work on\\Amazon Employee Access\\Dataset_10')"
   ]
  },
  {
   "cell_type": "code",
   "execution_count": 2,
   "metadata": {},
   "outputs": [
    {
     "data": {
      "text/html": [
       "<div>\n",
       "<style scoped>\n",
       "    .dataframe tbody tr th:only-of-type {\n",
       "        vertical-align: middle;\n",
       "    }\n",
       "\n",
       "    .dataframe tbody tr th {\n",
       "        vertical-align: top;\n",
       "    }\n",
       "\n",
       "    .dataframe thead th {\n",
       "        text-align: right;\n",
       "    }\n",
       "</style>\n",
       "<table border=\"1\" class=\"dataframe\">\n",
       "  <thead>\n",
       "    <tr style=\"text-align: right;\">\n",
       "      <th></th>\n",
       "      <th>RESOURCE</th>\n",
       "      <th>MGR_ID</th>\n",
       "      <th>ROLE_ROLLUP_1</th>\n",
       "      <th>ROLE_ROLLUP_2</th>\n",
       "      <th>ROLE_DEPTNAME</th>\n",
       "      <th>ROLE_TITLE</th>\n",
       "      <th>ROLE_FAMILY_DESC</th>\n",
       "      <th>ROLE_FAMILY</th>\n",
       "      <th>ROLE_CODE</th>\n",
       "      <th>target</th>\n",
       "    </tr>\n",
       "  </thead>\n",
       "  <tbody>\n",
       "    <tr>\n",
       "      <td>0</td>\n",
       "      <td>39353</td>\n",
       "      <td>85475</td>\n",
       "      <td>117961</td>\n",
       "      <td>118300</td>\n",
       "      <td>123472</td>\n",
       "      <td>117905</td>\n",
       "      <td>117906</td>\n",
       "      <td>290919</td>\n",
       "      <td>117908</td>\n",
       "      <td>1</td>\n",
       "    </tr>\n",
       "    <tr>\n",
       "      <td>1</td>\n",
       "      <td>17183</td>\n",
       "      <td>1540</td>\n",
       "      <td>117961</td>\n",
       "      <td>118343</td>\n",
       "      <td>123125</td>\n",
       "      <td>118536</td>\n",
       "      <td>118536</td>\n",
       "      <td>308574</td>\n",
       "      <td>118539</td>\n",
       "      <td>1</td>\n",
       "    </tr>\n",
       "    <tr>\n",
       "      <td>2</td>\n",
       "      <td>36724</td>\n",
       "      <td>14457</td>\n",
       "      <td>118219</td>\n",
       "      <td>118220</td>\n",
       "      <td>117884</td>\n",
       "      <td>117879</td>\n",
       "      <td>267952</td>\n",
       "      <td>19721</td>\n",
       "      <td>117880</td>\n",
       "      <td>1</td>\n",
       "    </tr>\n",
       "    <tr>\n",
       "      <td>3</td>\n",
       "      <td>36135</td>\n",
       "      <td>5396</td>\n",
       "      <td>117961</td>\n",
       "      <td>118343</td>\n",
       "      <td>119993</td>\n",
       "      <td>118321</td>\n",
       "      <td>240983</td>\n",
       "      <td>290919</td>\n",
       "      <td>118322</td>\n",
       "      <td>1</td>\n",
       "    </tr>\n",
       "    <tr>\n",
       "      <td>4</td>\n",
       "      <td>42680</td>\n",
       "      <td>5905</td>\n",
       "      <td>117929</td>\n",
       "      <td>117930</td>\n",
       "      <td>119569</td>\n",
       "      <td>119323</td>\n",
       "      <td>123932</td>\n",
       "      <td>19793</td>\n",
       "      <td>119325</td>\n",
       "      <td>1</td>\n",
       "    </tr>\n",
       "  </tbody>\n",
       "</table>\n",
       "</div>"
      ],
      "text/plain": [
       "   RESOURCE  MGR_ID  ROLE_ROLLUP_1  ...  ROLE_FAMILY  ROLE_CODE  target\n",
       "0     39353   85475         117961  ...       290919     117908       1\n",
       "1     17183    1540         117961  ...       308574     118539       1\n",
       "2     36724   14457         118219  ...        19721     117880       1\n",
       "3     36135    5396         117961  ...       290919     118322       1\n",
       "4     42680    5905         117929  ...        19793     119325       1\n",
       "\n",
       "[5 rows x 10 columns]"
      ]
     },
     "execution_count": 2,
     "metadata": {},
     "output_type": "execute_result"
    }
   ],
   "source": [
    "df=pd.read_csv('Amazon_employee_access.csv')\n",
    "df.head()"
   ]
  },
  {
   "cell_type": "code",
   "execution_count": 3,
   "metadata": {},
   "outputs": [],
   "source": [
    "df1=df.astype(str)\n",
    "df1['target']=df1['target'].astype(int)"
   ]
  },
  {
   "cell_type": "code",
   "execution_count": 4,
   "metadata": {},
   "outputs": [],
   "source": [
    "#df1['ROLE_ROLLUP_12']=df1['ROLE_ROLLUP_1']+df1['ROLE_ROLLUP_2']\n",
    "df1=df1.drop(['ROLE_TITLE','ROLE_FAMILY'],axis=1)\n"
   ]
  },
  {
   "cell_type": "code",
   "execution_count": 5,
   "metadata": {},
   "outputs": [],
   "source": [
    "df1['target']=df1['target'].map({1:0,0:1})"
   ]
  },
  {
   "cell_type": "code",
   "execution_count": 6,
   "metadata": {},
   "outputs": [],
   "source": [
    "df1['ROLLUP_12']=df1['ROLE_ROLLUP_1']+df1['ROLE_ROLLUP_2']\n",
    "df1=df1.drop(['ROLE_ROLLUP_1','ROLE_ROLLUP_2'],axis=1)"
   ]
  },
  {
   "cell_type": "code",
   "execution_count": 7,
   "metadata": {},
   "outputs": [
    {
     "data": {
      "text/html": [
       "<div>\n",
       "<style scoped>\n",
       "    .dataframe tbody tr th:only-of-type {\n",
       "        vertical-align: middle;\n",
       "    }\n",
       "\n",
       "    .dataframe tbody tr th {\n",
       "        vertical-align: top;\n",
       "    }\n",
       "\n",
       "    .dataframe thead th {\n",
       "        text-align: right;\n",
       "    }\n",
       "</style>\n",
       "<table border=\"1\" class=\"dataframe\">\n",
       "  <thead>\n",
       "    <tr style=\"text-align: right;\">\n",
       "      <th></th>\n",
       "      <th>RESOURCE</th>\n",
       "      <th>MGR_ID</th>\n",
       "      <th>ROLE_DEPTNAME</th>\n",
       "      <th>ROLE_FAMILY_DESC</th>\n",
       "      <th>ROLE_CODE</th>\n",
       "      <th>target</th>\n",
       "      <th>ROLLUP_12</th>\n",
       "    </tr>\n",
       "  </thead>\n",
       "  <tbody>\n",
       "    <tr>\n",
       "      <td>0</td>\n",
       "      <td>39353</td>\n",
       "      <td>85475</td>\n",
       "      <td>123472</td>\n",
       "      <td>117906</td>\n",
       "      <td>117908</td>\n",
       "      <td>0</td>\n",
       "      <td>117961118300</td>\n",
       "    </tr>\n",
       "    <tr>\n",
       "      <td>1</td>\n",
       "      <td>17183</td>\n",
       "      <td>1540</td>\n",
       "      <td>123125</td>\n",
       "      <td>118536</td>\n",
       "      <td>118539</td>\n",
       "      <td>0</td>\n",
       "      <td>117961118343</td>\n",
       "    </tr>\n",
       "    <tr>\n",
       "      <td>2</td>\n",
       "      <td>36724</td>\n",
       "      <td>14457</td>\n",
       "      <td>117884</td>\n",
       "      <td>267952</td>\n",
       "      <td>117880</td>\n",
       "      <td>0</td>\n",
       "      <td>118219118220</td>\n",
       "    </tr>\n",
       "    <tr>\n",
       "      <td>3</td>\n",
       "      <td>36135</td>\n",
       "      <td>5396</td>\n",
       "      <td>119993</td>\n",
       "      <td>240983</td>\n",
       "      <td>118322</td>\n",
       "      <td>0</td>\n",
       "      <td>117961118343</td>\n",
       "    </tr>\n",
       "    <tr>\n",
       "      <td>4</td>\n",
       "      <td>42680</td>\n",
       "      <td>5905</td>\n",
       "      <td>119569</td>\n",
       "      <td>123932</td>\n",
       "      <td>119325</td>\n",
       "      <td>0</td>\n",
       "      <td>117929117930</td>\n",
       "    </tr>\n",
       "  </tbody>\n",
       "</table>\n",
       "</div>"
      ],
      "text/plain": [
       "  RESOURCE MGR_ID ROLE_DEPTNAME  ... ROLE_CODE target     ROLLUP_12\n",
       "0    39353  85475        123472  ...    117908      0  117961118300\n",
       "1    17183   1540        123125  ...    118539      0  117961118343\n",
       "2    36724  14457        117884  ...    117880      0  118219118220\n",
       "3    36135   5396        119993  ...    118322      0  117961118343\n",
       "4    42680   5905        119569  ...    119325      0  117929117930\n",
       "\n",
       "[5 rows x 7 columns]"
      ]
     },
     "execution_count": 7,
     "metadata": {},
     "output_type": "execute_result"
    }
   ],
   "source": [
    "df1.head()"
   ]
  },
  {
   "cell_type": "markdown",
   "metadata": {},
   "source": [
    "# Combinations with brute force \n"
   ]
  },
  {
   "cell_type": "code",
   "execution_count": 8,
   "metadata": {},
   "outputs": [
    {
     "name": "stdout",
     "output_type": "stream",
     "text": [
      "<class 'pandas.core.frame.DataFrame'>\n",
      "RangeIndex: 32769 entries, 0 to 32768\n",
      "Data columns (total 22 columns):\n",
      "RESOURCE                          32769 non-null object\n",
      "MGR_ID                            32769 non-null object\n",
      "ROLE_DEPTNAME                     32769 non-null object\n",
      "ROLE_FAMILY_DESC                  32769 non-null object\n",
      "ROLE_CODE                         32769 non-null object\n",
      "target                            32769 non-null int64\n",
      "ROLLUP_12                         32769 non-null object\n",
      "RESOURCE_MGR_ID                   32769 non-null object\n",
      "RESOURCE_ROLE_DEPTNAME            32769 non-null object\n",
      "RESOURCE_ROLE_FAMILY_DESC         32769 non-null object\n",
      "RESOURCE_ROLE_CODE                32769 non-null object\n",
      "RESOURCE_ROLLUP_12                32769 non-null object\n",
      "MGR_ID_ROLE_DEPTNAME              32769 non-null object\n",
      "MGR_ID_ROLE_FAMILY_DESC           32769 non-null object\n",
      "MGR_ID_ROLE_CODE                  32769 non-null object\n",
      "MGR_ID_ROLLUP_12                  32769 non-null object\n",
      "ROLE_DEPTNAME_ROLE_FAMILY_DESC    32769 non-null object\n",
      "ROLE_DEPTNAME_ROLE_CODE           32769 non-null object\n",
      "ROLE_DEPTNAME_ROLLUP_12           32769 non-null object\n",
      "ROLE_FAMILY_DESC_ROLE_CODE        32769 non-null object\n",
      "ROLE_FAMILY_DESC_ROLLUP_12        32769 non-null object\n",
      "ROLE_CODE_ROLLUP_12               32769 non-null object\n",
      "dtypes: int64(1), object(21)\n",
      "memory usage: 5.5+ MB\n"
     ]
    }
   ],
   "source": [
    "from itertools import combinations\n",
    "\n",
    "cols=list(df1.columns)\n",
    "cols.remove('target')\n",
    "d=df1.copy()\n",
    "\n",
    "for j in combinations(cols,2):\n",
    "    d[j[0]+'_'+j[1]]=df1[j[0]]+df1[j[1]]\n",
    "    \n",
    "d.info()"
   ]
  },
  {
   "cell_type": "code",
   "execution_count": 9,
   "metadata": {},
   "outputs": [
    {
     "name": "stderr",
     "output_type": "stream",
     "text": [
      "C:\\ProgramData\\Anaconda3\\lib\\importlib\\_bootstrap.py:219: RuntimeWarning: numpy.ufunc size changed, may indicate binary incompatibility. Expected 192 from C header, got 216 from PyObject\n",
      "  return f(*args, **kwds)\n"
     ]
    }
   ],
   "source": [
    "from lightgbm import LGBMClassifier\n",
    "from sklearn.metrics import *\n",
    "from sklearn.model_selection import train_test_split,StratifiedKFold,KFold\n",
    "from catboost import CatBoostClassifier"
   ]
  },
  {
   "cell_type": "code",
   "execution_count": 10,
   "metadata": {},
   "outputs": [],
   "source": [
    "def aucroc(mod,x,y):\n",
    "    pred=mod.predict(x)\n",
    "    prob=mod.predict_proba(x)[:,1]\n",
    "    auc=roc_auc_score(y,prob)\n",
    "    \n",
    "    return auc"
   ]
  },
  {
   "cell_type": "code",
   "execution_count": 11,
   "metadata": {},
   "outputs": [],
   "source": [
    "import warnings\n",
    "warnings.filterwarnings('ignore')\n",
    "def kfold_AS_target(train,test,columns,target,weight,folds=10):\n",
    "    \n",
    "    columns=list(columns)\n",
    "    kf=KFold()\n",
    "    t=train\n",
    "    v=test\n",
    "    gm=t[target].mean()\n",
    "    for col in columns:\n",
    "        \n",
    "        for i,j in kf.split(t):\n",
    "            gb=t.loc[t.index[i]].groupby(col)[target].agg(['count','mean'])\n",
    "            count=gb['count']\n",
    "            mean=gb['mean']\n",
    "            gb['smooth']=(count*mean + weight*gm)/(count+weight)\n",
    "            t.loc[t.index[j],col+'_enc']=t.loc[t.index[j],col].map(gb['smooth'])\n",
    "            \n",
    "        t[col+'_enc']=t[col+'_enc'].fillna(gm)\n",
    "        \n",
    "        gb=t.groupby(col)[target].agg(['count','mean'])\n",
    "        count=gb['count']\n",
    "        mean=gb['mean']\n",
    "        gb['smooth']=(count*mean + weight*gm)/(count+weight)\n",
    "        \n",
    "        v[col+'_enc']=v[col].map(gb['smooth'])\n",
    "        v[col+'_enc']=v[col+'_enc'].fillna(gm)\n",
    "        \n",
    "    t=t.drop(columns,axis=1)\n",
    "    v=v.drop(columns,axis=1)\n",
    "\n",
    "    return t,v\n",
    "        "
   ]
  },
  {
   "cell_type": "code",
   "execution_count": 12,
   "metadata": {},
   "outputs": [],
   "source": [
    "def cross_val(algo,d,columns,target):\n",
    "    sf=StratifiedKFold(n_splits=10)\n",
    "    model=algo\n",
    "    fold=0\n",
    "    fold_mod=[]\n",
    "    x=df.drop(target,axis=1)\n",
    "    y=df[target]\n",
    "    for i,j in sf.split(x,y):\n",
    "\n",
    "        fold=fold+1\n",
    "\n",
    "        train=d.iloc[i]\n",
    "        test=d.iloc[j]\n",
    "        \n",
    "        c=columns+[target]\n",
    "        t,v=kfold_AS_target(train[c],test[c],columns,target,100,folds=10)\n",
    "\n",
    "\n",
    "        xtr=t.drop(target,axis=1)\n",
    "        xts=v.drop(target,axis=1)\n",
    "        ytr=t[target]\n",
    "        yts=v[target]\n",
    "\n",
    "\n",
    "        mod=model.fit(xtr,ytr)\n",
    "\n",
    "        auc=aucroc(mod,xts,yts)\n",
    "        fold_mod.append(auc)\n",
    "    return fold_mod\n"
   ]
  },
  {
   "cell_type": "code",
   "execution_count": 13,
   "metadata": {},
   "outputs": [],
   "source": [
    "def eliminate(algo,cols,df,target):\n",
    "    \n",
    "    high=0\n",
    "\n",
    "    for i in tqdm(cols):\n",
    "        c=cols.copy()\n",
    "        c.remove(i)\n",
    "\n",
    "       \n",
    "        auc=cross_val(algo,df,c,target)\n",
    "        auc_sc=np.array(auc).mean()\n",
    "        if auc_sc>high:\n",
    "            high=auc_sc\n",
    "            r=i\n",
    "\n",
    "    return high,r\n",
    "\n",
    "\n",
    "def col_select(algo,step,df,cols,target):\n",
    "    \n",
    "    \n",
    "    \n",
    "    p=[]\n",
    "    removed=[]\n",
    "\n",
    "    high_current=0\n",
    "    removed_new=[]\n",
    "    high_new=0\n",
    "    best=0\n",
    "   # best_rem=[]\n",
    "    while high_current-high_new<step:    \n",
    "\n",
    "\n",
    "        removed=removed+removed_new\n",
    "        print(len(removed))\n",
    "        removed_new=[]\n",
    "\n",
    "\n",
    "        if high_current==0:\n",
    "            high_new,r=eliminate(algo,cols,df,target)\n",
    "        else:\n",
    "            high_current=high_new\n",
    "        if len(cols)>2:\n",
    "            \n",
    "            while high_new>=high_current:\n",
    "                cols.remove(r)\n",
    "                removed_new.append(r)\n",
    "                high_current=high_new\n",
    "\n",
    "                high_new,r=eliminate(algo,cols,df,target)\n",
    "                print(high_new)\n",
    "                if high_new>best:\n",
    "                    best=high_new\n",
    "                    best_rem=removed+removed_new+[r]\n",
    "                    print(best_rem)\n",
    "        else:\n",
    "            break\n",
    "\n",
    "    print('high_auc=',high_current)\n",
    "    print('auc_one step ahead=',high_new)\n",
    "    print('removed: ',removed)\n",
    "    print('len=',len(removed))\n",
    "    print('best=',best)\n",
    "    print('best_rem=',best_rem)"
   ]
  },
  {
   "cell_type": "code",
   "execution_count": 14,
   "metadata": {},
   "outputs": [],
   "source": [
    "rem=['MGR_ID_ROLE_DEPTNAME', 'MGR_ID', 'ROLE_DEPTNAME_ROLLUP_12', 'MGR_ID_ROLLUP_12', 'ROLLUP_12', 'ROLE_CODE_ROLLUP_12',\n",
    "     'RESOURCE_ROLE_FAMILY_DESC']\n",
    "d1=d.drop(rem,axis=1)"
   ]
  },
  {
   "cell_type": "code",
   "execution_count": 35,
   "metadata": {},
   "outputs": [
    {
     "name": "stderr",
     "output_type": "stream",
     "text": [
      "\n",
      "\n",
      "  0%|          | 0/4 [00:00<?, ?it/s]\n",
      "\n",
      " 25%|██▌       | 1/4 [01:50<05:31, 110.61s/it]\n",
      "\n",
      " 50%|█████     | 2/4 [03:51<03:47, 113.82s/it]\n",
      "\n",
      " 75%|███████▌  | 3/4 [06:52<02:13, 133.78s/it]\n",
      "\n",
      "100%|██████████| 4/4 [10:30<00:00, 157.66s/it]\n",
      "\n",
      "\n",
      "  0%|          | 0/4 [00:00<?, ?it/s]\n",
      "\n",
      " 25%|██▌       | 1/4 [01:52<05:38, 112.86s/it]\n",
      "\n",
      " 50%|█████     | 2/4 [04:02<03:55, 117.74s/it]\n",
      "\n",
      " 75%|███████▌  | 3/4 [07:14<02:20, 140.21s/it]\n",
      "\n",
      "100%|██████████| 4/4 [11:02<00:00, 165.65s/it]\n"
     ]
    },
    {
     "name": "stdout",
     "output_type": "stream",
     "text": [
      "0.8969193305105796\n",
      "{'iterations': 250, 'learning_rate': 0.001, 'depth': 7, 'n_estimators': None, 'verbose': False, 'eval_metric': 'AUC', 'loss_function': 'CrossEntropy'}\n"
     ]
    }
   ],
   "source": [
    "cols=list(d1.columns)\n",
    "cols.remove('target')\n",
    "target='target'\n",
    "\n",
    "params={'iterations':None,'learning_rate':None,'depth':None,'n_estimators':None,'verbose':False,'eval_metric':'AUC',\n",
    "        'loss_function':'CrossEntropy'}\n",
    "iterations=[100,150,200,250]\n",
    "learning_rate=[0.01,0.001]\n",
    "depth=[5,6,7]\n",
    "best=0\n",
    "#early_stopping_rounds=[5,10,15]\n",
    "\n",
    "for i in learning_rate:\n",
    "    params['learning_rate']=i\n",
    "    for j in tqdm(iterations):\n",
    "        params['iterations']=j\n",
    "        for k in depth:\n",
    "            params['depth']=k\n",
    "            \n",
    "            cb=CatBoostClassifier(**params)\n",
    "            auc=cross_val(cb,d1,cols,target)\n",
    "            auc_avg=np.array(auc).mean()\n",
    "            if auc_avg>best:\n",
    "                best=auc_avg\n",
    "                bp=params\n",
    "print(best)\n",
    "print(bp)\n"
   ]
  },
  {
   "cell_type": "code",
   "execution_count": 24,
   "metadata": {},
   "outputs": [],
   "source": [
    "params={'iterations':250,'learning_rate':0.01,'depth':7,'verbose':False,'eval_metric':'AUC',\n",
    "        'loss_function':'CrossEntropy'}\n",
    "cb=CatBoostClassifier(**params)\n",
    "auc=cross_val(cb,d1,cols,target)\n",
    "auc_avg=np.array(auc).mean()"
   ]
  },
  {
   "cell_type": "code",
   "execution_count": 25,
   "metadata": {},
   "outputs": [
    {
     "data": {
      "text/plain": [
       "0.8969193305105796"
      ]
     },
     "execution_count": 25,
     "metadata": {},
     "output_type": "execute_result"
    }
   ],
   "source": [
    " auc_avg"
   ]
  },
  {
   "cell_type": "code",
   "execution_count": 26,
   "metadata": {},
   "outputs": [],
   "source": [
    "cb=CatBoostClassifier(learning_rate=0.01,loss_function='CrossEntropy',eval_metric='AUC',verbose=False)\n",
    "auc=cross_val(cb,d1,cols,target)\n",
    "auc_avg=np.array(auc).mean()"
   ]
  },
  {
   "cell_type": "code",
   "execution_count": 21,
   "metadata": {},
   "outputs": [
    {
     "data": {
      "text/plain": [
       "0.8934121846393474"
      ]
     },
     "execution_count": 21,
     "metadata": {},
     "output_type": "execute_result"
    }
   ],
   "source": [
    "auc_avg"
   ]
  },
  {
   "cell_type": "code",
   "execution_count": 32,
   "metadata": {},
   "outputs": [],
   "source": [
    "params={'learning_rate':0.01,'depth':6,'verbose':False,'eval_metric':'AUC',\n",
    "        'loss_function':'CrossEntropy'}\n",
    "cb=CatBoostClassifier(**params)\n",
    "auc=cross_val(cb,d1,cols,target)\n",
    "auc_avg=np.array(auc).mean()"
   ]
  },
  {
   "cell_type": "code",
   "execution_count": 33,
   "metadata": {},
   "outputs": [
    {
     "data": {
      "text/plain": [
       "0.9009014475905552"
      ]
     },
     "execution_count": 33,
     "metadata": {},
     "output_type": "execute_result"
    }
   ],
   "source": [
    "auc_avg"
   ]
  },
  {
   "cell_type": "code",
   "execution_count": 34,
   "metadata": {},
   "outputs": [
    {
     "data": {
      "text/plain": [
       "[0.8936161828001206,\n",
       " 0.9023948309893907,\n",
       " 0.9301348609619287,\n",
       " 0.9025062656641605,\n",
       " 0.8858583533664092,\n",
       " 0.9028302047636096,\n",
       " 0.8888786592331168,\n",
       " 0.8997843247574718,\n",
       " 0.9066970146454572,\n",
       " 0.8963137787238855]"
      ]
     },
     "execution_count": 34,
     "metadata": {},
     "output_type": "execute_result"
    }
   ],
   "source": []
  },
  {
   "cell_type": "code",
   "execution_count": null,
   "metadata": {},
   "outputs": [],
   "source": []
  }
 ],
 "metadata": {
  "kernelspec": {
   "display_name": "Python 3",
   "language": "python",
   "name": "python3"
  },
  "language_info": {
   "codemirror_mode": {
    "name": "ipython",
    "version": 3
   },
   "file_extension": ".py",
   "mimetype": "text/x-python",
   "name": "python",
   "nbconvert_exporter": "python",
   "pygments_lexer": "ipython3",
   "version": "3.7.4"
  }
 },
 "nbformat": 4,
 "nbformat_minor": 2
}
